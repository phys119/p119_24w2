{
 "cells": [
  {
   "attachments": {},
   "cell_type": "markdown",
   "id": "c0a76f2d-ef0a-4eee-9411-c124f1e08887",
   "metadata": {},
   "source": [
    "# Prelab 06: A review of residuals and fitting"
   ]
  },
  {
   "cell_type": "code",
   "execution_count": 1,
   "id": "1b294a4c-e07a-43e6-b6e9-de737f89c959",
   "metadata": {},
   "outputs": [],
   "source": [
    "%reset -f\n",
    "import data_entry2\n",
    "import numpy as np\n",
    "import matplotlib.pyplot as plt\n",
    "import fit_plot\n",
    "%matplotlib widget"
   ]
  },
  {
   "attachments": {},
   "cell_type": "markdown",
   "id": "b1c7e749-6d19-48d1-a16a-05da741efad5",
   "metadata": {},
   "source": [
    "This prelab focuses on revisting and reinforcing concepts from Lab 05. We start with a review of residual plots."
   ]
  },
  {
   "attachments": {},
   "cell_type": "markdown",
   "id": "b692a95b-892b-4b2f-bd5a-f0e39d5a3f98",
   "metadata": {
    "tags": []
   },
   "source": [
    "## Review: How to read residuals"
   ]
  },
  {
   "attachments": {},
   "cell_type": "markdown",
   "id": "41d4bf3d-1d4a-40f3-b2d0-93308f296326",
   "metadata": {},
   "source": [
    "**Your turn #1a:** Given experimental data and a model for that data, what is a residual?"
   ]
  },
  {
   "attachments": {},
   "cell_type": "markdown",
   "id": "363e57f7-4fc5-4f76-91c2-0d70bf4da8e7",
   "metadata": {},
   "source": []
  },
  {
   "attachments": {},
   "cell_type": "markdown",
   "id": "8da66fa7-4e33-439b-b45a-2a351a589242",
   "metadata": {},
   "source": [
    "**Your turn #1b:** What are the properties of a residual plot that inform us that the model is a good fit to the data?"
   ]
  },
  {
   "attachments": {},
   "cell_type": "markdown",
   "id": "8da6fda0-d830-4cb4-bd0e-6ad8ad148363",
   "metadata": {},
   "source": []
  },
  {
   "attachments": {},
   "cell_type": "markdown",
   "id": "7549b6de-1d02-48d6-b146-f0f1288bc4e5",
   "metadata": {
    "jp-MarkdownHeadingCollapsed": true,
    "tags": []
   },
   "source": [
    "##### **Answer for #1a:**"
   ]
  },
  {
   "attachments": {},
   "cell_type": "markdown",
   "id": "972fe2f5-6877-4274-9626-cec7dbceb3f3",
   "metadata": {},
   "source": [
    "A residual is defined as the difference between experimental data and a model, i.e., $r_i = y_i - f(x_i)$."
   ]
  },
  {
   "attachments": {},
   "cell_type": "markdown",
   "id": "58c9b12a-6304-495f-965d-27d5331160b9",
   "metadata": {
    "jp-MarkdownHeadingCollapsed": true,
    "tags": []
   },
   "source": [
    "##### **Answer for #1b:**"
   ]
  },
  {
   "attachments": {},
   "cell_type": "markdown",
   "id": "254156ce-7308-4af7-b048-430ce9b69622",
   "metadata": {},
   "source": [
    "A model that is a good fit to the data will have a residual plot with:<font>\n",
    "- No obvious trend\n",
    "- A roughly equal scatter of points across the $x$-axis ($x = 0$)\n",
    "- And if the uncertainties are well characterized, we will also see\n",
    "    + Roughly ~68% of error bars crossing the $x$-axis\n",
    "    + Roughly all (~95%) of doubled error bars crossing the $x$-axis"
   ]
  },
  {
   "attachments": {},
   "cell_type": "markdown",
   "id": "6390dd02-f08d-4252-bb0a-d5f385ce7fc9",
   "metadata": {
    "tags": []
   },
   "source": [
    "## Diagnosing model fits using residuals"
   ]
  },
  {
   "attachments": {},
   "cell_type": "markdown",
   "id": "aaf4324a-09c6-4130-b704-29127f256c2b",
   "metadata": {},
   "source": [
    "Now that we have reminded ourselves of how to use residuals to diagnose the goodness of fit of a model to a given set of experimental data, let's use these criteria to diagnose some fits. Below, we have three data sets to which we have tried to fit the model of a straight line with intercept; $y = mx + b$. We provide a `slope` and `intercept` for an initial fit and ask you to diagnose what needs to be changed to improve the quality of the fit."
   ]
  },
  {
   "cell_type": "code",
   "execution_count": null,
   "id": "06a9ffbc-a740-4bc5-bc71-1a4c1bcfdaa1",
   "metadata": {},
   "outputs": [
    {
     "name": "stdout",
     "output_type": "stream",
     "text": [
      "Sheet name: lab06_prelab_data.csv\n"
     ]
    },
    {
     "data": {
      "application/vnd.jupyter.widget-view+json": {
       "model_id": "a4ad0efa6eb14569a57ff1b8440d5be4",
       "version_major": 2,
       "version_minor": 0
      },
      "text/plain": [
       "VBox(children=(HBox(children=(Button(description='Undo', style=ButtonStyle()), Button(description='Redo', styl…"
      ]
     },
     "metadata": {},
     "output_type": "display_data"
    }
   ],
   "source": [
    "# Run me to load our three data sets\n",
    "# Make sure to hit the \"Generate Vectors\" button!\n",
    "\n",
    "de1 = data_entry2.sheet(\"lab06_prelab_data.csv\")"
   ]
  },
  {
   "attachments": {},
   "cell_type": "markdown",
   "id": "f8709fc8-68e5-43d3-9603-50b5479709af",
   "metadata": {
    "tags": []
   },
   "source": [
    "### Your turn #2 (Dataset 1)\n",
    "Answer the questions below related to the fit shown and then for part c, update the fitting parameters to get a better fit. \n",
    "\n",
    "![data set 1](https://i.ibb.co/r7ShPLk/data1.png)"
   ]
  },
  {
   "attachments": {},
   "cell_type": "markdown",
   "id": "11a6012a-3e0c-4f2b-b03d-3c4015a14375",
   "metadata": {},
   "source": [
    "#### **Your turn #2a:** Which feature(s) of the **residual** plot above indicates a problem with the fit of the model to the data?"
   ]
  },
  {
   "attachments": {},
   "cell_type": "markdown",
   "id": "c553ab4b-faa9-427a-9c3a-53d3fbc063d0",
   "metadata": {},
   "source": []
  },
  {
   "attachments": {},
   "cell_type": "markdown",
   "id": "abc01138-0e86-42e0-81f8-4c25039a3d15",
   "metadata": {
    "jp-MarkdownHeadingCollapsed": true,
    "tags": []
   },
   "source": [
    "##### **Answer #2a**"
   ]
  },
  {
   "attachments": {},
   "cell_type": "markdown",
   "id": "23af65be-6850-40d2-9625-a1dab9e21be4",
   "metadata": {},
   "source": [
    "We see a trend in the residuals where all of the residuals are negative, lying below the residuals = 0 line."
   ]
  },
  {
   "attachments": {},
   "cell_type": "markdown",
   "id": "4a62d3da-ca26-4c3d-9287-d7c20edfefe0",
   "metadata": {},
   "source": [
    "#### **Your turn #2b:** What should be changed about the model to improve the fit?"
   ]
  },
  {
   "attachments": {},
   "cell_type": "markdown",
   "id": "1c0a7ca6-c813-4dd8-94f0-372f6a2d021b",
   "metadata": {},
   "source": []
  },
  {
   "attachments": {},
   "cell_type": "markdown",
   "id": "c35a95b1-8aa2-4605-aa84-74e88f723207",
   "metadata": {
    "jp-MarkdownHeadingCollapsed": true,
    "tags": []
   },
   "source": [
    "##### **Answer #2b**"
   ]
  },
  {
   "attachments": {},
   "cell_type": "markdown",
   "id": "ed12cab0-f091-4b12-81a8-beebfdd1cccb",
   "metadata": {},
   "source": [
    "The y-intercept of the model is too large, so we should decrease it."
   ]
  },
  {
   "attachments": {},
   "cell_type": "markdown",
   "id": "4bf44dc4-9375-4da6-abed-b41dd0111c46",
   "metadata": {},
   "source": [
    "#### **Your turn #2c:** Run the `fit_plot.line` interactive fitting session below and update the fitting parameters to `slope = 1` and `intercept = 1.1` using the text entry boxes in the widget. Use the interactive fitting widget to update the fit to show a good fit in the scatter plot and residuals. What are your new slope and/or y-intercept?"
   ]
  },
  {
   "attachments": {},
   "cell_type": "markdown",
   "id": "e4cbb0d3-ac8f-4256-8092-92196f0ba8ac",
   "metadata": {},
   "source": []
  },
  {
   "cell_type": "code",
   "execution_count": 5,
   "id": "d9daf92a-9dbc-4cc2-8936-629222f0eee7",
   "metadata": {},
   "outputs": [
    {
     "ename": "KeyError",
     "evalue": "'JPY_SESSION_NAME'",
     "output_type": "error",
     "traceback": [
      "\u001b[1;31m---------------------------------------------------------------------------\u001b[0m",
      "\u001b[1;31mKeyError\u001b[0m                                  Traceback (most recent call last)",
      "Cell \u001b[1;32mIn[5], line 4\u001b[0m\n\u001b[0;32m      1\u001b[0m \u001b[38;5;66;03m# Use the text boxes to manually update the values to\u001b[39;00m\n\u001b[0;32m      2\u001b[0m \u001b[38;5;66;03m# slope = 1, intercept = 1.1\u001b[39;00m\n\u001b[1;32m----> 4\u001b[0m \u001b[43mfit_plot\u001b[49m\u001b[38;5;241;43m.\u001b[39;49m\u001b[43mline\u001b[49m\u001b[43m(\u001b[49m\u001b[38;5;124;43m\"\u001b[39;49m\u001b[38;5;124;43mData set 1\u001b[39;49m\u001b[38;5;124;43m\"\u001b[39;49m\u001b[43m,\u001b[49m\u001b[43m \u001b[49m\u001b[43mxVec\u001b[49m\u001b[43m,\u001b[49m\u001b[43m \u001b[49m\u001b[43my_1Vec\u001b[49m\u001b[43m,\u001b[49m\u001b[43m \u001b[49m\u001b[43mdel_y_1Vec\u001b[49m\u001b[43m)\u001b[49m\n",
      "File \u001b[1;32mc:\\Users\\pripoche\\miniconda3\\envs\\phys119\\lib\\site-packages\\fit_plot.py:400\u001b[0m, in \u001b[0;36mline.__init__\u001b[1;34m(self, name, xdata, ydata, yerr, chi2, input_boxes)\u001b[0m\n\u001b[0;32m    399\u001b[0m \u001b[38;5;28;01mdef\u001b[39;00m \u001b[38;5;21m__init__\u001b[39m(\u001b[38;5;28mself\u001b[39m, name, xdata, ydata, yerr, chi2\u001b[38;5;241m=\u001b[39m\u001b[38;5;28;01mFalse\u001b[39;00m, input_boxes\u001b[38;5;241m=\u001b[39m\u001b[38;5;28;01mTrue\u001b[39;00m):\n\u001b[1;32m--> 400\u001b[0m     \u001b[38;5;28;43msuper\u001b[39;49m\u001b[43m(\u001b[49m\u001b[43m)\u001b[49m\u001b[38;5;241;43m.\u001b[39;49m\u001b[38;5;21;43m__init__\u001b[39;49m\u001b[43m(\u001b[49m\u001b[43mname\u001b[49m\u001b[43m,\u001b[49m\u001b[43m \u001b[49m\u001b[43mxdata\u001b[49m\u001b[43m,\u001b[49m\u001b[43m \u001b[49m\u001b[43mydata\u001b[49m\u001b[43m,\u001b[49m\u001b[43m \u001b[49m\u001b[43myerr\u001b[49m\u001b[43m,\u001b[49m\u001b[43m \u001b[49m\u001b[38;5;28;43;01mFalse\u001b[39;49;00m\u001b[43m,\u001b[49m\u001b[43m \u001b[49m\u001b[43mchi2\u001b[49m\u001b[43m,\u001b[49m\u001b[43m \u001b[49m\u001b[43minput_boxes\u001b[49m\u001b[43m)\u001b[49m\n",
      "File \u001b[1;32mc:\\Users\\pripoche\\miniconda3\\envs\\phys119\\lib\\site-packages\\fit_plot.py:210\u001b[0m, in \u001b[0;36mgeneric_fit_with_background.__init__\u001b[1;34m(self, name, xdata, ydata, yerr, use_background, chi2, input_boxes)\u001b[0m\n\u001b[0;32m    207\u001b[0m \u001b[38;5;66;03m# self.no_recur=False\u001b[39;00m\n\u001b[0;32m    208\u001b[0m \u001b[38;5;28;01mif\u001b[39;00m found_old \u001b[38;5;241m==\u001b[39m \u001b[38;5;28;01mFalse\u001b[39;00m:\n\u001b[0;32m    209\u001b[0m     \u001b[38;5;66;03m# we're creating a new object:\u001b[39;00m\n\u001b[1;32m--> 210\u001b[0m     \u001b[38;5;28mself\u001b[39m\u001b[38;5;241m.\u001b[39mfilename \u001b[38;5;241m=\u001b[39m \u001b[43mget_file_name\u001b[49m\u001b[43m(\u001b[49m\u001b[43mname\u001b[49m\u001b[43m)\u001b[49m  \n\u001b[0;32m    211\u001b[0m     \u001b[38;5;66;03m# self.name = name # not needed\u001b[39;00m\n\u001b[0;32m    212\u001b[0m     \u001b[38;5;28mself\u001b[39m\u001b[38;5;241m.\u001b[39mno_recur \u001b[38;5;241m=\u001b[39m \u001b[38;5;28;01mFalse\u001b[39;00m\n",
      "File \u001b[1;32mc:\\Users\\pripoche\\miniconda3\\envs\\phys119\\lib\\site-packages\\fit_plot.py:20\u001b[0m, in \u001b[0;36mget_file_name\u001b[1;34m(fname)\u001b[0m\n\u001b[0;32m     16\u001b[0m \u001b[38;5;28;01mdef\u001b[39;00m \u001b[38;5;21mget_file_name\u001b[39m(fname):\n\u001b[0;32m     17\u001b[0m     \u001b[38;5;66;03m# fname = \"\".join(i if i.isalnum() else \"_\" for i in fname)\u001b[39;00m\n\u001b[0;32m     18\u001b[0m     \u001b[38;5;66;03m# create safe filename.\u001b[39;00m\n\u001b[0;32m     19\u001b[0m     fname \u001b[38;5;241m=\u001b[39m base64\u001b[38;5;241m.\u001b[39murlsafe_b64encode(\u001b[38;5;28mbytes\u001b[39m(fname,\u001b[38;5;124m'\u001b[39m\u001b[38;5;124mutf-8\u001b[39m\u001b[38;5;124m'\u001b[39m))\u001b[38;5;241m.\u001b[39mdecode(\u001b[38;5;124m'\u001b[39m\u001b[38;5;124mutf-8\u001b[39m\u001b[38;5;124m'\u001b[39m)\n\u001b[1;32m---> 20\u001b[0m     base, name \u001b[38;5;241m=\u001b[39m os\u001b[38;5;241m.\u001b[39mpath\u001b[38;5;241m.\u001b[39msplit(\u001b[43mos\u001b[49m\u001b[38;5;241;43m.\u001b[39;49m\u001b[43menviron\u001b[49m\u001b[43m[\u001b[49m\u001b[38;5;124;43m'\u001b[39;49m\u001b[38;5;124;43mJPY_SESSION_NAME\u001b[39;49m\u001b[38;5;124;43m'\u001b[39;49m\u001b[43m]\u001b[49m)\n\u001b[0;32m     22\u001b[0m     \u001b[38;5;28;01mif\u001b[39;00m \u001b[38;5;28mlen\u001b[39m(name)\u001b[38;5;241m>\u001b[39m\u001b[38;5;241m6\u001b[39m:\n\u001b[0;32m     23\u001b[0m         \u001b[38;5;28;01mif\u001b[39;00m name[\u001b[38;5;241m-\u001b[39m\u001b[38;5;241m6\u001b[39m:] \u001b[38;5;241m==\u001b[39m \u001b[38;5;124m'\u001b[39m\u001b[38;5;124m.ipynb\u001b[39m\u001b[38;5;124m'\u001b[39m:\n",
      "File \u001b[1;32mc:\\Users\\pripoche\\miniconda3\\envs\\phys119\\lib\\os.py:680\u001b[0m, in \u001b[0;36m_Environ.__getitem__\u001b[1;34m(self, key)\u001b[0m\n\u001b[0;32m    677\u001b[0m     value \u001b[38;5;241m=\u001b[39m \u001b[38;5;28mself\u001b[39m\u001b[38;5;241m.\u001b[39m_data[\u001b[38;5;28mself\u001b[39m\u001b[38;5;241m.\u001b[39mencodekey(key)]\n\u001b[0;32m    678\u001b[0m \u001b[38;5;28;01mexcept\u001b[39;00m \u001b[38;5;167;01mKeyError\u001b[39;00m:\n\u001b[0;32m    679\u001b[0m     \u001b[38;5;66;03m# raise KeyError with the original key value\u001b[39;00m\n\u001b[1;32m--> 680\u001b[0m     \u001b[38;5;28;01mraise\u001b[39;00m \u001b[38;5;167;01mKeyError\u001b[39;00m(key) \u001b[38;5;28;01mfrom\u001b[39;00m \u001b[38;5;28;01mNone\u001b[39;00m\n\u001b[0;32m    681\u001b[0m \u001b[38;5;28;01mreturn\u001b[39;00m \u001b[38;5;28mself\u001b[39m\u001b[38;5;241m.\u001b[39mdecodevalue(value)\n",
      "\u001b[1;31mKeyError\u001b[0m: 'JPY_SESSION_NAME'"
     ]
    }
   ],
   "source": [
    "# Use the text boxes to manually update the values to\n",
    "# slope = 1, intercept = 1.1\n",
    "\n",
    "fit_plot.line(\"Data set 1\", xVec, y_1Vec, del_y_1Vec)"
   ]
  },
  {
   "attachments": {},
   "cell_type": "markdown",
   "id": "a6f132e8-2472-40d0-a27a-a2862ef59d55",
   "metadata": {
    "jp-MarkdownHeadingCollapsed": true,
    "tags": []
   },
   "source": [
    "##### **Answer #2c:**"
   ]
  },
  {
   "attachments": {},
   "cell_type": "markdown",
   "id": "5af39d3f-d813-43c9-8dc0-34826f509322",
   "metadata": {},
   "source": [
    "Changing the intercept from 1.1 to 1 in the code improves the model in the desired fashion."
   ]
  },
  {
   "attachments": {},
   "cell_type": "markdown",
   "id": "febd32d4-92ee-486d-85f4-67b12ba78fcc",
   "metadata": {
    "tags": []
   },
   "source": [
    "### Your turn #3 (Dataset 2)\n",
    "\n",
    "Answer the questions below related to the fit shown and then for part c, update the fitting parameters to get a better fit. \n",
    "\n",
    "![data set 2](https://i.ibb.co/5sLwRZh/data2.png)"
   ]
  },
  {
   "attachments": {},
   "cell_type": "markdown",
   "id": "6472236c-87c2-4b3f-a933-342ebbcb1126",
   "metadata": {},
   "source": [
    "#### **Your turn #3a:** Which feature(s) of the RESIDUALS plot above indicates a problem with the fit of the model to the data?"
   ]
  },
  {
   "attachments": {},
   "cell_type": "markdown",
   "id": "e9440bce-a74f-4360-8d15-576c96769641",
   "metadata": {},
   "source": []
  },
  {
   "attachments": {},
   "cell_type": "markdown",
   "id": "effa081f-9c4c-4e61-b326-e0c58d2447f2",
   "metadata": {
    "jp-MarkdownHeadingCollapsed": true,
    "tags": []
   },
   "source": [
    "##### **Answer #3a**"
   ]
  },
  {
   "attachments": {},
   "cell_type": "markdown",
   "id": "0978ec6a-10ca-4bcd-99f3-a8c53c816d29",
   "metadata": {},
   "source": [
    "We see an (upwards) linear trend in the residuals plot."
   ]
  },
  {
   "attachments": {},
   "cell_type": "markdown",
   "id": "15089a78-0d3f-4a35-bee3-f9b58f51715d",
   "metadata": {},
   "source": [
    "#### **Your turn #3b:** What should be changed about the model to improve the fit?"
   ]
  },
  {
   "attachments": {},
   "cell_type": "markdown",
   "id": "165f2f00-b2a2-493a-89bc-15b539083d78",
   "metadata": {},
   "source": []
  },
  {
   "attachments": {},
   "cell_type": "markdown",
   "id": "7a0ac048-77fe-4ec2-961a-f0e91a5789c2",
   "metadata": {
    "jp-MarkdownHeadingCollapsed": true,
    "tags": []
   },
   "source": [
    "##### **Answer #3b**"
   ]
  },
  {
   "attachments": {},
   "cell_type": "markdown",
   "id": "52e7ca85-d096-4c39-a8a6-eaf27bcfe7b4",
   "metadata": {},
   "source": [
    "The slope of the model is too small, so we should increase it."
   ]
  },
  {
   "attachments": {},
   "cell_type": "markdown",
   "id": "4f60430c-b674-48e5-a9f0-777eae810939",
   "metadata": {},
   "source": [
    "#### **Your turn #3c:** Run the `fit_plot.line` interactive fitting session below and update the fitting parameters to `slope = 1.98` and `intercept = 3` using the text entry boxes in the widget. Use the interactive fitting widget to update the fit to show a good fit in the scatter plot and residuals. What are your new slope and/or y-intercept?"
   ]
  },
  {
   "attachments": {},
   "cell_type": "markdown",
   "id": "bf9941ec-d9de-4724-8753-17fe543858a4",
   "metadata": {},
   "source": []
  },
  {
   "attachments": {},
   "cell_type": "markdown",
   "id": "c4bec1cd-09e3-4e65-bfa9-dd783113c91d",
   "metadata": {
    "jp-MarkdownHeadingCollapsed": true,
    "tags": []
   },
   "source": [
    "##### **Answer #3c**"
   ]
  },
  {
   "attachments": {},
   "cell_type": "markdown",
   "id": "fb104d65-9be7-4a93-8a35-3bbe8256fbf4",
   "metadata": {},
   "source": [
    "Changing the slope from 1.9 to 2 in the code improves the model in the desired fashion."
   ]
  },
  {
   "attachments": {},
   "cell_type": "markdown",
   "id": "e1abfbca-ae28-4900-b600-4a3c4fe46e6a",
   "metadata": {},
   "source": [
    "##### **Cell to generate plots for data set 2**"
   ]
  },
  {
   "cell_type": "code",
   "execution_count": 7,
   "id": "996b8cc9-151b-46ae-845f-07eb05dd6cf8",
   "metadata": {},
   "outputs": [
    {
     "ename": "KeyError",
     "evalue": "'JPY_SESSION_NAME'",
     "output_type": "error",
     "traceback": [
      "\u001b[1;31m---------------------------------------------------------------------------\u001b[0m",
      "\u001b[1;31mKeyError\u001b[0m                                  Traceback (most recent call last)",
      "Cell \u001b[1;32mIn[7], line 4\u001b[0m\n\u001b[0;32m      1\u001b[0m \u001b[38;5;66;03m# Use the text boxes to manually update the values to\u001b[39;00m\n\u001b[0;32m      2\u001b[0m \u001b[38;5;66;03m# slope = 1.98, intercept = 3\u001b[39;00m\n\u001b[1;32m----> 4\u001b[0m \u001b[43mfit_plot\u001b[49m\u001b[38;5;241;43m.\u001b[39;49m\u001b[43mline\u001b[49m\u001b[43m(\u001b[49m\u001b[38;5;124;43m\"\u001b[39;49m\u001b[38;5;124;43mData set 2\u001b[39;49m\u001b[38;5;124;43m\"\u001b[39;49m\u001b[43m,\u001b[49m\u001b[43m \u001b[49m\u001b[43mxVec\u001b[49m\u001b[43m,\u001b[49m\u001b[43m \u001b[49m\u001b[43my_2Vec\u001b[49m\u001b[43m,\u001b[49m\u001b[43m \u001b[49m\u001b[43mdel_y_2Vec\u001b[49m\u001b[43m)\u001b[49m\n",
      "File \u001b[1;32mc:\\Users\\pripoche\\miniconda3\\envs\\phys119\\lib\\site-packages\\fit_plot.py:400\u001b[0m, in \u001b[0;36mline.__init__\u001b[1;34m(self, name, xdata, ydata, yerr, chi2, input_boxes)\u001b[0m\n\u001b[0;32m    399\u001b[0m \u001b[38;5;28;01mdef\u001b[39;00m \u001b[38;5;21m__init__\u001b[39m(\u001b[38;5;28mself\u001b[39m, name, xdata, ydata, yerr, chi2\u001b[38;5;241m=\u001b[39m\u001b[38;5;28;01mFalse\u001b[39;00m, input_boxes\u001b[38;5;241m=\u001b[39m\u001b[38;5;28;01mTrue\u001b[39;00m):\n\u001b[1;32m--> 400\u001b[0m     \u001b[38;5;28;43msuper\u001b[39;49m\u001b[43m(\u001b[49m\u001b[43m)\u001b[49m\u001b[38;5;241;43m.\u001b[39;49m\u001b[38;5;21;43m__init__\u001b[39;49m\u001b[43m(\u001b[49m\u001b[43mname\u001b[49m\u001b[43m,\u001b[49m\u001b[43m \u001b[49m\u001b[43mxdata\u001b[49m\u001b[43m,\u001b[49m\u001b[43m \u001b[49m\u001b[43mydata\u001b[49m\u001b[43m,\u001b[49m\u001b[43m \u001b[49m\u001b[43myerr\u001b[49m\u001b[43m,\u001b[49m\u001b[43m \u001b[49m\u001b[38;5;28;43;01mFalse\u001b[39;49;00m\u001b[43m,\u001b[49m\u001b[43m \u001b[49m\u001b[43mchi2\u001b[49m\u001b[43m,\u001b[49m\u001b[43m \u001b[49m\u001b[43minput_boxes\u001b[49m\u001b[43m)\u001b[49m\n",
      "File \u001b[1;32mc:\\Users\\pripoche\\miniconda3\\envs\\phys119\\lib\\site-packages\\fit_plot.py:210\u001b[0m, in \u001b[0;36mgeneric_fit_with_background.__init__\u001b[1;34m(self, name, xdata, ydata, yerr, use_background, chi2, input_boxes)\u001b[0m\n\u001b[0;32m    207\u001b[0m \u001b[38;5;66;03m# self.no_recur=False\u001b[39;00m\n\u001b[0;32m    208\u001b[0m \u001b[38;5;28;01mif\u001b[39;00m found_old \u001b[38;5;241m==\u001b[39m \u001b[38;5;28;01mFalse\u001b[39;00m:\n\u001b[0;32m    209\u001b[0m     \u001b[38;5;66;03m# we're creating a new object:\u001b[39;00m\n\u001b[1;32m--> 210\u001b[0m     \u001b[38;5;28mself\u001b[39m\u001b[38;5;241m.\u001b[39mfilename \u001b[38;5;241m=\u001b[39m \u001b[43mget_file_name\u001b[49m\u001b[43m(\u001b[49m\u001b[43mname\u001b[49m\u001b[43m)\u001b[49m  \n\u001b[0;32m    211\u001b[0m     \u001b[38;5;66;03m# self.name = name # not needed\u001b[39;00m\n\u001b[0;32m    212\u001b[0m     \u001b[38;5;28mself\u001b[39m\u001b[38;5;241m.\u001b[39mno_recur \u001b[38;5;241m=\u001b[39m \u001b[38;5;28;01mFalse\u001b[39;00m\n",
      "File \u001b[1;32mc:\\Users\\pripoche\\miniconda3\\envs\\phys119\\lib\\site-packages\\fit_plot.py:20\u001b[0m, in \u001b[0;36mget_file_name\u001b[1;34m(fname)\u001b[0m\n\u001b[0;32m     16\u001b[0m \u001b[38;5;28;01mdef\u001b[39;00m \u001b[38;5;21mget_file_name\u001b[39m(fname):\n\u001b[0;32m     17\u001b[0m     \u001b[38;5;66;03m# fname = \"\".join(i if i.isalnum() else \"_\" for i in fname)\u001b[39;00m\n\u001b[0;32m     18\u001b[0m     \u001b[38;5;66;03m# create safe filename.\u001b[39;00m\n\u001b[0;32m     19\u001b[0m     fname \u001b[38;5;241m=\u001b[39m base64\u001b[38;5;241m.\u001b[39murlsafe_b64encode(\u001b[38;5;28mbytes\u001b[39m(fname,\u001b[38;5;124m'\u001b[39m\u001b[38;5;124mutf-8\u001b[39m\u001b[38;5;124m'\u001b[39m))\u001b[38;5;241m.\u001b[39mdecode(\u001b[38;5;124m'\u001b[39m\u001b[38;5;124mutf-8\u001b[39m\u001b[38;5;124m'\u001b[39m)\n\u001b[1;32m---> 20\u001b[0m     base, name \u001b[38;5;241m=\u001b[39m os\u001b[38;5;241m.\u001b[39mpath\u001b[38;5;241m.\u001b[39msplit(\u001b[43mos\u001b[49m\u001b[38;5;241;43m.\u001b[39;49m\u001b[43menviron\u001b[49m\u001b[43m[\u001b[49m\u001b[38;5;124;43m'\u001b[39;49m\u001b[38;5;124;43mJPY_SESSION_NAME\u001b[39;49m\u001b[38;5;124;43m'\u001b[39;49m\u001b[43m]\u001b[49m)\n\u001b[0;32m     22\u001b[0m     \u001b[38;5;28;01mif\u001b[39;00m \u001b[38;5;28mlen\u001b[39m(name)\u001b[38;5;241m>\u001b[39m\u001b[38;5;241m6\u001b[39m:\n\u001b[0;32m     23\u001b[0m         \u001b[38;5;28;01mif\u001b[39;00m name[\u001b[38;5;241m-\u001b[39m\u001b[38;5;241m6\u001b[39m:] \u001b[38;5;241m==\u001b[39m \u001b[38;5;124m'\u001b[39m\u001b[38;5;124m.ipynb\u001b[39m\u001b[38;5;124m'\u001b[39m:\n",
      "File \u001b[1;32mc:\\Users\\pripoche\\miniconda3\\envs\\phys119\\lib\\os.py:680\u001b[0m, in \u001b[0;36m_Environ.__getitem__\u001b[1;34m(self, key)\u001b[0m\n\u001b[0;32m    677\u001b[0m     value \u001b[38;5;241m=\u001b[39m \u001b[38;5;28mself\u001b[39m\u001b[38;5;241m.\u001b[39m_data[\u001b[38;5;28mself\u001b[39m\u001b[38;5;241m.\u001b[39mencodekey(key)]\n\u001b[0;32m    678\u001b[0m \u001b[38;5;28;01mexcept\u001b[39;00m \u001b[38;5;167;01mKeyError\u001b[39;00m:\n\u001b[0;32m    679\u001b[0m     \u001b[38;5;66;03m# raise KeyError with the original key value\u001b[39;00m\n\u001b[1;32m--> 680\u001b[0m     \u001b[38;5;28;01mraise\u001b[39;00m \u001b[38;5;167;01mKeyError\u001b[39;00m(key) \u001b[38;5;28;01mfrom\u001b[39;00m \u001b[38;5;28;01mNone\u001b[39;00m\n\u001b[0;32m    681\u001b[0m \u001b[38;5;28;01mreturn\u001b[39;00m \u001b[38;5;28mself\u001b[39m\u001b[38;5;241m.\u001b[39mdecodevalue(value)\n",
      "\u001b[1;31mKeyError\u001b[0m: 'JPY_SESSION_NAME'"
     ]
    }
   ],
   "source": [
    "# Use the text boxes to manually update the values to\n",
    "# slope = 1.98, intercept = 3\n",
    "\n",
    "fit_plot.line(\"Data set 2\", xVec, y_2Vec, del_y_2Vec)"
   ]
  },
  {
   "attachments": {},
   "cell_type": "markdown",
   "id": "e4d4c4f0-d1db-4d62-b277-09ffbc27d0e3",
   "metadata": {
    "tags": []
   },
   "source": [
    "### Your turn #4 (Data set 3)"
   ]
  },
  {
   "attachments": {},
   "cell_type": "markdown",
   "id": "df62bd41-7618-4522-8faf-b7c4557fc9d5",
   "metadata": {},
   "source": [
    "**Note:** For this data set, the issue with the model is a bit harder to fix compared to the other two examples; for this part it is alright to skip the step of fixing the model in the code, and just comment on what appears to be wrong and how one could feasibly improve the fit of the model to the data.\n",
    "\n",
    "![data set 3](https://i.ibb.co/r0n2b5T/data3.png)"
   ]
  },
  {
   "attachments": {},
   "cell_type": "markdown",
   "id": "f79b845f-3ee1-42b5-80bc-8dce41c7d4d6",
   "metadata": {},
   "source": [
    "#### **Your turn #4a:** Which feature(s) of the RESIDUALS plot above indicates a problem with the fit of the model to the data?"
   ]
  },
  {
   "attachments": {},
   "cell_type": "markdown",
   "id": "0c4145e1-2908-427e-9831-1750f10fffe7",
   "metadata": {},
   "source": []
  },
  {
   "attachments": {},
   "cell_type": "markdown",
   "id": "ebd4624f-c853-4189-932a-0165d04b5e9e",
   "metadata": {
    "jp-MarkdownHeadingCollapsed": true,
    "tags": []
   },
   "source": [
    "##### **Answer #4a**"
   ]
  },
  {
   "attachments": {},
   "cell_type": "markdown",
   "id": "b3a0365c-af80-4085-b1cc-c39d70062a01",
   "metadata": {},
   "source": [
    "We notice from the residuals plot that there is a upwards parabolic trend."
   ]
  },
  {
   "attachments": {},
   "cell_type": "markdown",
   "id": "5706a279-f9ba-4aca-a23b-06c2a2ec90e0",
   "metadata": {},
   "source": [
    "#### **Your turn #4b:** What should be changed about the model to improve the fit?"
   ]
  },
  {
   "attachments": {},
   "cell_type": "markdown",
   "id": "a397c59b-4b81-4837-9e16-3316156bcb09",
   "metadata": {},
   "source": []
  },
  {
   "attachments": {},
   "cell_type": "markdown",
   "id": "f7264770-baf9-4af8-9087-30f4471585fd",
   "metadata": {
    "jp-MarkdownHeadingCollapsed": true,
    "tags": []
   },
   "source": [
    "##### **Answer #4b**"
   ]
  },
  {
   "attachments": {},
   "cell_type": "markdown",
   "id": "ae801a6c-15bb-48f6-8f30-d80d39eeec89",
   "metadata": {},
   "source": [
    "This parabolic trend tells us that the current linear model is not a good fit for the data; we should add a (positive) quadratic term."
   ]
  },
  {
   "attachments": {},
   "cell_type": "markdown",
   "id": "3cbe13bc-4a59-4781-adbf-2d6301e1b7e6",
   "metadata": {},
   "source": [
    "#### **Your turn #4c (optional):** Play around with the interactive fitting below to convince yourself that no matter which compination of slope and intercept you try, a linear model will not result in a good fit."
   ]
  },
  {
   "cell_type": "code",
   "execution_count": null,
   "id": "aa76ac92-1b98-4732-8584-1935a6b7d91a",
   "metadata": {},
   "outputs": [],
   "source": [
    "# Use the text boxes to manually update the values to\n",
    "# slope = 1, intercept = 3\n",
    "\n",
    "fit_plot.line(\"Data set 3\", xVec, y_3Vec, del_y_3Vec)"
   ]
  },
  {
   "cell_type": "markdown",
   "id": "f63163e1-19cf-4505-905c-2f80e2533ea8",
   "metadata": {},
   "source": [
    "## Using models that are more complicated than `y = mx + b` linear models"
   ]
  },
  {
   "cell_type": "markdown",
   "id": "2ea6f191-e082-43c4-ba7a-323724a88554",
   "metadata": {},
   "source": [
    "Frequently, data that we expect to be linear will be more complicated than that. Often this happens when the assumption of linearity has overlooked other important effects.\n",
    "\n",
    "As such, it is good to know how to modify our modelling and plotting code to include nonlinear effects. \n",
    "\n",
    "Below we include a linear model version of our plotting code from prelab 05, and then afterward a nonlinear version to show how you update the code to make a more complicated model. Out more complicated model includes a $0.01 x^2$ term in the model, which involves including a third fitting parameter `par3` and then updating the two places where we use the model to calculate y-values: \n",
    "- ypoints = par3 * xpoints**2 + xpoints * slope + intercept\n",
    "- ymodel = par3 * xVec**2 + xVec * slope + intercept\n",
    "\n",
    "In the nonlinear version of the plotting code, look for the modified code where there are comment lines using \"##########\" to help them stand out."
   ]
  },
  {
   "cell_type": "markdown",
   "id": "6b16e790-4a74-4627-95df-2fee906d7c06",
   "metadata": {},
   "source": [
    "### *The best fit using a linear model. The obvious parabolic structure in the residuals suggests a different model is needed*"
   ]
  },
  {
   "cell_type": "code",
   "execution_count": 8,
   "id": "4f5af963-ed80-4129-88ec-9055a6de14ec",
   "metadata": {},
   "outputs": [
    {
     "data": {
      "application/vnd.jupyter.widget-view+json": {
       "model_id": "a6301667411f42afb8a398a5a255dee3",
       "version_major": 2,
       "version_minor": 0
      },
      "image/png": "[encoded data removed]",
      "text/html": [
       "\n",
       "            <div style=\"display: inline-block;\">\n",
       "                <div class=\"jupyter-widgets widget-label\" style=\"text-align: center;\">\n",
       "                    Figure\n",
       "                </div>\n",
       "                <img src='data:image/png;base64,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' width=640.0/>\n",
       "            </div>\n",
       "        "
      ],
      "text/plain": [
       "Canvas(toolbar=Toolbar(toolitems=[('Home', 'Reset original view', 'home', 'home'), ('Back', 'Back to previous …"
      ]
     },
     "metadata": {},
     "output_type": "display_data"
    },
    {
     "data": {
      "application/vnd.jupyter.widget-view+json": {
       "model_id": "07cefbae38ac4c4296546c380c497128",
       "version_major": 2,
       "version_minor": 0
      },
      "image/png": "[encoded data removed]",
      "text/html": [
       "\n",
       "            <div style=\"display: inline-block;\">\n",
       "                <div class=\"jupyter-widgets widget-label\" style=\"text-align: center;\">\n",
       "                    Figure\n",
       "                </div>\n",
       "                <img src='data:image/png;base64,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' width=640.0/>\n",
       "            </div>\n",
       "        "
      ],
      "text/plain": [
       "Canvas(toolbar=Toolbar(toolitems=[('Home', 'Reset original view', 'home', 'home'), ('Back', 'Back to previous …"
      ]
     },
     "metadata": {},
     "output_type": "display_data"
    }
   ],
   "source": [
    "# Run me for a (poor) linear fit to data set 3\n",
    "\n",
    "# Scatter step 1: Define the variables we will be plotting, as well as labels and titles\n",
    "# Plotting variables\n",
    "xdata = xVec\n",
    "ydata = y3Vec\n",
    "dydata = dy3Vec\n",
    "\n",
    "# Labels and titles\n",
    "data_label = \"Data set 3\"\n",
    "model_label = \"y = mx + b\"\n",
    "graph_title = \"Data set 3\"\n",
    "x_label = \"x (s)\"\n",
    "y_label = \"y (m)\"\n",
    "residuals_title = \"Residuals for Data set 3 linear fit\"\n",
    "residuals_y_label = \"Residual = data - model (m)\"\n",
    "\n",
    "# Model parameters\n",
    "######## SLOPE AND INTERCEPT CHOSEN TO SHOW CLEARLY THAT THE DATA ARE NONLINEAR #######\n",
    "slope = 1.07 \n",
    "intercept = 2.93\n",
    "\n",
    "# Scatter step 2: find the limits of the data:\n",
    "xmin = np.min(xdata) # use the np.min function to find the smallest x-value\n",
    "xmax = np.max(xdata) # same for max\n",
    "# print (xmin, xmax)  # uncomment to see what the limits are\n",
    "\n",
    "# Scatter step 3: generate a bunch of x points between xmin and xmax to help us plot the model line\n",
    "xpoints = np.linspace(xmin, xmax, 200) # gives 200 evenly spaced points between xmin and xmax\n",
    "# print(xpoints) # uncomment to see the x values that were generated.\n",
    "\n",
    "# Scatter step 4: calculate the y points to plot the model line\n",
    "ypoints = xpoints * slope + intercept # this calculates the model y-values at all 200 points.\n",
    "\n",
    "# Scatter step 5: plot the model line. We plot this as a red line \"r-\" :\n",
    "plt.figure()\n",
    "plt.plot(xpoints, ypoints, \"r-\", label = model_label)\n",
    "\n",
    "# Scatter step 6: Plot the data, with the previous details from before\n",
    "plt.errorbar(xdata, ydata, dydata, fmt=\"bo\", markersize = 3, label=data_label)\n",
    "plt.title(graph_title)\n",
    "plt.xlabel(x_label)\n",
    "plt.ylabel(y_label)\n",
    "plt.legend()\n",
    "plt.show()\n",
    "\n",
    "# Residuals step 2: Calculate the model prediction for each our data points from del_xVec\n",
    "ymodel = slope * xdata + intercept # y = mx at each data point, x_i\n",
    "\n",
    "# Residuals step 3: Calcualte the residuals vector\n",
    "residualsVec = ydata - ymodel\n",
    "\n",
    "# Residuals step 4: Plot the residuals vector against the x-data vector\n",
    "plt.figure()\n",
    "plt.errorbar(xdata, residualsVec, dydata, fmt=\"bo\", markersize = 3)\n",
    "\n",
    "# Residuals step 5: Add a horizontal line at R=0 to the plot\n",
    "plt.hlines(y=0, xmin=xmin, xmax=xmax, color='k') # draw a black line at y = 0.\n",
    "\n",
    "# Residuals step 6: Add axis labels and title, and show the graph\n",
    "plt.title(residuals_title)\n",
    "plt.xlabel(x_label) # re-use the x_label from the scatter plot with model\n",
    "plt.ylabel(residuals_y_label)\n",
    "plt.show()"
   ]
  },
  {
   "cell_type": "markdown",
   "id": "52427009-2959-4e7f-ad80-42eabf34a196",
   "metadata": {},
   "source": [
    "### *A nonlinear fit which adds `par3 * x**2` to the model and updates `slope` and `intercept` to create a good fit*"
   ]
  },
  {
   "cell_type": "code",
   "execution_count": 9,
   "id": "58dbe819-5cdd-4ca4-990f-9937126afb36",
   "metadata": {},
   "outputs": [
    {
     "data": {
      "application/vnd.jupyter.widget-view+json": {
       "model_id": "1b8d47f7f37c4fa49153f579dcbbf17f",
       "version_major": 2,
       "version_minor": 0
      },
      "image/png": "[encoded data removed]",
      "text/html": [
       "\n",
       "            <div style=\"display: inline-block;\">\n",
       "                <div class=\"jupyter-widgets widget-label\" style=\"text-align: center;\">\n",
       "                    Figure\n",
       "                </div>\n",
       "                <img src='data:image/png;base64,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' width=640.0/>\n",
       "            </div>\n",
       "        "
      ],
      "text/plain": [
       "Canvas(toolbar=Toolbar(toolitems=[('Home', 'Reset original view', 'home', 'home'), ('Back', 'Back to previous …"
      ]
     },
     "metadata": {},
     "output_type": "display_data"
    },
    {
     "data": {
      "application/vnd.jupyter.widget-view+json": {
       "model_id": "65481cea14cd4b1bac17c32540499e34",
       "version_major": 2,
       "version_minor": 0
      },
      "image/png": "[encoded data removed]",
      "text/html": [
       "\n",
       "            <div style=\"display: inline-block;\">\n",
       "                <div class=\"jupyter-widgets widget-label\" style=\"text-align: center;\">\n",
       "                    Figure\n",
       "                </div>\n",
       "                <img src='data:image/png;base64,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' width=640.0/>\n",
       "            </div>\n",
       "        "
      ],
      "text/plain": [
       "Canvas(toolbar=Toolbar(toolitems=[('Home', 'Reset original view', 'home', 'home'), ('Back', 'Back to previous …"
      ]
     },
     "metadata": {},
     "output_type": "display_data"
    }
   ],
   "source": [
    "# Run me for an improved nonlinear fit to data set 3\n",
    "\n",
    "# Scatter step 1: Define the variables we will be plotting, as well as labels and titles\n",
    "# Plotting variables\n",
    "xdata = xVec\n",
    "ydata = y3Vec\n",
    "dydata = dy3Vec\n",
    "\n",
    "# Labels and titles\n",
    "data_label = \"Data set 3\"\n",
    "model_label = \"y = mx + b\"\n",
    "graph_title = \"Data set 3\"\n",
    "x_label = \"x (s)\"\n",
    "y_label = \"y (m)\"\n",
    "residuals_title = \"Residuals for Data set 3 linear fit\"\n",
    "residuals_y_label = \"Residual = data - model (m)\"\n",
    "\n",
    "# Model parameters\n",
    "################### UPDATE MODEL PARAMETERS TO INCLUDE par3 * x**2 ####################\n",
    "slope = 1 # Estimate of the slope\n",
    "intercept = 3 # Estimate of the y-intercept\n",
    "par3 = 0.01\n",
    "#######################################################################################\n",
    "\n",
    "# Scatter step 2: find the limits of the data:\n",
    "xmin = np.min(xdata) # use the np.min function to find the smallest x-value\n",
    "xmax = np.max(xdata) # same for max\n",
    "# print (xmin, xmax)  # uncomment to see what the limits are\n",
    "\n",
    "# Scatter step 3: generate a bunch of x points between xmin and xmax to help us plot the model line\n",
    "xpoints = np.linspace(xmin, xmax, 200) # gives 200 evenly spaced points between xmin and xmax\n",
    "# print(xpoints) # uncomment to see the x values that were generated.\n",
    "\n",
    "# Scatter step 4: calculate the y points to plot the model line\n",
    "############### UPDATE THE MODEL LINE TO INCLUDE par3 * xpoints**2 ####################\n",
    "ypoints = par3 * xpoints**2 + xpoints * slope + intercept \n",
    "#######################################################################################\n",
    "\n",
    "# Scatter step 5: plot the model line. We plot this as a red line \"r-\" :\n",
    "plt.figure()\n",
    "plt.plot(xpoints, ypoints, \"r-\", label = model_label)\n",
    "\n",
    "# Scatter step 6: Plot the data, with the previous details from before\n",
    "plt.errorbar(xdata, ydata, dydata, fmt=\"bo\", markersize = 3, label=data_label)\n",
    "plt.title(graph_title)\n",
    "plt.xlabel(x_label)\n",
    "plt.ylabel(y_label)\n",
    "plt.legend()\n",
    "plt.show()\n",
    "\n",
    "# Residuals step 2: Calculate the model prediction for each our data points from del_xVec\n",
    "####### UPDATE THE MODEL PREDICTION FOR RESIDUALS TO INCLUDE par3 * xpoints**2 #######\n",
    "ymodel = par3 * xdata**2 + slope * xdata + intercept # y = par3*x**2 + mx + b\n",
    "######################################################################################\n",
    "\n",
    "# Residuals step 3: Calcualte the residuals vector\n",
    "residualsVec = ydata - ymodel\n",
    "\n",
    "# Residuals step 4: Plot the residuals vector against the x-data vector\n",
    "plt.figure()\n",
    "plt.errorbar(xdata, residualsVec, dydata, fmt=\"bo\", markersize = 3)\n",
    "\n",
    "# Residuals step 5: Add a horizontal line at R=0 to the plot\n",
    "plt.hlines(y=0, xmin=xmin, xmax=xmax, color='k') # draw a black line at y = 0.\n",
    "\n",
    "# Residuals step 6: Add axis labels and title, and show the graph\n",
    "plt.title(residuals_title)\n",
    "plt.xlabel(x_label) # re-use the x_label from the scatter plot with model\n",
    "plt.ylabel(residuals_y_label)\n",
    "plt.show()"
   ]
  },
  {
   "cell_type": "markdown",
   "id": "8b23dba3-baaa-4661-bf46-346e102ea52b",
   "metadata": {},
   "source": [
    "### *Summary of the \"Using models that are more complicated than `y = mx + b` linear models\" section*"
   ]
  },
  {
   "cell_type": "markdown",
   "id": "1aca1c7c-2e9a-403b-ad6f-cb5bc8907f08",
   "metadata": {},
   "source": [
    "In the above section we introduced a way to modify our models in our code for scatter plots with models and for residuals plots to use models other than `y = mx + b`. You may find this technique helpful in Lab 06 or in future labs."
   ]
  },
  {
   "cell_type": "markdown",
   "id": "12377e64-de8b-432f-ae15-5b5c7a107bff",
   "metadata": {},
   "source": [
    "## Your turn #5: Preparing your Lab 06 notebook\n",
    "In this final set of tasks you will prepare your Lab 06 notebook for data collection and analysis\n",
    "\n",
    "1. Open the Lab 06 Instructions on Canvas and take a couple of minutes to read through them so that you have a sense of how you will be spending your time during the lab.\n",
    "2. In Part B, you will notice that we are going to re-analyze the Lab 05 data. Add some code to your Part B notebook to read your Lab 05 data into the Lab 06 notebook and to launch the `fit_plot.line()` interactive fitting widget. Update the fitting parameters to match your best fit from Lab 05. We are going to learn a new tool to help us improve our fits even further and we are going to want your previous best fit as a starting point.\n",
    "3. Also in Part B (Step 3), you will using your matplotlib graphing skills to make nice, well-labelled plots, like you did in Section 5.5 of Prelab 05 and Part G of Lab 05. Copy in the code that you need to make those plots. \n",
    "\n",
    "You should now be ready for this lab."
   ]
  },
  {
   "attachments": {},
   "cell_type": "markdown",
   "id": "43f99a8b-81b4-489f-9c3c-4507014b16de",
   "metadata": {},
   "source": [
    "# Submit\n",
    "\n",
    "Steps for submission:\n",
    "\n",
    "1. Click: Run => Run_All_Cells\n",
    "2. Read through the notebook to ensure all the cells executed correctly and without error.\n",
    "3. File => Save_and_Export_Notebook_As->HTML\n",
    "4. Inspect your downloaded html document\n",
    "5. Upload the HTML document to the lab submission assignment on Canvas."
   ]
  },
  {
   "cell_type": "code",
   "execution_count": null,
   "id": "5300ab2e",
   "metadata": {},
   "outputs": [],
   "source": []
  },
  {
   "cell_type": "code",
   "execution_count": null,
   "id": "eb38a50c-d9d7-46da-9f99-0b3823d14b1a",
   "metadata": {},
   "outputs": [],
   "source": [
    "display_sheets()"
   ]
  }
 ],
 "metadata": {
  "kernelspec": {
   "display_name": "phys119",
   "language": "python",
   "name": "python3"
  },
  "language_info": {
   "codemirror_mode": {
    "name": "ipython",
    "version": 3
   },
   "file_extension": ".py",
   "mimetype": "text/x-python",
   "name": "python",
   "nbconvert_exporter": "python",
   "pygments_lexer": "ipython3",
   "version": "3.10.16"
  },
  "widgets": {
   "application/vnd.jupyter.widget-state+json": {
    "state": {
     "05bbaa4710de413893459a7134286dc5": {
      "model_module": "@jupyter-widgets/controls",
      "model_module_version": "2.0.0",
      "model_name": "ButtonModel",
      "state": {
       "description": "Undo",
       "layout": "IPY_MODEL_17c92d0aeae743ad8aef9eff31d73094",
       "style": "IPY_MODEL_4879962e31064707bb83d22017e06b71",
       "tooltip": null
      }
     },
     "07ff67c2df4640b1b9fb0134d6cc70b9": {
      "model_module": "@jupyter-widgets/base",
      "model_module_version": "2.0.0",
      "model_name": "LayoutModel",
      "state": {}
     },
     "0d75512179b142df91417ffa3b7fb679": {
      "model_module": "@jupyter-widgets/base",
      "model_module_version": "2.0.0",
      "model_name": "LayoutModel",
      "state": {}
     },
     "168cc55cfd6a4142811475c6d018697c": {
      "model_module": "@jupyter-widgets/base",
      "model_module_version": "2.0.0",
      "model_name": "LayoutModel",
      "state": {}
     },
     "175b32ec674043f59b21924605693082": {
      "model_module": "@jupyter-widgets/base",
      "model_module_version": "2.0.0",
      "model_name": "LayoutModel",
      "state": {}
     },
     "175e8cb9e83b43a5b95f42efadfda72a": {
      "model_module": "@jupyter-widgets/base",
      "model_module_version": "2.0.0",
      "model_name": "LayoutModel",
      "state": {
       "height": "250px"
      }
     },
     "17c92d0aeae743ad8aef9eff31d73094": {
      "model_module": "@jupyter-widgets/base",
      "model_module_version": "2.0.0",
      "model_name": "LayoutModel",
      "state": {}
     },
     "1888ee78fe4547c3bcaf169bf1aaa445": {
      "model_module": "@jupyter-widgets/base",
      "model_module_version": "2.0.0",
      "model_name": "LayoutModel",
      "state": {}
     },
     "309fddb87d6b473f80e5dd6d40e3cf15": {
      "model_module": "@jupyter-widgets/controls",
      "model_module_version": "2.0.0",
      "model_name": "ButtonModel",
      "state": {
       "description": "Add Row",
       "layout": "IPY_MODEL_f43fdf61074b492684beed570f7838ef",
       "style": "IPY_MODEL_3c4d42ac8733492bb20363694434e60b",
       "tooltip": null
      }
     },
     "35975af214be4db4acbff8ee1e55be93": {
      "model_module": "@jupyter-widgets/base",
      "model_module_version": "2.0.0",
      "model_name": "LayoutModel",
      "state": {}
     },
     "38e0b61cf72445ee9edc8f98479c8fc8": {
      "model_module": "@jupyter-widgets/controls",
      "model_module_version": "2.0.0",
      "model_name": "HBoxModel",
      "state": {
       "children": [
        "IPY_MODEL_05bbaa4710de413893459a7134286dc5",
        "IPY_MODEL_5b219e8f36624c70a580be5c996cf5d9",
        "IPY_MODEL_309fddb87d6b473f80e5dd6d40e3cf15",
        "IPY_MODEL_b2b62b944e544b47a90dc5ccb5b5826b",
        "IPY_MODEL_dc67a5a97136480a85d081561d1f3371"
       ],
       "layout": "IPY_MODEL_168cc55cfd6a4142811475c6d018697c"
      }
     },
     "3c4d42ac8733492bb20363694434e60b": {
      "model_module": "@jupyter-widgets/controls",
      "model_module_version": "2.0.0",
      "model_name": "ButtonStyleModel",
      "state": {
       "font_family": null,
       "font_size": null,
       "font_style": null,
       "font_variant": null,
       "font_weight": null,
       "text_color": null,
       "text_decoration": null
      }
     },
     "3cc6732a069b4c30a86d54b87661fcce": {
      "model_module": "@jupyter-widgets/controls",
      "model_module_version": "2.0.0",
      "model_name": "ButtonStyleModel",
      "state": {
       "font_family": null,
       "font_size": null,
       "font_style": null,
       "font_variant": null,
       "font_weight": null,
       "text_color": null,
       "text_decoration": null
      }
     },
     "405578615d2b44858c71a2493613f164": {
      "model_module": "ipydatagrid",
      "model_module_version": "^1.1.16",
      "model_name": "VegaExprModel",
      "state": {
       "_model_module_version": "^1.1.16",
       "_view_module": "ipydatagrid",
       "_view_module_version": "^1.1.16",
       "_view_name": "VegaExprView"
      }
     },
     "415ed0c5cfc44729b5b7123e89866733": {
      "model_module": "@jupyter-widgets/controls",
      "model_module_version": "2.0.0",
      "model_name": "ButtonModel",
      "state": {
       "description": "Redo",
       "layout": "IPY_MODEL_c7b743d29b7e4e179bb3024e5675c5d5",
       "style": "IPY_MODEL_764fef0f00274eeb9d8ad6948b073096",
       "tooltip": null
      }
     },
     "41841f10e114442989c287d8f9d4d390": {
      "model_module": "@jupyter-widgets/controls",
      "model_module_version": "2.0.0",
      "model_name": "ButtonStyleModel",
      "state": {
       "font_family": null,
       "font_size": null,
       "font_style": null,
       "font_variant": null,
       "font_weight": null,
       "text_color": null,
       "text_decoration": null
      }
     },
     "43a71b75bed0467882eeba71655f5bb1": {
      "model_module": "@jupyter-widgets/controls",
      "model_module_version": "2.0.0",
      "model_name": "ButtonModel",
      "state": {
       "description": "Add Row",
       "layout": "IPY_MODEL_0d75512179b142df91417ffa3b7fb679",
       "style": "IPY_MODEL_a63005869d5a4c19892f51c6497dfc99",
       "tooltip": null
      }
     },
     "466faa643a9149209fe852bdb4df57bd": {
      "model_module": "ipydatagrid",
      "model_module_version": "^1.1.16",
      "model_name": "DataGridModel",
      "state": {
       "_data": {
        "data": [
         {
          "0": "x",
          "1": "dx",
          "2": "y1",
          "3": "dy1",
          "4": "y2",
          "5": "dy2",
          "6": "y3",
          "7": "dy3",
          "ipydguuid": 0,
          "key": "  Variable:"
         },
         {
          "0": "s",
          "1": "s",
          "2": "m",
          "3": "m",
          "4": "m",
          "5": "m",
          "6": "m",
          "7": "m",
          "ipydguuid": 1,
          "key": " Units:"
         },
         {
          "0": "0.2",
          "1": "0.01",
          "2": "1.20",
          "3": "0.01",
          "4": "3.42",
          "5": "0.01",
          "6": "3.2",
          "7": "0.01",
          "ipydguuid": 2,
          "key": 0
         },
         {
          "0": "1.1",
          "1": "0.01",
          "2": "2.12",
          "3": "0.01",
          "4": "5.19",
          "5": "0.01",
          "6": "4.11",
          "7": "0.01",
          "ipydguuid": 3,
          "key": 1
         },
         {
          "0": "1.9",
          "1": "0.01",
          "2": "2.89",
          "3": "0.01",
          "4": "6.8",
          "5": "0.01",
          "6": "4.95",
          "7": "0.01",
          "ipydguuid": 4,
          "key": 2
         },
         {
          "0": "3.1",
          "1": "0.01",
          "2": "4.11",
          "3": "0.01",
          "4": "9.17",
          "5": "0.01",
          "6": "6.19",
          "7": "0.01",
          "ipydguuid": 5,
          "key": 3
         },
         {
          "0": "4.0",
          "1": "0.01",
          "2": "5.0",
          "3": "0.01",
          "4": "11.0",
          "5": "0.01",
          "6": "7.17",
          "7": "0.01",
          "ipydguuid": 6,
          "key": 4
         },
         {
          "0": "4.9",
          "1": "0.01",
          "2": "5.93",
          "3": "0.01",
          "4": "12.81",
          "5": "0.01",
          "6": "8.13",
          "7": "0.01",
          "ipydguuid": 7,
          "key": 5
         },
         {
          "0": "5.8",
          "1": "0.01",
          "2": "6.79",
          "3": "0.01",
          "4": "14.58",
          "5": "0.01",
          "6": "9.14",
          "7": "0.01",
          "ipydguuid": 8,
          "key": 6
         },
         {
          "0": "6.9",
          "1": "0.01",
          "2": "7.88",
          "3": "0.01",
          "4": "16.8",
          "5": "0.01",
          "6": "10.38",
          "7": "0.01",
          "ipydguuid": 9,
          "key": 7
         }
        ],
        "fields": [
         {
          "key": null
         },
         {
          "0": null
         },
         {
          "1": null
         },
         {
          "2": null
         },
         {
          "3": null
         },
         {
          "4": null
         },
         {
          "5": null
         },
         {
          "6": null
         },
         {
          "7": null
         },
         {
          "ipydguuid": null
         }
        ],
        "schema": {
         "fields": [
          {
           "name": "key",
           "type": "string"
          },
          {
           "name": 0,
           "type": "string"
          },
          {
           "name": 1,
           "type": "string"
          },
          {
           "name": 2,
           "type": "string"
          },
          {
           "name": 3,
           "type": "string"
          },
          {
           "name": 4,
           "type": "string"
          },
          {
           "name": 5,
           "type": "string"
          },
          {
           "name": 6,
           "type": "string"
          },
          {
           "name": 7,
           "type": "string"
          },
          {
           "name": "ipydguuid",
           "type": "integer"
          }
         ],
         "pandas_version": "1.4.0",
         "primaryKey": [
          "key",
          "ipydguuid"
         ],
         "primaryKeyUuid": "ipydguuid"
        }
       },
       "_model_module_version": "^1.1.16",
       "_model_name": "DataGridModel",
       "_view_module_version": "^1.1.16",
       "auto_fit_columns": false,
       "auto_fit_params": {
        "area": "all",
        "numCols": null,
        "padding": 30
       },
       "base_column_header_size": 20,
       "base_column_size": 64,
       "base_row_header_size": 64,
       "base_row_size": 20,
       "default_renderer": "IPY_MODEL_a9793804249c46379e705dd6967de677",
       "editable": true,
       "header_visibility": "all",
       "layout": "IPY_MODEL_175e8cb9e83b43a5b95f42efadfda72a",
       "selection_mode": "cell"
      }
     },
     "4879962e31064707bb83d22017e06b71": {
      "model_module": "@jupyter-widgets/controls",
      "model_module_version": "2.0.0",
      "model_name": "ButtonStyleModel",
      "state": {
       "font_family": null,
       "font_size": null,
       "font_style": null,
       "font_variant": null,
       "font_weight": null,
       "text_color": null,
       "text_decoration": null
      }
     },
     "5082fd0500cc4a348218bbcf1caf75ee": {
      "model_module": "@jupyter-widgets/output",
      "model_module_version": "1.0.0",
      "model_name": "OutputModel",
      "state": {
       "layout": "IPY_MODEL_55e044702c8d46ba9c584070a2346e16"
      }
     },
     "52743bd8b8044506a4b1f6efaf99d866": {
      "model_module": "@jupyter-widgets/controls",
      "model_module_version": "2.0.0",
      "model_name": "ButtonModel",
      "state": {
       "description": "Generate Vectors",
       "layout": "IPY_MODEL_b25c670d9c7c47b3829c37af718a2ca0",
       "style": "IPY_MODEL_3cc6732a069b4c30a86d54b87661fcce",
       "tooltip": null
      }
     },
     "543533355ea94031869125076b627b1b": {
      "model_module": "@jupyter-widgets/controls",
      "model_module_version": "2.0.0",
      "model_name": "ButtonModel",
      "state": {
       "description": "Add Column",
       "layout": "IPY_MODEL_35975af214be4db4acbff8ee1e55be93",
       "style": "IPY_MODEL_a3c68dc820bb436ca4cd39e4c98fc06a",
       "tooltip": null
      }
     },
     "55e044702c8d46ba9c584070a2346e16": {
      "model_module": "@jupyter-widgets/base",
      "model_module_version": "2.0.0",
      "model_name": "LayoutModel",
      "state": {}
     },
     "5b219e8f36624c70a580be5c996cf5d9": {
      "model_module": "@jupyter-widgets/controls",
      "model_module_version": "2.0.0",
      "model_name": "ButtonModel",
      "state": {
       "description": "Redo",
       "layout": "IPY_MODEL_66238a51ceff48df89e759813fb65b1b",
       "style": "IPY_MODEL_bf46965ae9234a21919ac78eb3406a53",
       "tooltip": null
      }
     },
     "66238a51ceff48df89e759813fb65b1b": {
      "model_module": "@jupyter-widgets/base",
      "model_module_version": "2.0.0",
      "model_name": "LayoutModel",
      "state": {}
     },
     "680de34fdbc74b97afb86079e94b176e": {
      "model_module": "@jupyter-widgets/controls",
      "model_module_version": "2.0.0",
      "model_name": "ButtonStyleModel",
      "state": {
       "font_family": null,
       "font_size": null,
       "font_style": null,
       "font_variant": null,
       "font_weight": null,
       "text_color": null,
       "text_decoration": null
      }
     },
     "73041206f31444d0b95ce601faf72369": {
      "model_module": "@jupyter-widgets/base",
      "model_module_version": "2.0.0",
      "model_name": "LayoutModel",
      "state": {}
     },
     "764fef0f00274eeb9d8ad6948b073096": {
      "model_module": "@jupyter-widgets/controls",
      "model_module_version": "2.0.0",
      "model_name": "ButtonStyleModel",
      "state": {
       "font_family": null,
       "font_size": null,
       "font_style": null,
       "font_variant": null,
       "font_weight": null,
       "text_color": null,
       "text_decoration": null
      }
     },
     "76766ff2a5fb4726ac6d13a985d0934d": {
      "model_module": "@jupyter-widgets/base",
      "model_module_version": "2.0.0",
      "model_name": "LayoutModel",
      "state": {}
     },
     "79379a7ccc6148b996eab2bd1c880329": {
      "model_module": "@jupyter-widgets/base",
      "model_module_version": "2.0.0",
      "model_name": "LayoutModel",
      "state": {
       "height": "250px"
      }
     },
     "896942b777454945bd93e5d894df72c6": {
      "model_module": "@jupyter-widgets/base",
      "model_module_version": "2.0.0",
      "model_name": "LayoutModel",
      "state": {}
     },
     "8d2d8663ab7746b2bf8ff5b1d2ea13d5": {
      "model_module": "@jupyter-widgets/base",
      "model_module_version": "2.0.0",
      "model_name": "LayoutModel",
      "state": {}
     },
     "96f45d16e8ba4db0be3b8d18c1ac9ee4": {
      "model_module": "@jupyter-widgets/controls",
      "model_module_version": "2.0.0",
      "model_name": "VBoxModel",
      "state": {
       "children": [
        "IPY_MODEL_38e0b61cf72445ee9edc8f98479c8fc8",
        "IPY_MODEL_466faa643a9149209fe852bdb4df57bd",
        "IPY_MODEL_5082fd0500cc4a348218bbcf1caf75ee"
       ],
       "layout": "IPY_MODEL_07ff67c2df4640b1b9fb0134d6cc70b9"
      }
     },
     "995b56835aa341c1b6461d6612e4b14d": {
      "model_module": "ipydatagrid",
      "model_module_version": "^1.1.16",
      "model_name": "TextRendererModel",
      "state": {
       "_model_module_version": "^1.1.16",
       "_view_module_version": "^1.1.16",
       "background_color": "IPY_MODEL_d389dd87bec641d9adc7d3f8e2403f2a",
       "text_color": "IPY_MODEL_405578615d2b44858c71a2493613f164"
      }
     },
     "9c4c4cbb647a4c948866661e991b3e62": {
      "model_module": "@jupyter-widgets/output",
      "model_module_version": "1.0.0",
      "model_name": "OutputModel",
      "state": {
       "layout": "IPY_MODEL_1888ee78fe4547c3bcaf169bf1aaa445"
      }
     },
     "9ee3964caaa0439a800256a92741b217": {
      "model_module": "@jupyter-widgets/controls",
      "model_module_version": "2.0.0",
      "model_name": "ButtonModel",
      "state": {
       "description": "Undo",
       "layout": "IPY_MODEL_8d2d8663ab7746b2bf8ff5b1d2ea13d5",
       "style": "IPY_MODEL_680de34fdbc74b97afb86079e94b176e",
       "tooltip": null
      }
     },
     "9fce25b079c6489b9d99d02645915341": {
      "model_module": "@jupyter-widgets/controls",
      "model_module_version": "2.0.0",
      "model_name": "HBoxModel",
      "state": {
       "children": [
        "IPY_MODEL_9ee3964caaa0439a800256a92741b217",
        "IPY_MODEL_415ed0c5cfc44729b5b7123e89866733",
        "IPY_MODEL_43a71b75bed0467882eeba71655f5bb1",
        "IPY_MODEL_543533355ea94031869125076b627b1b",
        "IPY_MODEL_52743bd8b8044506a4b1f6efaf99d866"
       ],
       "layout": "IPY_MODEL_73041206f31444d0b95ce601faf72369"
      }
     },
     "a3c68dc820bb436ca4cd39e4c98fc06a": {
      "model_module": "@jupyter-widgets/controls",
      "model_module_version": "2.0.0",
      "model_name": "ButtonStyleModel",
      "state": {
       "font_family": null,
       "font_size": null,
       "font_style": null,
       "font_variant": null,
       "font_weight": null,
       "text_color": null,
       "text_decoration": null
      }
     },
     "a63005869d5a4c19892f51c6497dfc99": {
      "model_module": "@jupyter-widgets/controls",
      "model_module_version": "2.0.0",
      "model_name": "ButtonStyleModel",
      "state": {
       "font_family": null,
       "font_size": null,
       "font_style": null,
       "font_variant": null,
       "font_weight": null,
       "text_color": null,
       "text_decoration": null
      }
     },
     "a9793804249c46379e705dd6967de677": {
      "model_module": "ipydatagrid",
      "model_module_version": "^1.1.16",
      "model_name": "TextRendererModel",
      "state": {
       "_model_module_version": "^1.1.16",
       "_view_module_version": "^1.1.16",
       "background_color": "IPY_MODEL_fc09e70c29f141d0aff996cd0cfc2b5f",
       "text_color": "IPY_MODEL_cd1c4e429c5d4fb887162658415d0ece"
      }
     },
     "b25c670d9c7c47b3829c37af718a2ca0": {
      "model_module": "@jupyter-widgets/base",
      "model_module_version": "2.0.0",
      "model_name": "LayoutModel",
      "state": {}
     },
     "b2b62b944e544b47a90dc5ccb5b5826b": {
      "model_module": "@jupyter-widgets/controls",
      "model_module_version": "2.0.0",
      "model_name": "ButtonModel",
      "state": {
       "description": "Add Column",
       "layout": "IPY_MODEL_896942b777454945bd93e5d894df72c6",
       "style": "IPY_MODEL_41841f10e114442989c287d8f9d4d390",
       "tooltip": null
      }
     },
     "ba5f9901b86642f99dd6fd34c13e015f": {
      "model_module": "@jupyter-widgets/base",
      "model_module_version": "2.0.0",
      "model_name": "LayoutModel",
      "state": {}
     },
     "bf46965ae9234a21919ac78eb3406a53": {
      "model_module": "@jupyter-widgets/controls",
      "model_module_version": "2.0.0",
      "model_name": "ButtonStyleModel",
      "state": {
       "font_family": null,
       "font_size": null,
       "font_style": null,
       "font_variant": null,
       "font_weight": null,
       "text_color": null,
       "text_decoration": null
      }
     },
     "c325a8a8e3874476868fa37f8a764dcb": {
      "model_module": "@jupyter-widgets/base",
      "model_module_version": "2.0.0",
      "model_name": "LayoutModel",
      "state": {}
     },
     "c7b743d29b7e4e179bb3024e5675c5d5": {
      "model_module": "@jupyter-widgets/base",
      "model_module_version": "2.0.0",
      "model_name": "LayoutModel",
      "state": {}
     },
     "cd1c4e429c5d4fb887162658415d0ece": {
      "model_module": "ipydatagrid",
      "model_module_version": "^1.1.16",
      "model_name": "VegaExprModel",
      "state": {
       "_model_module_version": "^1.1.16",
       "_view_module": "ipydatagrid",
       "_view_module_version": "^1.1.16",
       "_view_name": "VegaExprView"
      }
     },
     "d389dd87bec641d9adc7d3f8e2403f2a": {
      "model_module": "ipydatagrid",
      "model_module_version": "^1.1.16",
      "model_name": "VegaExprModel",
      "state": {
       "_model_module_version": "^1.1.16",
       "_view_module": "ipydatagrid",
       "_view_module_version": "^1.1.16",
       "_view_name": "VegaExprView"
      }
     },
     "dc67a5a97136480a85d081561d1f3371": {
      "model_module": "@jupyter-widgets/controls",
      "model_module_version": "2.0.0",
      "model_name": "ButtonModel",
      "state": {
       "description": "Generate Vectors",
       "layout": "IPY_MODEL_76766ff2a5fb4726ac6d13a985d0934d",
       "style": "IPY_MODEL_de3f00f9630a4297ad831c9b1f385234",
       "tooltip": null
      }
     },
     "de3f00f9630a4297ad831c9b1f385234": {
      "model_module": "@jupyter-widgets/controls",
      "model_module_version": "2.0.0",
      "model_name": "ButtonStyleModel",
      "state": {
       "font_family": null,
       "font_size": null,
       "font_style": null,
       "font_variant": null,
       "font_weight": null,
       "text_color": null,
       "text_decoration": null
      }
     },
     "ea8450c2a05c44309575c515d9a4e26c": {
      "model_module": "ipydatagrid",
      "model_module_version": "^1.1.16",
      "model_name": "DataGridModel",
      "state": {
       "_data": {
        "data": [
         {
          "0": "x",
          "1": "dx",
          "2": "y1",
          "3": "dy1",
          "4": "y2",
          "5": "dy2",
          "6": "y3",
          "7": "dy3",
          "ipydguuid": 0,
          "key": "  Variable:"
         },
         {
          "0": "s",
          "1": "s",
          "2": "m",
          "3": "m",
          "4": "m",
          "5": "m",
          "6": "m",
          "7": "m",
          "ipydguuid": 1,
          "key": " Units:"
         },
         {
          "0": "0.2",
          "1": "0.01",
          "2": "1.20",
          "3": "0.01",
          "4": "3.42",
          "5": "0.01",
          "6": "3.2",
          "7": "0.01",
          "ipydguuid": 2,
          "key": 0
         },
         {
          "0": "1.1",
          "1": "0.01",
          "2": "2.12",
          "3": "0.01",
          "4": "5.19",
          "5": "0.01",
          "6": "4.11",
          "7": "0.01",
          "ipydguuid": 3,
          "key": 1
         },
         {
          "0": "1.9",
          "1": "0.01",
          "2": "2.89",
          "3": "0.01",
          "4": "6.8",
          "5": "0.01",
          "6": "4.95",
          "7": "0.01",
          "ipydguuid": 4,
          "key": 2
         },
         {
          "0": "3.1",
          "1": "0.01",
          "2": "4.11",
          "3": "0.01",
          "4": "9.17",
          "5": "0.01",
          "6": "6.19",
          "7": "0.01",
          "ipydguuid": 5,
          "key": 3
         },
         {
          "0": "4.0",
          "1": "0.01",
          "2": "5.0",
          "3": "0.01",
          "4": "11.0",
          "5": "0.01",
          "6": "7.17",
          "7": "0.01",
          "ipydguuid": 6,
          "key": 4
         },
         {
          "0": "4.9",
          "1": "0.01",
          "2": "5.93",
          "3": "0.01",
          "4": "12.81",
          "5": "0.01",
          "6": "8.13",
          "7": "0.01",
          "ipydguuid": 7,
          "key": 5
         },
         {
          "0": "5.8",
          "1": "0.01",
          "2": "6.79",
          "3": "0.01",
          "4": "14.58",
          "5": "0.01",
          "6": "9.14",
          "7": "0.01",
          "ipydguuid": 8,
          "key": 6
         },
         {
          "0": "6.9",
          "1": "0.01",
          "2": "7.88",
          "3": "0.01",
          "4": "16.8",
          "5": "0.01",
          "6": "10.38",
          "7": "0.01",
          "ipydguuid": 9,
          "key": 7
         }
        ],
        "fields": [
         {
          "key": null
         },
         {
          "0": null
         },
         {
          "1": null
         },
         {
          "2": null
         },
         {
          "3": null
         },
         {
          "4": null
         },
         {
          "5": null
         },
         {
          "6": null
         },
         {
          "7": null
         },
         {
          "ipydguuid": null
         }
        ],
        "schema": {
         "fields": [
          {
           "name": "key",
           "type": "string"
          },
          {
           "name": 0,
           "type": "string"
          },
          {
           "name": 1,
           "type": "string"
          },
          {
           "name": 2,
           "type": "string"
          },
          {
           "name": 3,
           "type": "string"
          },
          {
           "name": 4,
           "type": "string"
          },
          {
           "name": 5,
           "type": "string"
          },
          {
           "name": 6,
           "type": "string"
          },
          {
           "name": 7,
           "type": "string"
          },
          {
           "name": "ipydguuid",
           "type": "integer"
          }
         ],
         "pandas_version": "1.4.0",
         "primaryKey": [
          "key",
          "ipydguuid"
         ],
         "primaryKeyUuid": "ipydguuid"
        }
       },
       "_model_module_version": "^1.1.16",
       "_model_name": "DataGridModel",
       "_view_module_version": "^1.1.16",
       "auto_fit_columns": false,
       "auto_fit_params": {
        "area": "all",
        "numCols": null,
        "padding": 30
       },
       "base_column_header_size": 20,
       "base_column_size": 64,
       "base_row_header_size": 64,
       "base_row_size": 20,
       "default_renderer": "IPY_MODEL_995b56835aa341c1b6461d6612e4b14d",
       "editable": true,
       "header_visibility": "all",
       "layout": "IPY_MODEL_79379a7ccc6148b996eab2bd1c880329",
       "selection_mode": "cell"
      }
     },
     "ef81ef91c50948b2a862ce4fa7df6412": {
      "model_module": "@jupyter-widgets/controls",
      "model_module_version": "2.0.0",
      "model_name": "VBoxModel",
      "state": {
       "children": [
        "IPY_MODEL_9fce25b079c6489b9d99d02645915341",
        "IPY_MODEL_ea8450c2a05c44309575c515d9a4e26c",
        "IPY_MODEL_9c4c4cbb647a4c948866661e991b3e62"
       ],
       "layout": "IPY_MODEL_175b32ec674043f59b21924605693082"
      }
     },
     "f43fdf61074b492684beed570f7838ef": {
      "model_module": "@jupyter-widgets/base",
      "model_module_version": "2.0.0",
      "model_name": "LayoutModel",
      "state": {}
     },
     "fc09e70c29f141d0aff996cd0cfc2b5f": {
      "model_module": "ipydatagrid",
      "model_module_version": "^1.1.16",
      "model_name": "VegaExprModel",
      "state": {
       "_model_module_version": "^1.1.16",
       "_view_module": "ipydatagrid",
       "_view_module_version": "^1.1.16",
       "_view_name": "VegaExprView"
      }
     }
    },
    "version_major": 2,
    "version_minor": 0
   }
  }
 },
 "nbformat": 4,
 "nbformat_minor": 5
}
