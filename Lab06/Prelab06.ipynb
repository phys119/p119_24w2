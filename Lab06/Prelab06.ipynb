{
 "cells": [
  {
   "attachments": {},
   "cell_type": "markdown",
   "id": "c0a76f2d-ef0a-4eee-9411-c124f1e08887",
   "metadata": {},
   "source": [
    "# Prelab 06: A review of residuals and fitting"
   ]
  },
  {
   "cell_type": "code",
   "execution_count": 1,
   "id": "80e509d0",
   "metadata": {},
   "outputs": [],
   "source": [
    "# /!\\ For VSCODE use only /!\\\n",
    "\n",
    "# importing os module  \n",
    "import os \n",
    "# import pprint \n",
    "  \n",
    "# Get the list of user's \n",
    "# env_var = os.environ \n",
    "  \n",
    "# Print the list of user's \n",
    "# print(\"User's Environment variable:\") \n",
    "# pprint.pprint(dict(env_var), width=1)\n",
    "\n",
    "os.environ['JPY_SESSION_NAME'] = __vsc_ipynb_file__"
   ]
  },
  {
   "cell_type": "code",
   "execution_count": null,
   "id": "1b294a4c-e07a-43e6-b6e9-de737f89c959",
   "metadata": {},
   "outputs": [],
   "source": [
    "%reset -f\n",
    "%Matplotlib widget\n",
    "import data_entry2\n",
    "import numpy as np\n",
    "import Matplotlib.pyplot as plt\n",
    "import fit_plot\n"
   ]
  },
  {
   "attachments": {},
   "cell_type": "markdown",
   "id": "b1c7e749-6d19-48d1-a16a-05da741efad5",
   "metadata": {},
   "source": [
    "This prelab focuses on revisting and reinforcing concepts from Lab 05. We start with a review of residual plots."
   ]
  },
  {
   "attachments": {},
   "cell_type": "markdown",
   "id": "b692a95b-892b-4b2f-bd5a-f0e39d5a3f98",
   "metadata": {
    "tags": []
   },
   "source": [
    "## 6.1 Review of residuals"
   ]
  },
  {
   "attachments": {},
   "cell_type": "markdown",
   "id": "41d4bf3d-1d4a-40f3-b2d0-93308f296326",
   "metadata": {},
   "source": [
    "**Your turn #1a:** Given experimental data and a model for that data, what is a residual?"
   ]
  },
  {
   "attachments": {},
   "cell_type": "markdown",
   "id": "363e57f7-4fc5-4f76-91c2-0d70bf4da8e7",
   "metadata": {},
   "source": []
  },
  {
   "attachments": {},
   "cell_type": "markdown",
   "id": "8da66fa7-4e33-439b-b45a-2a351a589242",
   "metadata": {},
   "source": [
    "**Your turn #1b:** What are the properties of a residual plot that inform us that the model is a good fit to the data?"
   ]
  },
  {
   "attachments": {},
   "cell_type": "markdown",
   "id": "8da6fda0-d830-4cb4-bd0e-6ad8ad148363",
   "metadata": {},
   "source": []
  },
  {
   "attachments": {},
   "cell_type": "markdown",
   "id": "7549b6de-1d02-48d6-b146-f0f1288bc4e5",
   "metadata": {
    "jp-MarkdownHeadingCollapsed": true,
    "tags": []
   },
   "source": [
    "##### **Answer for #1a:**"
   ]
  },
  {
   "attachments": {},
   "cell_type": "markdown",
   "id": "972fe2f5-6877-4274-9626-cec7dbceb3f3",
   "metadata": {},
   "source": [
    "A residual is defined as the difference between experimental data and a model, i.e., $r_i = y_i - f(x_i)$."
   ]
  },
  {
   "attachments": {},
   "cell_type": "markdown",
   "id": "58c9b12a-6304-495f-965d-27d5331160b9",
   "metadata": {
    "jp-MarkdownHeadingCollapsed": true,
    "tags": []
   },
   "source": [
    "##### **Answer for #1b:**"
   ]
  },
  {
   "attachments": {},
   "cell_type": "markdown",
   "id": "254156ce-7308-4af7-b048-430ce9b69622",
   "metadata": {},
   "source": [
    "A model that is a good fit to the data will have a residual plot with:<font>\n",
    "- No obvious trend\n",
    "- A roughly equal scatter of points across the $x$-axis ($x = 0$)\n",
    "- And if the uncertainties are well characterized, we will also see\n",
    "    + Roughly ~68% of error bars crossing the $x$-axis\n",
    "    + Roughly all (~95%) of doubled error bars crossing the $x$-axis"
   ]
  },
  {
   "attachments": {},
   "cell_type": "markdown",
   "id": "6390dd02-f08d-4252-bb0a-d5f385ce7fc9",
   "metadata": {
    "tags": []
   },
   "source": [
    "## 6.2 Use residuals to diagnose model fits"
   ]
  },
  {
   "attachments": {},
   "cell_type": "markdown",
   "id": "aaf4324a-09c6-4130-b704-29127f256c2b",
   "metadata": {},
   "source": [
    "Now that we have reminded ourselves of how to use residuals to diagnose the goodness of fit of a model to a given set of experimental data, let's use these criteria to diagnose some fits. Below, we have three data sets to which we have tried to fit the model of a straight line with intercept; $y = mx + b$. We provide a `slope` and `intercept` for an initial fit and ask you to diagnose what needs to be changed to improve the quality of the fit."
   ]
  },
  {
   "cell_type": "code",
   "execution_count": null,
   "id": "06a9ffbc-a740-4bc5-bc71-1a4c1bcfdaa1",
   "metadata": {},
   "outputs": [
    {
     "name": "stdout",
     "output_type": "stream",
     "text": [
      "Sheet name: lab06_prelab_data.csv\n"
     ]
    },
    {
     "data": {
      "application/vnd.jupyter.widget-view+json": {
       "model_id": "29b2e3d0fea345aab096b62e764826b9",
       "version_major": 2,
       "version_minor": 0
      },
      "text/plain": [
       "VBox(children=(HBox(children=(Button(description='Undo', style=ButtonStyle()), Button(description='Redo', styl…"
      ]
     },
     "metadata": {},
     "output_type": "display_data"
    }
   ],
   "source": [
    "# Run me to load our three data sets\n",
    "# Make sure to hit the \"Generate Vectors\" button!\n",
    "\n",
    "de1 = data_entry2.sheet(\"lab06_prelab_data.csv\")"
   ]
  },
  {
   "attachments": {},
   "cell_type": "markdown",
   "id": "f8709fc8-68e5-43d3-9603-50b5479709af",
   "metadata": {
    "tags": []
   },
   "source": [
    "### Your turn #2 (Dataset 1)\n",
    "Answer the questions below related to the fit shown and then for part c, update the fitting parameters to get a better fit. \n",
    "\n",
    "![dataset 1](https://i.ibb.co/r7ShPLk/data1.png)"
   ]
  },
  {
   "attachments": {},
   "cell_type": "markdown",
   "id": "11a6012a-3e0c-4f2b-b03d-3c4015a14375",
   "metadata": {},
   "source": [
    "#### **Your turn #2a:** Which feature(s) of the **residual** plot above indicates a problem with the fit of the model to the data?"
   ]
  },
  {
   "attachments": {},
   "cell_type": "markdown",
   "id": "c553ab4b-faa9-427a-9c3a-53d3fbc063d0",
   "metadata": {},
   "source": []
  },
  {
   "attachments": {},
   "cell_type": "markdown",
   "id": "abc01138-0e86-42e0-81f8-4c25039a3d15",
   "metadata": {
    "jp-MarkdownHeadingCollapsed": true,
    "tags": []
   },
   "source": [
    "##### **Answer #2a**"
   ]
  },
  {
   "attachments": {},
   "cell_type": "markdown",
   "id": "23af65be-6850-40d2-9625-a1dab9e21be4",
   "metadata": {},
   "source": [
    "We see a trend in the residuals where all of the residuals are negative, lying below the residuals = 0 line."
   ]
  },
  {
   "attachments": {},
   "cell_type": "markdown",
   "id": "4a62d3da-ca26-4c3d-9287-d7c20edfefe0",
   "metadata": {},
   "source": [
    "#### **Your turn #2b:** What should be changed about the model to improve the fit?"
   ]
  },
  {
   "attachments": {},
   "cell_type": "markdown",
   "id": "1c0a7ca6-c813-4dd8-94f0-372f6a2d021b",
   "metadata": {},
   "source": []
  },
  {
   "attachments": {},
   "cell_type": "markdown",
   "id": "c35a95b1-8aa2-4605-aa84-74e88f723207",
   "metadata": {
    "jp-MarkdownHeadingCollapsed": true,
    "tags": []
   },
   "source": [
    "##### **Answer #2b**"
   ]
  },
  {
   "attachments": {},
   "cell_type": "markdown",
   "id": "ed12cab0-f091-4b12-81a8-beebfdd1cccb",
   "metadata": {},
   "source": [
    "The $y$-intercept of the model is too large, so we should decrease it."
   ]
  },
  {
   "attachments": {},
   "cell_type": "markdown",
   "id": "4bf44dc4-9375-4da6-abed-b41dd0111c46",
   "metadata": {},
   "source": [
    "#### **Your turn #2c:** Run the `fit_plot.line` interactive fitting session below and update the fitting parameters to `slope = 1` and `intercept = 1.1` using the text entry boxes in the widget. Use the interactive fitting widget to update the fit to show a good fit in the scatter plot and residuals. What are your new slope and/or $y$-intercept?"
   ]
  },
  {
   "attachments": {},
   "cell_type": "markdown",
   "id": "e4cbb0d3-ac8f-4256-8092-92196f0ba8ac",
   "metadata": {},
   "source": []
  },
  {
   "cell_type": "code",
   "execution_count": null,
   "id": "d9daf92a-9dbc-4cc2-8936-629222f0eee7",
   "metadata": {},
   "outputs": [],
   "source": [
    "# Use the text boxes to manually update the values to\n",
    "# slope = 1, intercept = 1.1\n",
    "\n",
    "fit_plot.line(\"dataset 1\", xVec, y_1Vec, del_y_1Vec)"
   ]
  },
  {
   "attachments": {},
   "cell_type": "markdown",
   "id": "a6f132e8-2472-40d0-a27a-a2862ef59d55",
   "metadata": {
    "jp-MarkdownHeadingCollapsed": true,
    "tags": []
   },
   "source": [
    "##### **Answer #2c:**"
   ]
  },
  {
   "attachments": {},
   "cell_type": "markdown",
   "id": "5af39d3f-d813-43c9-8dc0-34826f509322",
   "metadata": {},
   "source": [
    "Changing the intercept from 1.1 to 1 in the code improves the model in the desired fashion."
   ]
  },
  {
   "attachments": {},
   "cell_type": "markdown",
   "id": "febd32d4-92ee-486d-85f4-67b12ba78fcc",
   "metadata": {
    "tags": []
   },
   "source": [
    "### Your turn #3 (Dataset 2)\n",
    "\n",
    "Answer the questions below related to the fit shown and then for part c, update the fitting parameters to get a better fit. \n",
    "\n",
    "![dataset 2](https://i.ibb.co/5sLwRZh/data2.png)"
   ]
  },
  {
   "attachments": {},
   "cell_type": "markdown",
   "id": "6472236c-87c2-4b3f-a933-342ebbcb1126",
   "metadata": {},
   "source": [
    "#### **Your turn #3a:** Which feature(s) of the residual plot above indicates a problem with the fit of the model to the data?"
   ]
  },
  {
   "attachments": {},
   "cell_type": "markdown",
   "id": "e9440bce-a74f-4360-8d15-576c96769641",
   "metadata": {},
   "source": []
  },
  {
   "attachments": {},
   "cell_type": "markdown",
   "id": "effa081f-9c4c-4e61-b326-e0c58d2447f2",
   "metadata": {
    "jp-MarkdownHeadingCollapsed": true,
    "tags": []
   },
   "source": [
    "##### **Answer #3a**"
   ]
  },
  {
   "attachments": {},
   "cell_type": "markdown",
   "id": "0978ec6a-10ca-4bcd-99f3-a8c53c816d29",
   "metadata": {},
   "source": [
    "We see an (upwards) linear trend in the residuals plot."
   ]
  },
  {
   "attachments": {},
   "cell_type": "markdown",
   "id": "15089a78-0d3f-4a35-bee3-f9b58f51715d",
   "metadata": {},
   "source": [
    "#### **Your turn #3b:** What should be changed about the model to improve the fit?"
   ]
  },
  {
   "attachments": {},
   "cell_type": "markdown",
   "id": "165f2f00-b2a2-493a-89bc-15b539083d78",
   "metadata": {},
   "source": []
  },
  {
   "attachments": {},
   "cell_type": "markdown",
   "id": "7a0ac048-77fe-4ec2-961a-f0e91a5789c2",
   "metadata": {
    "jp-MarkdownHeadingCollapsed": true,
    "tags": []
   },
   "source": [
    "##### **Answer #3b**"
   ]
  },
  {
   "attachments": {},
   "cell_type": "markdown",
   "id": "52e7ca85-d096-4c39-a8a6-eaf27bcfe7b4",
   "metadata": {},
   "source": [
    "The slope of the model is too small, so we should increase it."
   ]
  },
  {
   "attachments": {},
   "cell_type": "markdown",
   "id": "4f60430c-b674-48e5-a9f0-777eae810939",
   "metadata": {},
   "source": [
    "#### **Your turn #3c:** Run the `fit_plot.line` interactive fitting session below and update the fitting parameters to `slope = 1.98` and `intercept = 3` using the text entry boxes in the widget. Use the interactive fitting widget to update the fit to show a good fit in the scatter plot and residuals. What are your new slope and/or $y$-intercept?"
   ]
  },
  {
   "attachments": {},
   "cell_type": "markdown",
   "id": "bf9941ec-d9de-4724-8753-17fe543858a4",
   "metadata": {},
   "source": []
  },
  {
   "attachments": {},
   "cell_type": "markdown",
   "id": "c4bec1cd-09e3-4e65-bfa9-dd783113c91d",
   "metadata": {
    "jp-MarkdownHeadingCollapsed": true,
    "tags": []
   },
   "source": [
    "##### **Answer #3c**"
   ]
  },
  {
   "attachments": {},
   "cell_type": "markdown",
   "id": "fb104d65-9be7-4a93-8a35-3bbe8256fbf4",
   "metadata": {},
   "source": [
    "Changing the slope from 1.9 to 2 in the code improves the model in the desired fashion."
   ]
  },
  {
   "attachments": {},
   "cell_type": "markdown",
   "id": "e1abfbca-ae28-4900-b600-4a3c4fe46e6a",
   "metadata": {},
   "source": [
    "##### **Cell to generate plots for dataset 2**"
   ]
  },
  {
   "cell_type": "code",
   "execution_count": null,
   "id": "996b8cc9-151b-46ae-845f-07eb05dd6cf8",
   "metadata": {},
   "outputs": [
    {
     "data": {
      "application/vnd.jupyter.widget-view+json": {
       "model_id": "e64419c2e70c4462a1900c985ab9616d",
       "version_major": 2,
       "version_minor": 0
      },
      "text/plain": [
       "AppLayout(children=(Canvas(header_visible=False, layout=Layout(grid_area='header'), toolbar=Toolbar(toolitems=…"
      ]
     },
     "metadata": {},
     "output_type": "display_data"
    },
    {
     "data": {
      "text/plain": [
       "<fit_plot.line at 0x28da3fe89a0>"
      ]
     },
     "execution_count": 4,
     "metadata": {},
     "output_type": "execute_result"
    }
   ],
   "source": [
    "# Use the text boxes to manually update the values to\n",
    "# slope = 1.98, intercept = 3\n",
    "\n",
    "fit_plot.line(\"dataset 2\", xVec, y_2Vec, del_y_2Vec)"
   ]
  },
  {
   "attachments": {},
   "cell_type": "markdown",
   "id": "e4d4c4f0-d1db-4d62-b277-09ffbc27d0e3",
   "metadata": {
    "tags": []
   },
   "source": [
    "### Your turn #4 (dataset 3)"
   ]
  },
  {
   "attachments": {},
   "cell_type": "markdown",
   "id": "df62bd41-7618-4522-8faf-b7c4557fc9d5",
   "metadata": {},
   "source": [
    "**Note:** For this dataset, the issue with the model is a bit harder to fix compared to the other two examples; for this part it is alright to skip the step of fixing the model in the code, and just comment on what appears to be wrong and how one could feasibly improve the fit of the model to the data.\n",
    "\n",
    "![dataset 3](https://i.ibb.co/r0n2b5T/data3.png)"
   ]
  },
  {
   "attachments": {},
   "cell_type": "markdown",
   "id": "f79b845f-3ee1-42b5-80bc-8dce41c7d4d6",
   "metadata": {},
   "source": [
    "#### **Your turn #4a:** Which feature(s) of the **residual** plot above indicates a problem with the fit of the model to the data?"
   ]
  },
  {
   "attachments": {},
   "cell_type": "markdown",
   "id": "0c4145e1-2908-427e-9831-1750f10fffe7",
   "metadata": {},
   "source": []
  },
  {
   "attachments": {},
   "cell_type": "markdown",
   "id": "ebd4624f-c853-4189-932a-0165d04b5e9e",
   "metadata": {
    "jp-MarkdownHeadingCollapsed": true,
    "tags": []
   },
   "source": [
    "##### **Answer #4a**"
   ]
  },
  {
   "attachments": {},
   "cell_type": "markdown",
   "id": "b3a0365c-af80-4085-b1cc-c39d70062a01",
   "metadata": {},
   "source": [
    "We notice from the residuals plot that there is a upwards parabolic trend."
   ]
  },
  {
   "attachments": {},
   "cell_type": "markdown",
   "id": "5706a279-f9ba-4aca-a23b-06c2a2ec90e0",
   "metadata": {},
   "source": [
    "#### **Your turn #4b:** What should be changed about the model to improve the fit?"
   ]
  },
  {
   "attachments": {},
   "cell_type": "markdown",
   "id": "a397c59b-4b81-4837-9e16-3316156bcb09",
   "metadata": {},
   "source": []
  },
  {
   "attachments": {},
   "cell_type": "markdown",
   "id": "f7264770-baf9-4af8-9087-30f4471585fd",
   "metadata": {
    "jp-MarkdownHeadingCollapsed": true,
    "tags": []
   },
   "source": [
    "##### **Answer #4b**"
   ]
  },
  {
   "attachments": {},
   "cell_type": "markdown",
   "id": "ae801a6c-15bb-48f6-8f30-d80d39eeec89",
   "metadata": {},
   "source": [
    "This parabolic trend tells us that the current linear model is not a good fit for the data; we should add a (positive) quadratic term."
   ]
  },
  {
   "attachments": {},
   "cell_type": "markdown",
   "id": "3cbe13bc-4a59-4781-adbf-2d6301e1b7e6",
   "metadata": {},
   "source": [
    "#### **Your turn #4c (optional):** Play around with the interactive fitting below to convince yourself that no matter which compination of slope and intercept you try, a linear model will not result in a good fit."
   ]
  },
  {
   "cell_type": "code",
   "execution_count": 17,
   "id": "aa76ac92-1b98-4732-8584-1935a6b7d91a",
   "metadata": {},
   "outputs": [
    {
     "data": {
      "application/vnd.jupyter.widget-view+json": {
       "model_id": "d2545886403c4956a8323cb53a77998d",
       "version_major": 2,
       "version_minor": 0
      },
      "text/plain": [
       "AppLayout(children=(Canvas(header_visible=False, layout=Layout(grid_area='header'), toolbar=Toolbar(toolitems=…"
      ]
     },
     "metadata": {},
     "output_type": "display_data"
    },
    {
     "data": {
      "text/plain": [
       "<fit_plot.line at 0x28da6e08b20>"
      ]
     },
     "execution_count": 17,
     "metadata": {},
     "output_type": "execute_result"
    }
   ],
   "source": [
    "# Use the text boxes to manually update the values to\n",
    "# slope = 1, intercept = 3\n",
    "\n",
    "fit_plot.line(\"dataset 3\", xVec, y_3Vec, del_y_3Vec)"
   ]
  },
  {
   "cell_type": "markdown",
   "id": "f63163e1-19cf-4505-905c-2f80e2533ea8",
   "metadata": {},
   "source": [
    "## 6.3 Beyond linear models: quadratic models"
   ]
  },
  {
   "cell_type": "markdown",
   "id": "d2ed26ff",
   "metadata": {},
   "source": [
    "### 6.3.1 Definition"
   ]
  },
  {
   "cell_type": "markdown",
   "id": "2ea6f191-e082-43c4-ba7a-323724a88554",
   "metadata": {},
   "source": [
    "Data that is expected to be linear may, in reality, be more complicated. In that case, the assumption of linearity  fails to account for other significant (non-linear) effects. Therefore, it is beneficial to understand how to modify our modeling and plotting code to include non-linear effects. \n",
    "\n",
    "**Quadratic models** are represented by a quadratic function, usually written as (standard form):\n",
    "\n",
    "$$y = f(x) =ax^2 +bx + c,$$ \n",
    "\n",
    "where $a$ is the **quadratic coefficient**, $b$ is the **linear coefficient**, and $c$ is the **constant term**. Note that $b$ here is **not** the same parameter as for a linear model.\n",
    "\n",
    "The graph of a quadratic function is a **parabola**."
   ]
  },
  {
   "cell_type": "markdown",
   "id": "a876d1d5",
   "metadata": {},
   "source": [
    "### 6.3.2 Example"
   ]
  },
  {
   "cell_type": "markdown",
   "id": "d32169d8",
   "metadata": {},
   "source": [
    "*In this example, we adapt the plotting code from section 5.5 in Prelab 05 and use dataset 3 from this prelab. We introduce the Matplotlib function `plt.subplots()` which enables to create multiple plots in one figure.*\n",
    "\n",
    "*We recommend using (and adapting) either of these plotting codes (linear or quadratic model version) for Lab 06 and future labs.*"
   ]
  },
  {
   "cell_type": "markdown",
   "id": "73f500d8",
   "metadata": {},
   "source": [
    "💡 The Matplotlib function `plt.subplots()` returns:\n",
    "- `fig`: a Python figure (equivalent to the one returned by `plt.figure()`)\n",
    "- `axs`: an array of Axes objects (i.e. the subplots themselves). The shape of the resulting array is given by the parameters `nrows` and  `ncols` (number of rows and columns of the subplot grid, respectively) of `plt.subplots()`. For example: `plt.subplots(nrows=3, ncols=2)` returns an array of Axes of shape $(3,2)$; then `axs[2,0]` refers to the subplot located in row 3 and column 1 of the subplot grid (❗remember that Python starts counting at 0).\n",
    "\n"
   ]
  },
  {
   "cell_type": "markdown",
   "id": "a7b88c63",
   "metadata": {},
   "source": [
    "💡 Simple LaTex equations are supported by Matplotlib: the string needs to be placed inside a pair of dollar signs `$`. Note that Latex symbols containing a backslash, will need to be written with two backslashes. For example: `$\\alpha$` (LaTex) --> `\"$\\\\alpha$\"` (Matplotlib)."
   ]
  },
  {
   "cell_type": "markdown",
   "id": "364abb51",
   "metadata": {},
   "source": [
    "First, we will attempt to fit data from dataset 3 with a linear model. Then we will use a quadratic model (non-linear) and update the plotting code accordingly."
   ]
  },
  {
   "cell_type": "markdown",
   "id": "6b16e790-4a74-4627-95df-2fee906d7c06",
   "metadata": {},
   "source": [
    "#### Best-fitting attempt using a linear model"
   ]
  },
  {
   "cell_type": "code",
   "execution_count": 91,
   "id": "dd89cf4c",
   "metadata": {},
   "outputs": [
    {
     "data": {
      "application/vnd.jupyter.widget-view+json": {
       "model_id": "5e1f2e3086b34cc98f35c606835bec38",
       "version_major": 2,
       "version_minor": 0
      },
      "image/png": "[encoded data removed]",
      "text/html": [
       "\n",
       "            <div style=\"display: inline-block;\">\n",
       "                <div class=\"jupyter-widgets widget-label\" style=\"text-align: center;\">\n",
       "                    Figure\n",
       "                </div>\n",
       "                <img src='data:image/png;base64,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' width=600.0/>\n",
       "            </div>\n",
       "        "
      ],
      "text/plain": [
       "Canvas(toolbar=Toolbar(toolitems=[('Home', 'Reset original view', 'home', 'home'), ('Back', 'Back to previous …"
      ]
     },
     "metadata": {},
     "output_type": "display_data"
    }
   ],
   "source": [
    "# LINEAR MODEL\n",
    "\n",
    "# Model – step 1: find the range of x values from the experimental data.\n",
    "x_data = xVec\n",
    "y_data = y_3Vec\n",
    "del_x_data = del_xVec\n",
    "del_y_data = del_y_3Vec\n",
    "x_min = np.min(x_data)  # find the smallest x value\n",
    "x_max = np.max(x_data)  # find the largest x value\n",
    "\n",
    "# Model – step 2: generate an array of model x values between x_min and x_max\n",
    "# for which we want to plot the model y values.\n",
    "x_model = np.linspace(\n",
    "    start=x_min, stop=x_max, num=200\n",
    "    )  # return 200 evenly spaced values\n",
    "\n",
    "# Model – step 3: calculate the model y values at each of the model x values.\n",
    "# Choose best-fitting values for the linear model.\n",
    "m = 1.07\n",
    "b = 2.94\n",
    "y_model = m * x_model + b\n",
    "\n",
    "# Model – step 4: plot the model on the graph of the experimental data.\n",
    "# Create a figure and a set of subplots and reference them in the\n",
    "# variables \"fig\" and \"axs\".\n",
    "fig, axs = plt.subplots(\n",
    "    nrows=2, ncols=1, squeeze=False,\n",
    "    height_ratios=[1.75, 1], figsize=(6, 8)\n",
    "    )  # do not change\n",
    "\n",
    "data_label = \"dataset 3\"\n",
    "graph_title = \"Dataset 3 with the best-fitting curve from a linear model\"\n",
    "x_label = \"$x$ (s)\"\n",
    "y_label = \"$y$ (m)\"\n",
    "axs[0, 0].errorbar(\n",
    "    x=x_data, y=y_data, yerr=del_y_data,\n",
    "    fmt='bo', markersize=3, label=data_label\n",
    "    )  # plot experimental data\n",
    "axs[0, 0].set_title(graph_title)\n",
    "axs[0, 0].set_xlabel(x_label)\n",
    "axs[0, 0].set_ylabel(y_label)\n",
    "\n",
    "model_label = \"model ($y = mx + b$)\"\n",
    "axs[0, 0].plot(x_model, y_model, \"r-\", label=model_label)  # plot model data\n",
    "# Add a legend (you can change the location as needed)\n",
    "axs[0, 0].legend(loc='upper left')\n",
    "\n",
    "# Residuals – step 1: calculate the model predictions y_prediction for each of\n",
    "# the measured x_data values.\n",
    "y_prediction = m * x_data + b\n",
    "\n",
    "# Residuals – step 2: calculate the residuals.\n",
    "residuals = y_data - y_prediction\n",
    "\n",
    "# Residuals – step 3: plot the residuals against the measured x_data values.\n",
    "residual_graph_title = \"Corresponding residuals\"\n",
    "residual_y_label = \"residual = data - model (m)\"\n",
    "axs[1, 0].errorbar(\n",
    "    x=x_data, y=residuals, yerr=del_y_data,\n",
    "    fmt='bo', markersize=3, label=data_label\n",
    "    )\n",
    "axs[1, 0].set_title(residual_graph_title)\n",
    "axs[1, 0].set_xlabel(x_label)  # reuse the x-label from the scatter plot\n",
    "axs[1, 0].set_ylabel(residual_y_label)\n",
    "\n",
    "# Residuals – step 4: add a horizontal line at r=0 to the plot.\n",
    "axs[1, 0].hlines(y=0, xmin=x_min, xmax=x_max, color='k', label=\"$r = 0$\")\n",
    "# Add a legend (you can change the location as needed)\n",
    "axs[1, 0].legend(loc='lower left', fontsize='small')\n",
    "\n",
    "plt.tight_layout()  # adjust the padding between and around subplots\n",
    "plt.show()"
   ]
  },
  {
   "cell_type": "markdown",
   "id": "eef8b684",
   "metadata": {},
   "source": [
    "The parabolic trend in the residuals highlights the need for a quadratic model."
   ]
  },
  {
   "cell_type": "markdown",
   "id": "1bd5774e",
   "metadata": {},
   "source": [
    "#### Best-fitting attempt using a quadratic model"
   ]
  },
  {
   "cell_type": "code",
   "execution_count": 92,
   "id": "92621081",
   "metadata": {},
   "outputs": [
    {
     "data": {
      "application/vnd.jupyter.widget-view+json": {
       "model_id": "63eea7e8e7d042a48808f5f7eb5ab771",
       "version_major": 2,
       "version_minor": 0
      },
      "image/png": "[encoded data removed]",
      "text/html": [
       "\n",
       "            <div style=\"display: inline-block;\">\n",
       "                <div class=\"jupyter-widgets widget-label\" style=\"text-align: center;\">\n",
       "                    Figure\n",
       "                </div>\n",
       "                <img src='data:image/png;base64,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' width=600.0/>\n",
       "            </div>\n",
       "        "
      ],
      "text/plain": [
       "Canvas(toolbar=Toolbar(toolitems=[('Home', 'Reset original view', 'home', 'home'), ('Back', 'Back to previous …"
      ]
     },
     "metadata": {},
     "output_type": "display_data"
    }
   ],
   "source": [
    "# QUADRATIC MODEL\n",
    "\n",
    "# Model – step 1: find the range of x values from the experimental data.\n",
    "x_data = xVec\n",
    "y_data = y_3Vec\n",
    "del_x_data = del_xVec\n",
    "del_y_data = del_y_3Vec\n",
    "x_min = np.min(x_data)  # find the smallest x value\n",
    "x_max = np.max(x_data)  # find the largest x value\n",
    "\n",
    "# Model – step 2: generate an array of model x values between x_min and x_max\n",
    "# for which we want to plot the model y values.\n",
    "x_model = np.linspace(\n",
    "    start=x_min, stop=x_max, num=200\n",
    "    )  # return 200 evenly spaced values\n",
    "\n",
    "# Model – step 3: calculate the model y values at each of the model x values.\n",
    "# Choose best-fitting values for the quadratic model.\n",
    "a = 0.01\n",
    "b = 1\n",
    "c = 3\n",
    "y_model = a * x_model**2 + b * x_model + c\n",
    "\n",
    "# Model – step 4: plot the model on the graph of the experimental data.\n",
    "# Create a figure and a set of subplots and reference them in the\n",
    "# variables \"fig\" and \"axs\".\n",
    "fig, axs = plt.subplots(\n",
    "    nrows=2, ncols=1, squeeze=False,\n",
    "    height_ratios=[1.75, 1], figsize=(6, 8)\n",
    "    )  # do not change\n",
    "\n",
    "data_label = \"dataset 3\"\n",
    "graph_title = \"Dataset 3 with the best-fitting curve from a quadratic model\"\n",
    "x_label = \"$x$ (s)\"\n",
    "y_label = \"$y$ (m)\"\n",
    "axs[0, 0].errorbar(\n",
    "    x=x_data, y=y_data, yerr=del_y_data,\n",
    "    fmt='bo', markersize=3, label=data_label\n",
    "    )  # plot experimental data\n",
    "axs[0, 0].set_title(graph_title)\n",
    "axs[0, 0].set_xlabel(x_label)\n",
    "axs[0, 0].set_ylabel(y_label)\n",
    "\n",
    "model_label = \"model ($y = ax^2 + bx + c$)\"\n",
    "axs[0, 0].plot(x_model, y_model, \"r-\", label=model_label)  # plot model data\n",
    "# Add a legend (you can change the location as needed)\n",
    "axs[0, 0].legend(loc='upper left')\n",
    "\n",
    "# Residuals – step 1: calculate the model predictions y_prediction for each of\n",
    "# the measured x_data values.\n",
    "y_prediction = a * x_data**2 + b * x_data + c\n",
    "\n",
    "# Residuals – step 2: calculate the residuals.\n",
    "residuals = y_data - y_prediction\n",
    "\n",
    "# Residuals – step 3: plot the residuals against the measured x_data values.\n",
    "residual_graph_title = \"Corresponding residuals\"\n",
    "residual_y_label = \"residual = data - model (m)\"\n",
    "axs[1, 0].errorbar(\n",
    "    x=x_data, y=residuals, yerr=del_y_data,\n",
    "    fmt='bo', markersize=3, label=data_label\n",
    "    )\n",
    "axs[1, 0].set_title(residual_graph_title)\n",
    "axs[1, 0].set_xlabel(x_label)  # reuse the x-label from the scatter plot\n",
    "axs[1, 0].set_ylabel(residual_y_label)\n",
    "\n",
    "# Residuals – step 4: add a horizontal line at r=0 to the plot.\n",
    "axs[1, 0].hlines(y=0, xmin=x_min, xmax=x_max, color='k', label=\"$r = 0$\")\n",
    "# Add a legend (you can change the location as needed)\n",
    "axs[1, 0].legend(loc='upper left', fontsize='small')\n",
    "\n",
    "plt.tight_layout()  # adjust the padding between and around subplots\n",
    "plt.show()"
   ]
  },
  {
   "cell_type": "markdown",
   "id": "12377e64-de8b-432f-ae15-5b5c7a107bff",
   "metadata": {},
   "source": [
    "## Your turn #5: Preparing your Lab 06 notebook\n",
    "In this final set of tasks, you will prepare your Lab 06 notebook for data collection and analysis.\n",
    "\n",
    "1. Open the Lab 06 Instructions on Canvas and take a few minutes to read through them so that you have a sense of how you will be spending your time during the lab.\n",
    "2. In Part B, you will notice that we will be reanalyzing the data from Lab 05. Add some code to your Part B notebook to read your Lab 05 data into the Lab 06 notebook and launch the `fit_plot.line()` interactive fitting widget. Update the fit parameters to match your best fit from Lab 05. We will be learning a new tool to help us improve our fits even further, and we will want to use your previous best fit as a starting point.\n",
    "3. Also in Part B (Step 3), you will use your Matplotlib graphing skills to create nice, well-labeled plots, as you did in Section 6.3 of this prelab. Copy and paste the code you need to create these plots. \n",
    "\n",
    "You should now be ready for this lab."
   ]
  },
  {
   "attachments": {},
   "cell_type": "markdown",
   "id": "43f99a8b-81b4-489f-9c3c-4507014b16de",
   "metadata": {},
   "source": [
    "# Submit\n",
    "\n",
    "Steps for submission:\n",
    "\n",
    "1. Click: Run => Run_All_Cells\n",
    "2. Read through the notebook to ensure all the cells executed correctly and without error.\n",
    "3. File => Save_and_Export_Notebook_As->HTML\n",
    "4. Inspect your downloaded html document\n",
    "5. Upload the HTML document to the lab submission assignment on Canvas."
   ]
  },
  {
   "cell_type": "code",
   "execution_count": null,
   "id": "eb38a50c-d9d7-46da-9f99-0b3823d14b1a",
   "metadata": {},
   "outputs": [],
   "source": [
    "# The following function will display tables based on the data currently\n",
    "# stored in your data_entry2 spreadsheets. Please do not modify this cell.\n",
    "display_sheets()"
   ]
  }
 ],
 "metadata": {
  "kernelspec": {
   "display_name": "phys119",
   "language": "python",
   "name": "python3"
  },
  "language_info": {
   "codemirror_mode": {
    "name": "ipython",
    "version": 3
   },
   "file_extension": ".py",
   "mimetype": "text/x-python",
   "name": "python",
   "nbconvert_exporter": "python",
   "pygments_lexer": "ipython3",
   "version": "3.10.16"
  },
  "widgets": {
   "application/vnd.jupyter.widget-state+json": {
    "state": {
     "05bbaa4710de413893459a7134286dc5": {
      "model_module": "@jupyter-widgets/controls",
      "model_module_version": "2.0.0",
      "model_name": "ButtonModel",
      "state": {
       "description": "Undo",
       "layout": "IPY_MODEL_17c92d0aeae743ad8aef9eff31d73094",
       "style": "IPY_MODEL_4879962e31064707bb83d22017e06b71",
       "tooltip": null
      }
     },
     "07ff67c2df4640b1b9fb0134d6cc70b9": {
      "model_module": "@jupyter-widgets/base",
      "model_module_version": "2.0.0",
      "model_name": "LayoutModel",
      "state": {}
     },
     "0d75512179b142df91417ffa3b7fb679": {
      "model_module": "@jupyter-widgets/base",
      "model_module_version": "2.0.0",
      "model_name": "LayoutModel",
      "state": {}
     },
     "168cc55cfd6a4142811475c6d018697c": {
      "model_module": "@jupyter-widgets/base",
      "model_module_version": "2.0.0",
      "model_name": "LayoutModel",
      "state": {}
     },
     "175b32ec674043f59b21924605693082": {
      "model_module": "@jupyter-widgets/base",
      "model_module_version": "2.0.0",
      "model_name": "LayoutModel",
      "state": {}
     },
     "175e8cb9e83b43a5b95f42efadfda72a": {
      "model_module": "@jupyter-widgets/base",
      "model_module_version": "2.0.0",
      "model_name": "LayoutModel",
      "state": {
       "height": "250px"
      }
     },
     "17c92d0aeae743ad8aef9eff31d73094": {
      "model_module": "@jupyter-widgets/base",
      "model_module_version": "2.0.0",
      "model_name": "LayoutModel",
      "state": {}
     },
     "1888ee78fe4547c3bcaf169bf1aaa445": {
      "model_module": "@jupyter-widgets/base",
      "model_module_version": "2.0.0",
      "model_name": "LayoutModel",
      "state": {}
     },
     "309fddb87d6b473f80e5dd6d40e3cf15": {
      "model_module": "@jupyter-widgets/controls",
      "model_module_version": "2.0.0",
      "model_name": "ButtonModel",
      "state": {
       "description": "Add Row",
       "layout": "IPY_MODEL_f43fdf61074b492684beed570f7838ef",
       "style": "IPY_MODEL_3c4d42ac8733492bb20363694434e60b",
       "tooltip": null
      }
     },
     "35975af214be4db4acbff8ee1e55be93": {
      "model_module": "@jupyter-widgets/base",
      "model_module_version": "2.0.0",
      "model_name": "LayoutModel",
      "state": {}
     },
     "38e0b61cf72445ee9edc8f98479c8fc8": {
      "model_module": "@jupyter-widgets/controls",
      "model_module_version": "2.0.0",
      "model_name": "HBoxModel",
      "state": {
       "children": [
        "IPY_MODEL_05bbaa4710de413893459a7134286dc5",
        "IPY_MODEL_5b219e8f36624c70a580be5c996cf5d9",
        "IPY_MODEL_309fddb87d6b473f80e5dd6d40e3cf15",
        "IPY_MODEL_b2b62b944e544b47a90dc5ccb5b5826b",
        "IPY_MODEL_dc67a5a97136480a85d081561d1f3371"
       ],
       "layout": "IPY_MODEL_168cc55cfd6a4142811475c6d018697c"
      }
     },
     "3c4d42ac8733492bb20363694434e60b": {
      "model_module": "@jupyter-widgets/controls",
      "model_module_version": "2.0.0",
      "model_name": "ButtonStyleModel",
      "state": {
       "font_family": null,
       "font_size": null,
       "font_style": null,
       "font_variant": null,
       "font_weight": null,
       "text_color": null,
       "text_decoration": null
      }
     },
     "3cc6732a069b4c30a86d54b87661fcce": {
      "model_module": "@jupyter-widgets/controls",
      "model_module_version": "2.0.0",
      "model_name": "ButtonStyleModel",
      "state": {
       "font_family": null,
       "font_size": null,
       "font_style": null,
       "font_variant": null,
       "font_weight": null,
       "text_color": null,
       "text_decoration": null
      }
     },
     "405578615d2b44858c71a2493613f164": {
      "model_module": "ipydatagrid",
      "model_module_version": "^1.1.16",
      "model_name": "VegaExprModel",
      "state": {
       "_model_module_version": "^1.1.16",
       "_view_module": "ipydatagrid",
       "_view_module_version": "^1.1.16",
       "_view_name": "VegaExprView"
      }
     },
     "415ed0c5cfc44729b5b7123e89866733": {
      "model_module": "@jupyter-widgets/controls",
      "model_module_version": "2.0.0",
      "model_name": "ButtonModel",
      "state": {
       "description": "Redo",
       "layout": "IPY_MODEL_c7b743d29b7e4e179bb3024e5675c5d5",
       "style": "IPY_MODEL_764fef0f00274eeb9d8ad6948b073096",
       "tooltip": null
      }
     },
     "41841f10e114442989c287d8f9d4d390": {
      "model_module": "@jupyter-widgets/controls",
      "model_module_version": "2.0.0",
      "model_name": "ButtonStyleModel",
      "state": {
       "font_family": null,
       "font_size": null,
       "font_style": null,
       "font_variant": null,
       "font_weight": null,
       "text_color": null,
       "text_decoration": null
      }
     },
     "43a71b75bed0467882eeba71655f5bb1": {
      "model_module": "@jupyter-widgets/controls",
      "model_module_version": "2.0.0",
      "model_name": "ButtonModel",
      "state": {
       "description": "Add Row",
       "layout": "IPY_MODEL_0d75512179b142df91417ffa3b7fb679",
       "style": "IPY_MODEL_a63005869d5a4c19892f51c6497dfc99",
       "tooltip": null
      }
     },
     "466faa643a9149209fe852bdb4df57bd": {
      "model_module": "ipydatagrid",
      "model_module_version": "^1.1.16",
      "model_name": "DataGridModel",
      "state": {
       "_data": {
        "data": [
         {
          "0": "x",
          "1": "dx",
          "2": "y1",
          "3": "dy1",
          "4": "y2",
          "5": "dy2",
          "6": "y3",
          "7": "dy3",
          "ipydguuid": 0,
          "key": "  Variable:"
         },
         {
          "0": "s",
          "1": "s",
          "2": "m",
          "3": "m",
          "4": "m",
          "5": "m",
          "6": "m",
          "7": "m",
          "ipydguuid": 1,
          "key": " Units:"
         },
         {
          "0": "0.2",
          "1": "0.01",
          "2": "1.20",
          "3": "0.01",
          "4": "3.42",
          "5": "0.01",
          "6": "3.2",
          "7": "0.01",
          "ipydguuid": 2,
          "key": 0
         },
         {
          "0": "1.1",
          "1": "0.01",
          "2": "2.12",
          "3": "0.01",
          "4": "5.19",
          "5": "0.01",
          "6": "4.11",
          "7": "0.01",
          "ipydguuid": 3,
          "key": 1
         },
         {
          "0": "1.9",
          "1": "0.01",
          "2": "2.89",
          "3": "0.01",
          "4": "6.8",
          "5": "0.01",
          "6": "4.95",
          "7": "0.01",
          "ipydguuid": 4,
          "key": 2
         },
         {
          "0": "3.1",
          "1": "0.01",
          "2": "4.11",
          "3": "0.01",
          "4": "9.17",
          "5": "0.01",
          "6": "6.19",
          "7": "0.01",
          "ipydguuid": 5,
          "key": 3
         },
         {
          "0": "4.0",
          "1": "0.01",
          "2": "5.0",
          "3": "0.01",
          "4": "11.0",
          "5": "0.01",
          "6": "7.17",
          "7": "0.01",
          "ipydguuid": 6,
          "key": 4
         },
         {
          "0": "4.9",
          "1": "0.01",
          "2": "5.93",
          "3": "0.01",
          "4": "12.81",
          "5": "0.01",
          "6": "8.13",
          "7": "0.01",
          "ipydguuid": 7,
          "key": 5
         },
         {
          "0": "5.8",
          "1": "0.01",
          "2": "6.79",
          "3": "0.01",
          "4": "14.58",
          "5": "0.01",
          "6": "9.14",
          "7": "0.01",
          "ipydguuid": 8,
          "key": 6
         },
         {
          "0": "6.9",
          "1": "0.01",
          "2": "7.88",
          "3": "0.01",
          "4": "16.8",
          "5": "0.01",
          "6": "10.38",
          "7": "0.01",
          "ipydguuid": 9,
          "key": 7
         }
        ],
        "fields": [
         {
          "key": null
         },
         {
          "0": null
         },
         {
          "1": null
         },
         {
          "2": null
         },
         {
          "3": null
         },
         {
          "4": null
         },
         {
          "5": null
         },
         {
          "6": null
         },
         {
          "7": null
         },
         {
          "ipydguuid": null
         }
        ],
        "schema": {
         "fields": [
          {
           "name": "key",
           "type": "string"
          },
          {
           "name": 0,
           "type": "string"
          },
          {
           "name": 1,
           "type": "string"
          },
          {
           "name": 2,
           "type": "string"
          },
          {
           "name": 3,
           "type": "string"
          },
          {
           "name": 4,
           "type": "string"
          },
          {
           "name": 5,
           "type": "string"
          },
          {
           "name": 6,
           "type": "string"
          },
          {
           "name": 7,
           "type": "string"
          },
          {
           "name": "ipydguuid",
           "type": "integer"
          }
         ],
         "pandas_version": "1.4.0",
         "primaryKey": [
          "key",
          "ipydguuid"
         ],
         "primaryKeyUuid": "ipydguuid"
        }
       },
       "_model_module_version": "^1.1.16",
       "_model_name": "DataGridModel",
       "_view_module_version": "^1.1.16",
       "auto_fit_columns": false,
       "auto_fit_params": {
        "area": "all",
        "numCols": null,
        "padding": 30
       },
       "base_column_header_size": 20,
       "base_column_size": 64,
       "base_row_header_size": 64,
       "base_row_size": 20,
       "default_renderer": "IPY_MODEL_a9793804249c46379e705dd6967de677",
       "editable": true,
       "header_visibility": "all",
       "layout": "IPY_MODEL_175e8cb9e83b43a5b95f42efadfda72a",
       "selection_mode": "cell"
      }
     },
     "4879962e31064707bb83d22017e06b71": {
      "model_module": "@jupyter-widgets/controls",
      "model_module_version": "2.0.0",
      "model_name": "ButtonStyleModel",
      "state": {
       "font_family": null,
       "font_size": null,
       "font_style": null,
       "font_variant": null,
       "font_weight": null,
       "text_color": null,
       "text_decoration": null
      }
     },
     "5082fd0500cc4a348218bbcf1caf75ee": {
      "model_module": "@jupyter-widgets/output",
      "model_module_version": "1.0.0",
      "model_name": "OutputModel",
      "state": {
       "layout": "IPY_MODEL_55e044702c8d46ba9c584070a2346e16"
      }
     },
     "52743bd8b8044506a4b1f6efaf99d866": {
      "model_module": "@jupyter-widgets/controls",
      "model_module_version": "2.0.0",
      "model_name": "ButtonModel",
      "state": {
       "description": "Generate Vectors",
       "layout": "IPY_MODEL_b25c670d9c7c47b3829c37af718a2ca0",
       "style": "IPY_MODEL_3cc6732a069b4c30a86d54b87661fcce",
       "tooltip": null
      }
     },
     "543533355ea94031869125076b627b1b": {
      "model_module": "@jupyter-widgets/controls",
      "model_module_version": "2.0.0",
      "model_name": "ButtonModel",
      "state": {
       "description": "Add Column",
       "layout": "IPY_MODEL_35975af214be4db4acbff8ee1e55be93",
       "style": "IPY_MODEL_a3c68dc820bb436ca4cd39e4c98fc06a",
       "tooltip": null
      }
     },
     "55e044702c8d46ba9c584070a2346e16": {
      "model_module": "@jupyter-widgets/base",
      "model_module_version": "2.0.0",
      "model_name": "LayoutModel",
      "state": {}
     },
     "5b219e8f36624c70a580be5c996cf5d9": {
      "model_module": "@jupyter-widgets/controls",
      "model_module_version": "2.0.0",
      "model_name": "ButtonModel",
      "state": {
       "description": "Redo",
       "layout": "IPY_MODEL_66238a51ceff48df89e759813fb65b1b",
       "style": "IPY_MODEL_bf46965ae9234a21919ac78eb3406a53",
       "tooltip": null
      }
     },
     "66238a51ceff48df89e759813fb65b1b": {
      "model_module": "@jupyter-widgets/base",
      "model_module_version": "2.0.0",
      "model_name": "LayoutModel",
      "state": {}
     },
     "680de34fdbc74b97afb86079e94b176e": {
      "model_module": "@jupyter-widgets/controls",
      "model_module_version": "2.0.0",
      "model_name": "ButtonStyleModel",
      "state": {
       "font_family": null,
       "font_size": null,
       "font_style": null,
       "font_variant": null,
       "font_weight": null,
       "text_color": null,
       "text_decoration": null
      }
     },
     "73041206f31444d0b95ce601faf72369": {
      "model_module": "@jupyter-widgets/base",
      "model_module_version": "2.0.0",
      "model_name": "LayoutModel",
      "state": {}
     },
     "764fef0f00274eeb9d8ad6948b073096": {
      "model_module": "@jupyter-widgets/controls",
      "model_module_version": "2.0.0",
      "model_name": "ButtonStyleModel",
      "state": {
       "font_family": null,
       "font_size": null,
       "font_style": null,
       "font_variant": null,
       "font_weight": null,
       "text_color": null,
       "text_decoration": null
      }
     },
     "76766ff2a5fb4726ac6d13a985d0934d": {
      "model_module": "@jupyter-widgets/base",
      "model_module_version": "2.0.0",
      "model_name": "LayoutModel",
      "state": {}
     },
     "79379a7ccc6148b996eab2bd1c880329": {
      "model_module": "@jupyter-widgets/base",
      "model_module_version": "2.0.0",
      "model_name": "LayoutModel",
      "state": {
       "height": "250px"
      }
     },
     "896942b777454945bd93e5d894df72c6": {
      "model_module": "@jupyter-widgets/base",
      "model_module_version": "2.0.0",
      "model_name": "LayoutModel",
      "state": {}
     },
     "8d2d8663ab7746b2bf8ff5b1d2ea13d5": {
      "model_module": "@jupyter-widgets/base",
      "model_module_version": "2.0.0",
      "model_name": "LayoutModel",
      "state": {}
     },
     "96f45d16e8ba4db0be3b8d18c1ac9ee4": {
      "model_module": "@jupyter-widgets/controls",
      "model_module_version": "2.0.0",
      "model_name": "VBoxModel",
      "state": {
       "children": [
        "IPY_MODEL_38e0b61cf72445ee9edc8f98479c8fc8",
        "IPY_MODEL_466faa643a9149209fe852bdb4df57bd",
        "IPY_MODEL_5082fd0500cc4a348218bbcf1caf75ee"
       ],
       "layout": "IPY_MODEL_07ff67c2df4640b1b9fb0134d6cc70b9"
      }
     },
     "995b56835aa341c1b6461d6612e4b14d": {
      "model_module": "ipydatagrid",
      "model_module_version": "^1.1.16",
      "model_name": "TextRendererModel",
      "state": {
       "_model_module_version": "^1.1.16",
       "_view_module_version": "^1.1.16",
       "background_color": "IPY_MODEL_d389dd87bec641d9adc7d3f8e2403f2a",
       "text_color": "IPY_MODEL_405578615d2b44858c71a2493613f164"
      }
     },
     "9c4c4cbb647a4c948866661e991b3e62": {
      "model_module": "@jupyter-widgets/output",
      "model_module_version": "1.0.0",
      "model_name": "OutputModel",
      "state": {
       "layout": "IPY_MODEL_1888ee78fe4547c3bcaf169bf1aaa445"
      }
     },
     "9ee3964caaa0439a800256a92741b217": {
      "model_module": "@jupyter-widgets/controls",
      "model_module_version": "2.0.0",
      "model_name": "ButtonModel",
      "state": {
       "description": "Undo",
       "layout": "IPY_MODEL_8d2d8663ab7746b2bf8ff5b1d2ea13d5",
       "style": "IPY_MODEL_680de34fdbc74b97afb86079e94b176e",
       "tooltip": null
      }
     },
     "9fce25b079c6489b9d99d02645915341": {
      "model_module": "@jupyter-widgets/controls",
      "model_module_version": "2.0.0",
      "model_name": "HBoxModel",
      "state": {
       "children": [
        "IPY_MODEL_9ee3964caaa0439a800256a92741b217",
        "IPY_MODEL_415ed0c5cfc44729b5b7123e89866733",
        "IPY_MODEL_43a71b75bed0467882eeba71655f5bb1",
        "IPY_MODEL_543533355ea94031869125076b627b1b",
        "IPY_MODEL_52743bd8b8044506a4b1f6efaf99d866"
       ],
       "layout": "IPY_MODEL_73041206f31444d0b95ce601faf72369"
      }
     },
     "a3c68dc820bb436ca4cd39e4c98fc06a": {
      "model_module": "@jupyter-widgets/controls",
      "model_module_version": "2.0.0",
      "model_name": "ButtonStyleModel",
      "state": {
       "font_family": null,
       "font_size": null,
       "font_style": null,
       "font_variant": null,
       "font_weight": null,
       "text_color": null,
       "text_decoration": null
      }
     },
     "a63005869d5a4c19892f51c6497dfc99": {
      "model_module": "@jupyter-widgets/controls",
      "model_module_version": "2.0.0",
      "model_name": "ButtonStyleModel",
      "state": {
       "font_family": null,
       "font_size": null,
       "font_style": null,
       "font_variant": null,
       "font_weight": null,
       "text_color": null,
       "text_decoration": null
      }
     },
     "a9793804249c46379e705dd6967de677": {
      "model_module": "ipydatagrid",
      "model_module_version": "^1.1.16",
      "model_name": "TextRendererModel",
      "state": {
       "_model_module_version": "^1.1.16",
       "_view_module_version": "^1.1.16",
       "background_color": "IPY_MODEL_fc09e70c29f141d0aff996cd0cfc2b5f",
       "text_color": "IPY_MODEL_cd1c4e429c5d4fb887162658415d0ece"
      }
     },
     "b25c670d9c7c47b3829c37af718a2ca0": {
      "model_module": "@jupyter-widgets/base",
      "model_module_version": "2.0.0",
      "model_name": "LayoutModel",
      "state": {}
     },
     "b2b62b944e544b47a90dc5ccb5b5826b": {
      "model_module": "@jupyter-widgets/controls",
      "model_module_version": "2.0.0",
      "model_name": "ButtonModel",
      "state": {
       "description": "Add Column",
       "layout": "IPY_MODEL_896942b777454945bd93e5d894df72c6",
       "style": "IPY_MODEL_41841f10e114442989c287d8f9d4d390",
       "tooltip": null
      }
     },
     "ba5f9901b86642f99dd6fd34c13e015f": {
      "model_module": "@jupyter-widgets/base",
      "model_module_version": "2.0.0",
      "model_name": "LayoutModel",
      "state": {}
     },
     "bf46965ae9234a21919ac78eb3406a53": {
      "model_module": "@jupyter-widgets/controls",
      "model_module_version": "2.0.0",
      "model_name": "ButtonStyleModel",
      "state": {
       "font_family": null,
       "font_size": null,
       "font_style": null,
       "font_variant": null,
       "font_weight": null,
       "text_color": null,
       "text_decoration": null
      }
     },
     "c325a8a8e3874476868fa37f8a764dcb": {
      "model_module": "@jupyter-widgets/base",
      "model_module_version": "2.0.0",
      "model_name": "LayoutModel",
      "state": {}
     },
     "c7b743d29b7e4e179bb3024e5675c5d5": {
      "model_module": "@jupyter-widgets/base",
      "model_module_version": "2.0.0",
      "model_name": "LayoutModel",
      "state": {}
     },
     "cd1c4e429c5d4fb887162658415d0ece": {
      "model_module": "ipydatagrid",
      "model_module_version": "^1.1.16",
      "model_name": "VegaExprModel",
      "state": {
       "_model_module_version": "^1.1.16",
       "_view_module": "ipydatagrid",
       "_view_module_version": "^1.1.16",
       "_view_name": "VegaExprView"
      }
     },
     "d389dd87bec641d9adc7d3f8e2403f2a": {
      "model_module": "ipydatagrid",
      "model_module_version": "^1.1.16",
      "model_name": "VegaExprModel",
      "state": {
       "_model_module_version": "^1.1.16",
       "_view_module": "ipydatagrid",
       "_view_module_version": "^1.1.16",
       "_view_name": "VegaExprView"
      }
     },
     "dc67a5a97136480a85d081561d1f3371": {
      "model_module": "@jupyter-widgets/controls",
      "model_module_version": "2.0.0",
      "model_name": "ButtonModel",
      "state": {
       "description": "Generate Vectors",
       "layout": "IPY_MODEL_76766ff2a5fb4726ac6d13a985d0934d",
       "style": "IPY_MODEL_de3f00f9630a4297ad831c9b1f385234",
       "tooltip": null
      }
     },
     "de3f00f9630a4297ad831c9b1f385234": {
      "model_module": "@jupyter-widgets/controls",
      "model_module_version": "2.0.0",
      "model_name": "ButtonStyleModel",
      "state": {
       "font_family": null,
       "font_size": null,
       "font_style": null,
       "font_variant": null,
       "font_weight": null,
       "text_color": null,
       "text_decoration": null
      }
     },
     "ea8450c2a05c44309575c515d9a4e26c": {
      "model_module": "ipydatagrid",
      "model_module_version": "^1.1.16",
      "model_name": "DataGridModel",
      "state": {
       "_data": {
        "data": [
         {
          "0": "x",
          "1": "dx",
          "2": "y1",
          "3": "dy1",
          "4": "y2",
          "5": "dy2",
          "6": "y3",
          "7": "dy3",
          "ipydguuid": 0,
          "key": "  Variable:"
         },
         {
          "0": "s",
          "1": "s",
          "2": "m",
          "3": "m",
          "4": "m",
          "5": "m",
          "6": "m",
          "7": "m",
          "ipydguuid": 1,
          "key": " Units:"
         },
         {
          "0": "0.2",
          "1": "0.01",
          "2": "1.20",
          "3": "0.01",
          "4": "3.42",
          "5": "0.01",
          "6": "3.2",
          "7": "0.01",
          "ipydguuid": 2,
          "key": 0
         },
         {
          "0": "1.1",
          "1": "0.01",
          "2": "2.12",
          "3": "0.01",
          "4": "5.19",
          "5": "0.01",
          "6": "4.11",
          "7": "0.01",
          "ipydguuid": 3,
          "key": 1
         },
         {
          "0": "1.9",
          "1": "0.01",
          "2": "2.89",
          "3": "0.01",
          "4": "6.8",
          "5": "0.01",
          "6": "4.95",
          "7": "0.01",
          "ipydguuid": 4,
          "key": 2
         },
         {
          "0": "3.1",
          "1": "0.01",
          "2": "4.11",
          "3": "0.01",
          "4": "9.17",
          "5": "0.01",
          "6": "6.19",
          "7": "0.01",
          "ipydguuid": 5,
          "key": 3
         },
         {
          "0": "4.0",
          "1": "0.01",
          "2": "5.0",
          "3": "0.01",
          "4": "11.0",
          "5": "0.01",
          "6": "7.17",
          "7": "0.01",
          "ipydguuid": 6,
          "key": 4
         },
         {
          "0": "4.9",
          "1": "0.01",
          "2": "5.93",
          "3": "0.01",
          "4": "12.81",
          "5": "0.01",
          "6": "8.13",
          "7": "0.01",
          "ipydguuid": 7,
          "key": 5
         },
         {
          "0": "5.8",
          "1": "0.01",
          "2": "6.79",
          "3": "0.01",
          "4": "14.58",
          "5": "0.01",
          "6": "9.14",
          "7": "0.01",
          "ipydguuid": 8,
          "key": 6
         },
         {
          "0": "6.9",
          "1": "0.01",
          "2": "7.88",
          "3": "0.01",
          "4": "16.8",
          "5": "0.01",
          "6": "10.38",
          "7": "0.01",
          "ipydguuid": 9,
          "key": 7
         }
        ],
        "fields": [
         {
          "key": null
         },
         {
          "0": null
         },
         {
          "1": null
         },
         {
          "2": null
         },
         {
          "3": null
         },
         {
          "4": null
         },
         {
          "5": null
         },
         {
          "6": null
         },
         {
          "7": null
         },
         {
          "ipydguuid": null
         }
        ],
        "schema": {
         "fields": [
          {
           "name": "key",
           "type": "string"
          },
          {
           "name": 0,
           "type": "string"
          },
          {
           "name": 1,
           "type": "string"
          },
          {
           "name": 2,
           "type": "string"
          },
          {
           "name": 3,
           "type": "string"
          },
          {
           "name": 4,
           "type": "string"
          },
          {
           "name": 5,
           "type": "string"
          },
          {
           "name": 6,
           "type": "string"
          },
          {
           "name": 7,
           "type": "string"
          },
          {
           "name": "ipydguuid",
           "type": "integer"
          }
         ],
         "pandas_version": "1.4.0",
         "primaryKey": [
          "key",
          "ipydguuid"
         ],
         "primaryKeyUuid": "ipydguuid"
        }
       },
       "_model_module_version": "^1.1.16",
       "_model_name": "DataGridModel",
       "_view_module_version": "^1.1.16",
       "auto_fit_columns": false,
       "auto_fit_params": {
        "area": "all",
        "numCols": null,
        "padding": 30
       },
       "base_column_header_size": 20,
       "base_column_size": 64,
       "base_row_header_size": 64,
       "base_row_size": 20,
       "default_renderer": "IPY_MODEL_995b56835aa341c1b6461d6612e4b14d",
       "editable": true,
       "header_visibility": "all",
       "layout": "IPY_MODEL_79379a7ccc6148b996eab2bd1c880329",
       "selection_mode": "cell"
      }
     },
     "ef81ef91c50948b2a862ce4fa7df6412": {
      "model_module": "@jupyter-widgets/controls",
      "model_module_version": "2.0.0",
      "model_name": "VBoxModel",
      "state": {
       "children": [
        "IPY_MODEL_9fce25b079c6489b9d99d02645915341",
        "IPY_MODEL_ea8450c2a05c44309575c515d9a4e26c",
        "IPY_MODEL_9c4c4cbb647a4c948866661e991b3e62"
       ],
       "layout": "IPY_MODEL_175b32ec674043f59b21924605693082"
      }
     },
     "f43fdf61074b492684beed570f7838ef": {
      "model_module": "@jupyter-widgets/base",
      "model_module_version": "2.0.0",
      "model_name": "LayoutModel",
      "state": {}
     },
     "fc09e70c29f141d0aff996cd0cfc2b5f": {
      "model_module": "ipydatagrid",
      "model_module_version": "^1.1.16",
      "model_name": "VegaExprModel",
      "state": {
       "_model_module_version": "^1.1.16",
       "_view_module": "ipydatagrid",
       "_view_module_version": "^1.1.16",
       "_view_name": "VegaExprView"
      }
     }
    },
    "version_major": 2,
    "version_minor": 0
   }
  }
 },
 "nbformat": 4,
 "nbformat_minor": 5
}
