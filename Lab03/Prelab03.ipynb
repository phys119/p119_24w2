{
 "cells": [
  {
   "cell_type": "markdown",
   "id": "518183bc-a091-4568-a016-ae4ac3f76c8c",
   "metadata": {
    "id": "518183bc-a091-4568-a016-ae4ac3f76c8c"
   },
   "source": [
    "\n",
    "# Prelab 03 – part 2: Analysis preparation and data collection practice\n"
   ]
  },
  {
   "cell_type": "markdown",
   "id": "c09706c7-5926-4907-adfa-c9067bc9a00d",
   "metadata": {},
   "source": [
    "Please complete Prelab 03 – part 1 on Canvas before working through this notebook."
   ]
  },
  {
   "cell_type": "code",
   "execution_count": null,
   "id": "4e142931-ccce-4ee2-a592-68019af67fd5",
   "metadata": {
    "id": "4e142931-ccce-4ee2-a592-68019af67fd5"
   },
   "outputs": [],
   "source": [
    "%reset -f\n",
    "\n",
    "# Clear all variables, start with a clean environment.\n",
    "import numpy as np\n",
    "import data_entry2"
   ]
  },
  {
   "cell_type": "markdown",
   "id": "732687db-903c-4002-84b8-a9af6bfe6673",
   "metadata": {
    "id": "732687db-903c-4002-84b8-a9af6bfe6673"
   },
   "source": [
    "This prelab activity introduces useful features of our spreadsheet tool, `data_entry2`, and then shows you how to use Python to calculate the quantities _mean_ (_average_), _standard deviation_, and _(standard) uncertainty of the mean_. \n",
    "\n",
    "It starts with a hypothetical example data set to guide you through the use of the relevant Python functions. The work done with the hypothetical data set will not be turned in directly, but will instead set you up to perform the same calculations on some real data, also collected in this prelab. "
   ]
  },
  {
   "cell_type": "markdown",
   "id": "abf44e53",
   "metadata": {},
   "source": [
    "❗ <span style=\"color:#D22B2B\"> **NOTE**  \n",
    "We will now adopt a more conventional approach and write the uncertainty of a measured quantity $x$ as $u(x)$; such that $x$ is reported as $x \\pm u(x)$ and that the relative uncertainty is $u_\\text{rel}(x) = u(x) / x$.  \n",
    "In Python the uncertainty of a variable will be noted `u_x` and its relative uncertainty `urel_x`.</span>"
   ]
  },
  {
   "cell_type": "markdown",
   "id": "eaeb910a-2970-4119-9502-1d186004228c",
   "metadata": {},
   "source": [
    "## Simple Calculations in data_entry2 cells"
   ]
  },
  {
   "cell_type": "markdown",
   "id": "bba062aa-fc5a-451c-b499-bd6cf24c724d",
   "metadata": {},
   "source": [
    "It is possible to do some simple calculations directly in the `data_entry2` sheet. In general we want you to do calculations using Python, but for some tasks, most notably recording your uncertainties, it is very convenient to use this feature of the sheet.\n",
    "\n",
    "As an example, if you measure a mass of 497 g, and estimate a 95% confidence interval of [477, 516] g, you can record the mass and its uncertainty $u(m)$ in your spreadsheet like this:\n"
   ]
  },
  {
   "cell_type": "markdown",
   "id": "fe6aa860-b4b8-4862-a30f-6087cc10636e",
   "metadata": {},
   "source": [
    "| m | u_m|\n",
    "| ------ | ------- |\n",
    "| g | g |\n",
    "| 497 | = (516-477)/4|\n"
   ]
  },
  {
   "cell_type": "markdown",
   "id": "4437b2f4-a3c6-4708-a244-245a781d912a",
   "metadata": {},
   "source": [
    "Alternatively, if you have a rectangular PDF on a balance with a 10 g resolution, you might use something like:"
   ]
  },
  {
   "cell_type": "markdown",
   "id": "4128f55b-980b-48da-af50-e357638e044c",
   "metadata": {},
   "source": [
    "| m | u_m |\n",
    "| ------ | ------- |\n",
    "| g | g |\n",
    "| 142 | = 10/(2 * np.sqrt(3))|\n"
   ]
  },
  {
   "cell_type": "markdown",
   "id": "27e93933-d567-4acc-b971-11b5575fc9ff",
   "metadata": {},
   "source": [
    "**Your turn #1:**\n",
    "\n",
    "Use the sheet below to try out both of these styles of uncertainty.\n",
    "- Enter a variable name, $m$ (in grams) for the first column, and $u(m)$ in the second column for the uncertainty. \n",
    "\n",
    "- In the next two rows, enter the measurements and expressions to calculate uncertainties as shown in the two examples above.\n",
    "\n",
    "- Notice that in the sheet interface, you see the formulas you've entered, but that when you `Generate Vectors`, the expressions are evaluated and the generated uncertainy vector contains the results of the calculations.\n",
    "\n",
    "- Alter one of the expressions in the uncertainty column so that it contains an error - perhaps add an extra ')' at the end of the expression to see what happens.\n",
    "\n",
    "- To get rid of unused rows and columns, execute (Shift+Enter) in the cell that you used to create the data_entry2 sheet."
   ]
  },
  {
   "cell_type": "code",
   "execution_count": null,
   "id": "c9888e54-a6ab-414c-b5d6-bde7a0416a88",
   "metadata": {},
   "outputs": [],
   "source": [
    "de0 = data_entry2.sheet(\"test_formulas\")"
   ]
  },
  {
   "cell_type": "markdown",
   "id": "42e79d28-fc94-43fd-9703-59d9cf639822",
   "metadata": {
    "id": "42e79d28-fc94-43fd-9703-59d9cf639822",
    "tags": []
   },
   "source": [
    "## Summary of Prelab 03 – part 1"
   ]
  },
  {
   "cell_type": "markdown",
   "id": "82c3f210-fbae-487a-a7d3-407925419bba",
   "metadata": {
    "id": "82c3f210-fbae-487a-a7d3-407925419bba"
   },
   "source": [
    "Here is a summary of the statistics concepts covered or reviewed in Part 1 of this prelab. \n",
    "\n",
    "For a distribution of **$N$ data points**:\n",
    "\n",
    "1. The **average** (or mean) is defined by:\n",
    "     \n",
    "$$\\bar{x} = \\frac{1}{N} \\sum_{i=1}^N x_i.$$\n",
    "\n",
    "2. The **standard deviation** is defined by:\n",
    "\n",
    "$$ \\sigma = \\sqrt{\\frac{1}{N-1}\\sum_{i=1}^N \\left(x_i - \\bar{x}\\right)^2} $$ \n",
    "\n",
    "3. For variables that follow a Gaussian distribution (bell curve), \n",
    "    - the **68 \\% confidence interval** ($\\mathrm{CI_{68 \\%}}$) is defined as $[\\bar{x} - \\sigma,~\\bar{x} + \\sigma]$; and $\\sigma = \\frac{\\mathrm{CI_{68 \\%}}}{2}$,\n",
    "    - the **95 \\% confidence interval** ($\\mathrm{CI_{95 \\%}}$) is defined as $[\\bar{x} - 2\\sigma,~\\bar{x} + 2\\sigma]$; and $\\sigma = \\frac{\\mathrm{CI_{95 \\%}}}{4}$.\n",
    "\n",
    "   *Note that most of the time one has several data points from an experiment and so these confidence intervals are not estimated but calculated from the standard deviation of the distribution of the measured values.*\n",
    "\n",
    "5. We use the **standard deviation** as an indicator of the uncertainty (or the variability) in a **single measurement** and this value does not depend on the number of measurements taken. \n",
    "\n",
    "6. The **uncertainty in the mean** (often called **standard error of the mean**) is given by:\n",
    "\n",
    "    $$u(\\bar{x}) = \\sigma_{\\bar{x}} = \\frac{\\sigma}{\\sqrt{N}}$$\n",
    "\n",
    "    We use the uncertainty in the mean as an indicator of the uncertainty (or the variability) in the average of multiple measurements and it does improve as we increase the number of measurements.\n",
    "\n",
    "💡**Confidence-interval interpretation:** If an experiment is conducted repeatedly (multiple sampling of a population) and you construct a 95 percent (68 percent) confidence interval (CI) for the mean each time, you can anticipate that 95 percent (68 percent) of these CIs will contain the (true) mean of your population."
   ]
  },
  {
   "cell_type": "markdown",
   "id": "63aa2504-672f-4e5c-bd6c-b44997bca23c",
   "metadata": {
    "id": "63aa2504-672f-4e5c-bd6c-b44997bca23c",
    "tags": []
   },
   "source": [
    "## Developing your Python skills"
   ]
  },
  {
   "cell_type": "markdown",
   "id": "c45b9c11-a0be-4126-b601-90f47a27987c",
   "metadata": {
    "id": "c45b9c11-a0be-4126-b601-90f47a27987c"
   },
   "source": [
    "Let's import a spreadsheet of our data \"prelab03_01\""
   ]
  },
  {
   "cell_type": "code",
   "execution_count": null,
   "id": "29d83f88-0b2b-4c91-9286-2858b340b165",
   "metadata": {
    "id": "29d83f88-0b2b-4c91-9286-2858b340b165"
   },
   "outputs": [],
   "source": [
    "# Run me to import the spreadsheet, `prelab03_1`, which is found in the same \n",
    "# directory as `Prelab03.ipynb`\n",
    "de1 = data_entry2.sheet('prelab03_1')"
   ]
  },
  {
   "cell_type": "markdown",
   "id": "cda27066-c8fd-4a69-8c41-274090093419",
   "metadata": {
    "id": "cda27066-c8fd-4a69-8c41-274090093419"
   },
   "source": [
    "Below is a table of the hypothetical data in your imported spreadsheet\n",
    "\n",
    "**Your turn #2:**\n",
    "  \n",
    "Double-check that you have the correct number of data points. It should be 25, but you need to recall that Python indexing starts at 0! "
   ]
  },
  {
   "cell_type": "markdown",
   "id": "7ca6d482-4ec1-4ee4-b7b3-746a6ba85b8e",
   "metadata": {
    "id": "7ca6d482-4ec1-4ee4-b7b3-746a6ba85b8e",
    "tags": []
   },
   "source": [
    "### Hypothetical data"
   ]
  },
  {
   "cell_type": "markdown",
   "id": "8e82326f-8609-4a64-afe5-16af323fe8cf",
   "metadata": {
    "id": "8e82326f-8609-4a64-afe5-16af323fe8cf"
   },
   "source": [
    "| d (mm) |\n",
    "| ------ |\n",
    "| 439.3  |\n",
    "| 431.6  |\n",
    "| 434.6  |\n",
    "| 433.3  |\n",
    "| 439.3  |\n",
    "| 442.6  |\n",
    "| 428.6  |\n",
    "| 441.6  |\n",
    "| 431.2  |\n",
    "| 427.6  |\n",
    "| 433.2  |\n",
    "| 441.3  |\n",
    "| 436  |\n",
    "| 437.6  |\n",
    "| 434.7  |\n",
    "| 433.2  |\n",
    "| 433.1  |\n",
    "| 431.3  |\n",
    "| 436  |\n",
    "| 432.9  |\n",
    "| 436.5  |\n",
    "| 437.2  |\n",
    "| 435.7  |\n",
    "| 432.6  |\n",
    "| 434.7  |"
   ]
  },
  {
   "cell_type": "markdown",
   "id": "67a09e76-6eb5-443a-a5e8-9880a08e341f",
   "metadata": {
    "id": "67a09e76-6eb5-443a-a5e8-9880a08e341f",
    "tags": []
   },
   "source": [
    "## Calculating average and standard deviation using Python numpy functions"
   ]
  },
  {
   "cell_type": "markdown",
   "id": "cd87dc55-4330-46b5-9268-7ca0f93842bd",
   "metadata": {},
   "source": [
    "**Your turn #3:**\n",
    "\n",
    "Press the `Generate Vectors` button at the top of your spreadsheet to transfer the data into the Python environment. Then, use the cell below to calculate the average and standard deviation using the `np.mean` and `np.std()` functions, respectively. `np.mean` has a single *argument*, which is the vector of values over which to calculate the average. We discuss the second argument in `np.std` below.\n",
    "\n",
    "_Note: If it is not working correctly, double-check above that you have correctly titled the single spreadsheet column as `d` and that there is a resulting generated vector `dVec`._"
   ]
  },
  {
   "cell_type": "code",
   "execution_count": null,
   "id": "f6164c32-3e04-452e-8ee3-5f492278006e",
   "metadata": {
    "id": "f6164c32-3e04-452e-8ee3-5f492278006e"
   },
   "outputs": [],
   "source": [
    "# Run me to calculate average and standard deviation. \n",
    "# - Notice how we're able to include descriptive text and units in the print\n",
    "# commands.\n",
    "d_avg = np.mean(dVec)\n",
    "print(\"Average of d =\", d_avg, \"mm\")\n",
    "d_std = np.std(dVec, ddof=1)\n",
    "print(\"Standard deviation of d =\", d_std, \"mm\")"
   ]
  },
  {
   "cell_type": "markdown",
   "id": "41729d00-9c41-4adb-a282-f430838b8ab6",
   "metadata": {
    "id": "41729d00-9c41-4adb-a282-f430838b8ab6"
   },
   "source": [
    "You should find that the average is 435.028 mm, which is consistent with our estimate of 435 mm from the histogram in Part 1 of the prelab. The standard deviation should be 3.8362872676586677 mm, which would be 3.8 mm if we were to round it to 2 significant figures when we report it. This is also consistent with our estimate of 4 mm using the 95% confidence interval with the histogram earlier.\n",
    "\n",
    "Note that in `np.std()` we are supplying a second argument, `ddof=1`. This additional argument is needed because the `np.std()` function uses a general formula in its calculation - it can be used for a number of related calculations. In particular the formula it uses is:\n",
    "\n",
    "$$ \\textrm{np.std()} = \\sqrt{\\frac{1}{N-\\textrm{ddof}}\\sum_{i=1}^N \\left(x_i - \\bar{x}\\right)^2}. $$\n",
    "\n",
    "We want $N-1$ in the denominator as per our definition of standard deviation, so we need to use `ddof = 1`:\n",
    "\n",
    "$$ \\sigma = \\sqrt{\\frac{1}{N-1}\\sum_{i=1}^N \\left(x_i - \\bar{x}\\right)^2}. $$\n",
    "\n",
    "If you are interested, ddof is an abbreviation for 'delta degrees of freedom.' As discussed in Lab 01, we use up one 'degree of freedom' from our overall dataset when we calculate the average. Since the average is used in the calculation of standard deviation, we control for this in the formula for standard deviation by dividing the squared differences between each data point in the mean by $N-1$ instead of $N$. "
   ]
  },
  {
   "cell_type": "markdown",
   "id": "def0eaa1-7eb6-41b9-848d-4a745d2156e8",
   "metadata": {},
   "source": [
    "If you want to control the number of significant figures displayed you can modify the print statement to be an f-string as follows. Recall that we first encountered f-strings in Lab 00.\n",
    "\n",
    "Within the curly braces, the `:.2` tells the print function to round the variable to the left of the colon, in this case `d_std`, the standard deviation of `d`, to two digits. "
   ]
  },
  {
   "cell_type": "code",
   "execution_count": null,
   "id": "6b65f649-4472-4c58-a275-5bc9014f4d61",
   "metadata": {
    "id": "6b65f649-4472-4c58-a275-5bc9014f4d61"
   },
   "outputs": [],
   "source": [
    "# Run me to print d_std with 2 significant figures \"{d_std:.2}\"\n",
    "print(f\"Standard deviation to 2 sig figs = {d_std:.2} mm\")"
   ]
  },
  {
   "cell_type": "markdown",
   "id": "2804849a-adc3-491d-bdb2-68b4eac73815",
   "metadata": {
    "id": "2804849a-adc3-491d-bdb2-68b4eac73815"
   },
   "source": [
    "Let's step back for a moment and think about what the standard deviation represents. Twenty-five measurements were made using the same experimental procedure, so this standard deviation is a method we can use to represent the variability in our measurements. In the language we are using in this course, this standard deviation is the single-measurement standard uncertainty of the distance, $u(d_1)$. What does this mean? It means that if we wanted to report the value and uncertainty for one of our measurements of $d$, 434.7 mm for example, we would report it as:\n",
    "\n",
    "$ d_1 = (434.7 \\pm 3.8)$ mm,\n"
   ]
  },
  {
   "cell_type": "markdown",
   "id": "640021e0-b9d4-48fe-a986-e153af09578e",
   "metadata": {
    "id": "640021e0-b9d4-48fe-a986-e153af09578e"
   },
   "source": [
    "The subscript '1' is being used here to emphasize that we are talking about a single measurement and not the average. We will look at the uncertainty in the average later.\n",
    "\n",
    "The variability (the standard deviation) in the 25 measurements that we made describes how confident we should be in any one of the individual values. Instead of estimating our uncertainty from a single measurement as we did with the height of the spring in the first two labs, **the use of repeated measurements can allow us to measure the variability in our measurements directly**."
   ]
  },
  {
   "cell_type": "markdown",
   "id": "9e8fa3d1-d557-4331-9ecd-5a64049da58f",
   "metadata": {
    "id": "9e8fa3d1-d557-4331-9ecd-5a64049da58f",
    "tags": []
   },
   "source": [
    "## Calculating average and standard deviation the \"long way\" using Python"
   ]
  },
  {
   "cell_type": "markdown",
   "id": "63ea1d14-5d74-4555-b190-361d253e79ab",
   "metadata": {
    "id": "63ea1d14-5d74-4555-b190-361d253e79ab"
   },
   "source": [
    "<span style=\"color:#D22B2B\">*In Lab 03, you should perform your calculations the \"short way\", but we want you to learn how to do it the \"long way\" as part of the prelab for the following reasons:*</span>\n",
    "\n",
    "1. Many of the calculations we perform later in this course will not correspond to built-in functions, so it is useful to learn how to do more complicated calculations.\n",
    "2. Breaking down complicated calculations into a several lines of code---as we do in these \"long way\" calculations---is the strategy that we will be encouraging you to use for most of your coding work going forward in this course.\n",
    "3. It is often easier to find problems or errors in your calculations if you can look at intermediate values.\n",
    "4. We will also be giving you a few generally useful tips and skills during this process.\n"
   ]
  },
  {
   "cell_type": "markdown",
   "id": "23f88bb4-9285-4b68-8502-cdd8cfb4c94a",
   "metadata": {
    "id": "23f88bb4-9285-4b68-8502-cdd8cfb4c94a",
    "tags": []
   },
   "source": [
    "### Calculating an average the \"long way\""
   ]
  },
  {
   "cell_type": "markdown",
   "id": "1a1f1b0c-df39-436e-83da-6e09059f451e",
   "metadata": {
    "id": "1a1f1b0c-df39-436e-83da-6e09059f451e"
   },
   "source": [
    "Let's revisit our equation for calculating an average,\n",
    "\n",
    "$$\\bar{x} = \\frac{1}{N} \\sum_{i=1}^N x_i.$$\n",
    "\n",
    "We will break the operation of calculating the average into steps. We will first sum up all the $x_i$ values, then count how many values there are ($N$), and then finally calculate the quotient.\n",
    "\n",
    "**Your turn #4a:**\n",
    "\n",
    "Similar to `np.mean()` and `np.std()`, there is a NumPy function for calculating a sum,`np.sum()`. Use this function in the code cell below to define a variable `d_sum` which is the result of the sum over the elements in `dVec`."
   ]
  },
  {
   "cell_type": "code",
   "execution_count": null,
   "id": "16ec6a6e-e56e-4202-96ef-96af4b426b9c",
   "metadata": {
    "id": "16ec6a6e-e56e-4202-96ef-96af4b426b9c"
   },
   "outputs": [],
   "source": [
    "# Use this cell to define your variable d_sum\n",
    "d_sum = "
   ]
  },
  {
   "cell_type": "markdown",
   "id": "4b9dad83-ca29-4ae6-a0ad-8786974c0fa0",
   "metadata": {
    "id": "4b9dad83-ca29-4ae6-a0ad-8786974c0fa0"
   },
   "source": [
    "Next, the built-in Python function `len()` calculates how \"long\" a vector is, i.e. it counts up the number of elements within the supplied variable. For instance, if you run the code cell below you can see `len()` returns `3` when we supply it with the three-element vector `foo`:"
   ]
  },
  {
   "cell_type": "code",
   "execution_count": null,
   "id": "0d460624-63f9-4673-8119-3a913db2cd6a",
   "metadata": {
    "id": "0d460624-63f9-4673-8119-3a913db2cd6a"
   },
   "outputs": [],
   "source": [
    "# Run me to see how len() works\n",
    "foo = np.array([1, 2, 3])\n",
    "len(foo)"
   ]
  },
  {
   "cell_type": "markdown",
   "id": "986321df-a5a3-4e17-a32a-77ff724dbd50",
   "metadata": {
    "id": "986321df-a5a3-4e17-a32a-77ff724dbd50"
   },
   "source": [
    "**Your turn #4b:**\n",
    "\n",
    "Use `len()` in the cell below to define another variable `d_count` which is the result of counting the number of elements in 'dVec'."
   ]
  },
  {
   "cell_type": "code",
   "execution_count": null,
   "id": "ccfa221a-cadc-420e-851f-7e6fba3dc627",
   "metadata": {
    "id": "ccfa221a-cadc-420e-851f-7e6fba3dc627"
   },
   "outputs": [],
   "source": [
    "# Use this cell to define a variable d_count\n",
    "d_count = "
   ]
  },
  {
   "cell_type": "markdown",
   "id": "e2f77217-16b9-4283-8ce1-56877de4b544",
   "metadata": {
    "id": "e2f77217-16b9-4283-8ce1-56877de4b544"
   },
   "source": [
    "**Your turn #4c:**\n",
    "\n",
    "Finally, define the variable `d_avg_long`, which is calculated by dividing `d_sum` by `d_count` to arrive at the average of `dVec` the \"long way\". Print out the value of `d_avg_long`."
   ]
  },
  {
   "cell_type": "code",
   "execution_count": null,
   "id": "e83e08f5-c93a-40a5-aad2-f70fd403f57e",
   "metadata": {
    "id": "e83e08f5-c93a-40a5-aad2-f70fd403f57e"
   },
   "outputs": [],
   "source": [
    "# Use this cell to define d_avg_long. Add a second line of code to print out\n",
    "# the value.\n",
    "d_avg_long = "
   ]
  },
  {
   "cell_type": "markdown",
   "id": "d07f6ea6-dd6c-41eb-8898-ea9710dce885",
   "metadata": {
    "id": "d07f6ea6-dd6c-41eb-8898-ea9710dce885"
   },
   "source": [
    "You should find that you calculated an average distance of 435.028 mm just like when using the short way."
   ]
  },
  {
   "cell_type": "markdown",
   "id": "88c8ccb7-fc63-4c3b-ae22-86ee476aad1e",
   "metadata": {
    "id": "88c8ccb7-fc63-4c3b-ae22-86ee476aad1e",
    "tags": []
   },
   "source": [
    "### Calculating standard deviation the \"long way\""
   ]
  },
  {
   "cell_type": "markdown",
   "id": "01acb5dd-b798-4140-872f-75d0bec941ce",
   "metadata": {
    "id": "01acb5dd-b798-4140-872f-75d0bec941ce"
   },
   "source": [
    "This equation is a little more involved, but we want you have some practice with these methods in addition to taking the time to stop and consider each of the pieces involved in doing the standard deviation calculation.\n",
    "\n",
    "Lets look again at our equation for the standard deviation,\n",
    "\n",
    "$$ \\sigma = \\sqrt{\\frac{1}{N-1}\\sum_{i=1}^N \\left(x_i - \\bar{x}\\right)^2}.$$"
   ]
  },
  {
   "cell_type": "markdown",
   "id": "7ce21b3e-457b-4f90-81a4-7765231644a5",
   "metadata": {
    "id": "7ce21b3e-457b-4f90-81a4-7765231644a5"
   },
   "source": [
    "Our steps, in order, are as follows\n",
    "\n",
    "1. Find the average (done!)\n",
    "2. For each value $x_i$, find the difference between it and the average.\n",
    "3. Find the square of that difference for each value and then sum up all of those differences of squares.\n",
    "4. Finally we need divide that sum by $N-1$ and take the square root. Let's do it!"
   ]
  },
  {
   "cell_type": "markdown",
   "id": "cfb72715-71f2-4d63-8c7d-44ea7f310ddf",
   "metadata": {},
   "source": [
    "Let's start with calculating $x_i - \\bar{x}$ for each data point (step 2 above). What we want Python to do is take each data point in `dVec` and subtract `d_avg`. Thankfully, this can be done in a single, intuitive line of code. If we were to do this in a calculator, we'd have to make 25 calculations - one for each data point in `dVec`. However, Python is smart enough that when we supply it with a 25-element vector like 'dVec' and ask it to subtract off a one-element vector or scalar like `d_avg`, then it knows that you want to subtract `d_avg` from each data point in `dVec`."
   ]
  },
  {
   "cell_type": "code",
   "execution_count": null,
   "id": "7ea3d697-d65f-47cf-ab3c-1d34788a2c7d",
   "metadata": {
    "id": "7ea3d697-d65f-47cf-ab3c-1d34788a2c7d"
   },
   "outputs": [],
   "source": [
    "# Run me to see an example of subtracting a single number from a vector\n",
    "bar = np.array([1, 2, 3, 4, 5])\n",
    "print('Dummy data = ', bar)\n",
    "bar_minus_one = bar - 1\n",
    "print('Dummy data subtracted by 1 = ', bar_minus_one)"
   ]
  },
  {
   "cell_type": "markdown",
   "id": "fd13039f-88dc-462b-b2c5-9ea38c7719d6",
   "metadata": {
    "id": "fd13039f-88dc-462b-b2c5-9ea38c7719d6"
   },
   "source": [
    "**Your turn #5a:**\n",
    "\n",
    "Using the example above, define a new Python variable `diff_from_avg` below which subtracts `d_avg` from each element of `dVec`."
   ]
  },
  {
   "cell_type": "code",
   "execution_count": null,
   "id": "6d34aaa1-7936-4fd1-b8f0-d538586887ed",
   "metadata": {
    "id": "6d34aaa1-7936-4fd1-b8f0-d538586887ed"
   },
   "outputs": [],
   "source": [
    "# Use this cell to define diff_from_avg\n",
    "diff_from_avg = "
   ]
  },
  {
   "cell_type": "markdown",
   "id": "c782b93d-39d3-41a0-9657-dfa4062b1f49",
   "metadata": {
    "id": "c782b93d-39d3-41a0-9657-dfa4062b1f49"
   },
   "source": [
    "Going back to the standard deviation formula, we see that we now need to _square_ each of these differences from the average. In Python, the operator that raises a number to a power is two stars. Again, Python is smart enough to know when we ask to square a vector, Python will square each element within the vector. Run the cell below to define the new variable `diff_from_avg_squared`, which squares your previous result."
   ]
  },
  {
   "cell_type": "code",
   "execution_count": null,
   "id": "a7a11ae0-33ca-4d5e-a07f-fae02e011703",
   "metadata": {
    "id": "a7a11ae0-33ca-4d5e-a07f-fae02e011703"
   },
   "outputs": [],
   "source": [
    "# Run this cell to define \"diff_from_avg_squared\", the square of each element\n",
    "# from the vector diff_from_avg.\n",
    "diff_from_avg_squared = diff_from_avg**2"
   ]
  },
  {
   "cell_type": "markdown",
   "id": "0ec5ff2c-d4c1-4339-8414-6c2836e7ed82",
   "metadata": {
    "id": "0ec5ff2c-d4c1-4339-8414-6c2836e7ed82"
   },
   "source": [
    "**Your turn #5b:**\n",
    "\n",
    "Our next step is to sum up these squared differences. You already learned how to perform sums in Python using `np.sum()` earlier in calculating the average the \"long way\". Use `np.sum()` to define a new variable `diff_from_avg_squared_sum` which is the result of summing all the elements from the vector `diff_from_avg_squared`."
   ]
  },
  {
   "cell_type": "code",
   "execution_count": null,
   "id": "eb303738-9255-48b6-8cb9-af1418d7b1ac",
   "metadata": {
    "id": "eb303738-9255-48b6-8cb9-af1418d7b1ac"
   },
   "outputs": [],
   "source": [
    "# Use this cell to define \"diff_from_avg_squared_sum\"\n",
    "diff_from_avg_squared_sum = "
   ]
  },
  {
   "cell_type": "markdown",
   "id": "192f9d7c-c471-4428-8dd9-449d893b770c",
   "metadata": {
    "id": "192f9d7c-c471-4428-8dd9-449d893b770c"
   },
   "source": [
    "**Your turn #5d:**\n",
    "\n",
    "Only two steps to go! Recall that because we use one degree of freedom to calculate the average, we divide the sum of the squared differences by $N-1$ instead of $N$ when we calculate the standard deviation.\n",
    "\n",
    "We already have $N$ calculated and stored in the variable `d_count`, so below define a new variable `d_count_minus_one` which stores $N-1$."
   ]
  },
  {
   "cell_type": "code",
   "execution_count": null,
   "id": "455cd428-1bf0-4339-b337-c3682e441966",
   "metadata": {
    "id": "455cd428-1bf0-4339-b337-c3682e441966"
   },
   "outputs": [],
   "source": [
    "# Use this cell to define \"d_count_minus_one\"\n",
    "d_count_minus_one = "
   ]
  },
  {
   "cell_type": "markdown",
   "id": "f619e812-b3d2-4ce1-a8bb-f48ac58de645",
   "metadata": {
    "id": "f619e812-b3d2-4ce1-a8bb-f48ac58de645"
   },
   "source": [
    "Finally, we can combine everything together by running the code cell below, which takes the square root of the sum of the squared differences divided by $N-1$:"
   ]
  },
  {
   "cell_type": "code",
   "execution_count": null,
   "id": "352313dd-e067-486b-8423-685be4ca48e4",
   "metadata": {
    "id": "352313dd-e067-486b-8423-685be4ca48e4"
   },
   "outputs": [],
   "source": [
    "# Run me to finish the \"long way\" calculation of the standard deviation and\n",
    "# compare it to the \"short way\".\n",
    "d_std_long = np.sqrt(diff_from_avg_squared_sum / d_count_minus_one)\n",
    "print(\"Standard deviation (long way) =\", d_std_long, \"mm\")\n",
    "print(\"Standard deviation (short way) =\", d_std, \"mm\")"
   ]
  },
  {
   "cell_type": "markdown",
   "id": "187dfd6a-9cce-4eb8-8a51-6df3cca76984",
   "metadata": {
    "id": "187dfd6a-9cce-4eb8-8a51-6df3cca76984"
   },
   "source": [
    "If all went well, you should see identical results for calculating the standard deviation of 'dVec' the long or short way."
   ]
  },
  {
   "cell_type": "markdown",
   "id": "0e0b0374-0b4f-47b0-a75a-556f24a2612c",
   "metadata": {},
   "source": [
    "# Familiarizing yourself with collecting pendulum data (approx. 15 min)"
   ]
  },
  {
   "cell_type": "markdown",
   "id": "bd56ba7d-c938-4111-8693-c4e5a288b59a",
   "metadata": {},
   "source": [
    "For this lab, we are asking you to collect some initial data using a simulation of the experimental equipment.\n",
    "\n",
    "Notes:\n",
    "\n",
    "* You may find it helpful to add some notes about your observations in the \"Part B - Start of familiarization\" section of your Lab03.ipynb notebook.\n",
    "* **All of your calculations should use the \"short way\"** (e.g., `np.std(dVec, ddof=1)`). The \"long way\" was to help you better understand what the equations are doing and to give you some initial practice doing complicated multi-step calculations, which will come up again later in the course. "
   ]
  },
  {
   "cell_type": "markdown",
   "id": "075d56f9-2fb3-4f59-9717-895c0bb5c70a",
   "metadata": {},
   "source": [
    "**Your turn #6:**\n",
    "\n",
    "Open the Pendulum simulation ([link](https://phas.ubc.ca/~sqilabs/Lab03-Pendulum.html)). Play around with the pendulum simulation so that you understand how the pendulum and the timer work. In this prelab, you’ll be taking some initial measurements to determine the period of a pendulum $T$ at a starting amplitude of $15^\\circ$.\n",
    "\n",
    "In theory the period $T$ is defined as one complete cycle of the pendulum’s motion, returning to the same initial position while also travelling in the same initial direction.\n",
    "\n",
    "Here are things to consider when planning your measurements:\n",
    "\n",
    "1. In practice, to reduce the uncertainty of your measurements, it is more advantageous to measure multiple periods at once over multiple pendulum cycles and to repeat your experiment over multiple trials than to measure a single pendulum period.\n",
    "2. Therefore, you will have a design choice to make: how many cycles, $M_{\\text{cycles}}$, will be counted in each of your trials. Be sure to record your choice for $M_{\\text{cycles}}$ as python variable (i.e., `m_cycles = ` in a code cell).\n",
    "3. Start a fresh spreadsheet below for data collection. In the new spreadsheet you will record the time $\\Delta t$ (in Python, `delta_t`) taken for $M_{\\text{cycles}}$ cycles of the pendulum in each trial.\n",
    ".\n",
    "4. Set an external timer and give yourself **5 minutes** total to collect data:\n",
    "   1. Set the initial release amplitude to $15^\\circ$.\n",
    "   2. Start your first trial and record $\\Delta t$ **directly in your spreadsheet in this notebook**. \n",
    "   3. Repeat your $\\Delta t$ measurement **as many times as you can** in 5 minutes, and record each measurement in the spreadsheet. The number of data points you collected for $\\Delta t$ is your number of trials, $N_{\\text{trials}}$ (record it as the Python variable `n_trials = ` in a code cell).\n",
    "   \n",
    "5. After your 5 minutes of data collection are finished, press `generate_vectors` to create a vector with your data."
   ]
  },
  {
   "cell_type": "code",
   "execution_count": null,
   "id": "b23c8274-4d44-4b79-8e9b-0073c6d0a57e",
   "metadata": {},
   "outputs": [],
   "source": [
    "# Use this cell to create a new spreadsheet, prelab03_2, for data collection\n",
    "de2 = data_entry2.sheet('prelab03_2')"
   ]
  },
  {
   "cell_type": "markdown",
   "id": "cb760687",
   "metadata": {},
   "source": [
    "Now, let's calculate the period of the pendulum from your measurements. In the case of our experiment, the period $T$ (in Python we will call it `t`) of the pendulum is given by the average of the periods derived from each of the trials.\n",
    "\n",
    "Let $T_i$ be the period from the $i$-th trial:\n",
    "\n",
    "$$ T_i = \\frac{\\Delta t_i}{M_{\\text{cycles}}},$$\n",
    "\n",
    "where $\\Delta t_i$ is the time taken for $M_{\\text{cycles}}$ cycles of the pendulum in the $i$-th trial. Then, $T$ is given by:\n",
    "\n",
    "$$ T = \\overline{T_i},$$\n",
    "\n",
    "where the $~\\bar{}~$ sign represents the average (as seen before), such that:\n",
    "\n",
    "$$ \\overline{T_i} = \\frac{1}{N_{\\text{trials}}} \\sum_{i=1}^{N_{\\text{trials}}} T_i,$$\n",
    "$$ \\overline{T_i} = \\frac{1}{N_{\\text{trials}}} \\sum_{i=1}^{N_{\\text{trials}}} \\frac{\\Delta t_i}{M_{\\text{cycles}}},$$\n",
    "\n",
    "since $M_{\\text{cycles}}$ is a constant, it can be factored out of the sum $\\sum$, \n",
    "$$ \\overline{T_i} =  \\frac{1}{M_{\\text{cycles}}} \\frac{1}{N_{\\text{trials}}} \\sum_{i=1}^{N_{\\text{trials}}} \\Delta t_i.$$\n",
    "\n",
    "We can now identify the average of the $\\Delta t$ measurements, that we call $\\overline{\\Delta t}$:\n",
    "$$ \\overline{\\Delta t} = \\frac{1}{N_{\\text{trials}}} \\sum_{i=1}^{N_{\\text{trials}}} \\Delta t_i,$$\n",
    "\n",
    "such that\n",
    "\n",
    "$$  \\overline{T_i} = \\frac{\\overline{\\Delta t}}{M_{\\text{cycles}}}.$$\n",
    "\n",
    "Consequently, the period of the pendulum is given by:\n",
    "\n",
    "$$ \\boxed{T = \\frac{\\overline{\\Delta t}}{M_{\\text{cycles}}}}.$$\n",
    "\n",
    "In Python, for $\\overline{\\Delta t}$ we will be using the following variable name `delta_t_avg`."
   ]
  },
  {
   "cell_type": "markdown",
   "metadata": {},
   "source": [
    "\n",
    "\n",
    "The uncertainty $u(T)$ (in Python `u_t`) in the pendulum period $T$ is given by:\n",
    "\n",
    "$$ u(T) = \\sigma(T), $$\n",
    "\n",
    "where\n",
    "\n",
    "$$ \\sigma(T) = \\frac{\\sigma(\\overline{\\Delta t})}{M_{\\text{cycles}}}, $$\n",
    "\n",
    "where $\\sigma(\\overline{\\Delta t})$ is the standard error of the mean $\\overline{\\Delta t}$ which is the average of your $\\Delta t$ measurements. Remembering the standard error of the mean formula from the beginning of this prelab, we get:\n",
    "\n",
    "$$ \\boxed{u(T) = \\frac{\\sigma(\\Delta t)}{M_{\\text{cycles}} \\sqrt{N_{\\text{trials}}}}}, $$\n",
    "\n",
    "where $\\sigma(\\Delta t)$ is the standard deviation of your distribution of $\\Delta t$ measurements across your $N_{\\text{trials}}$.\n",
    "\n",
    "In Python, we will write `delta_t_std` for $\\sigma(\\Delta t)$."
   ]
  },
  {
   "cell_type": "markdown",
   "id": "b0293188",
   "metadata": {},
   "source": [
    "\n",
    "**Your turn #7:**\n",
    "\n",
    "Using the data you just collected, calculate the pendulum period $T$ (`t`), the uncertainty in the period $u(T)$ (`u_t`), and the relative uncertainty in the period $u(T) / T$ (`urel_t`)"
   ]
  },
  {
   "cell_type": "code",
   "execution_count": null,
   "id": "29ff03d4-ddcd-4438-a453-52c972eaf8c8",
   "metadata": {},
   "outputs": [],
   "source": [
    "# Use this cell (and additional ones if needed) to define and calculate t, \n",
    "# u_t, and urel_t.\n",
    "t = \n",
    "u_t = \n",
    "urel_t = "
   ]
  },
  {
   "cell_type": "markdown",
   "id": "d64722ff",
   "metadata": {},
   "source": [
    "\n",
    "**Your turn #8:**\n",
    "\n",
    "Report the values calculated above in the \"Prelab 03 – shared data\" spreadsheet. The spreadsheet link is in the description of the \"Prelab 03 – part 2\" page in Canvas.\n",
    "\n",
    "❗Remember the rule about significant figures as seen in Lab 02."
   ]
  },
  {
   "cell_type": "markdown",
   "id": "c6573080-6601-4bc2-9eb1-848abb84146c",
   "metadata": {},
   "source": [
    "## Preparing your Lab 03 notebook\n",
    "In this final set of tasks you will prepare your Lab 03 notebook for data collection and analysis\n",
    "\n",
    "**Your turn #9:**\n",
    "\n",
    "1. Open the Lab 03 Instructions on Canvas and take a couple minutes to read through them so that you have a sense of how you will be spending your time during the lab.\n",
    "2. Focusing on Part C.1, open up your Lab 03 notebook and notice that we have again provided you with a ready-to-go spreadsheet with two columns for data entry. Instead of just `delta_t` from the prelab (for 15°), we have specified `delta_t_10` and `delta_t_20` since in the lab you will be collecting data at two different angles.\n",
    "3. In the provided spreadsheet, make-up a few rows of test data for these two angles and press 'Generate Vectors'.\n",
    "4. Copy in and modify your code as needed from this prelab so that you can calculate the average periods `t_10` and `t_20`, as well as their uncertainties `u_t_10` and `u_t_20`, and relative uncertainties `urel_t_10` and `urel_t_20`. Note that you will need to specify or extract your values for `m_cycles` and `n_trials` to be able to do these calculations.\n",
    "5. Test your code in your Lab 03 notebook using the provided prelab data to ensure you are getting the same values in that notebook as in this one.\n",
    "\n",
    "You should now be ready for data collection and data analysis in the lab."
   ]
  },
  {
   "cell_type": "markdown",
   "id": "VLqz33sYIjwu",
   "metadata": {
    "id": "VLqz33sYIjwu",
    "tags": []
   },
   "source": [
    "# Submit\n",
    "\n",
    "Steps for submission:\n",
    "\n",
    "1. Click: Run => Run_All_Cells\n",
    "2. Read through the notebook to ensure all the cells executed correctly and without error.\n",
    "3. Correct any errors you find.\n",
    "4. File => Save_and_Export_Notebook_As->HTML\n",
    "5. Upload the HTML document to the lab submission assignment on Canvas."
   ]
  },
  {
   "cell_type": "code",
   "execution_count": null,
   "id": "067fbc39-9f60-4970-bad9-fb9b2cf7297a",
   "metadata": {},
   "outputs": [],
   "source": [
    "# The following function will display tables based on the data currently\n",
    "# stored in your data_entry2 spreadsheets. Please do not modify this cell.\n",
    "display_sheets()"
   ]
  }
 ],
 "metadata": {
  "colab": {
   "name": "lab03_prelab_part2_student_version.ipynb",
   "provenance": []
  },
  "kernelspec": {
   "display_name": "phys119",
   "language": "python",
   "name": "python3"
  },
  "language_info": {
   "codemirror_mode": {
    "name": "ipython",
    "version": 3
   },
   "file_extension": ".py",
   "mimetype": "text/x-python",
   "name": "python",
   "nbconvert_exporter": "python",
   "pygments_lexer": "ipython3",
   "version": "3.10.16"
  },
  "widgets": {
   "application/vnd.jupyter.widget-state+json": {
    "state": {},
    "version_major": 2,
    "version_minor": 0
   }
  }
 },
 "nbformat": 4,
 "nbformat_minor": 5
}
