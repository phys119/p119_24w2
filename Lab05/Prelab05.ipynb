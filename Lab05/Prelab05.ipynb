{
 "cells": [
  {
   "cell_type": "markdown",
   "id": "88c0f1e3-21cb-420a-bfb2-079c3fbc1796",
   "metadata": {
    "id": "88c0f1e3-21cb-420a-bfb2-079c3fbc1796"
   },
   "source": [
    "# Prelab 05: Ohm’s Law, Plots, and Models"
   ]
  },
  {
   "cell_type": "markdown",
   "id": "7c0d45fd-730f-49fe-9336-872e5a629a17",
   "metadata": {
    "id": "7c0d45fd-730f-49fe-9336-872e5a629a17"
   },
   "source": [
    "## 1. Ohm's Law"
   ]
  },
  {
   "cell_type": "markdown",
   "id": "e68b9539",
   "metadata": {},
   "source": [
    "### 1.1 Definition"
   ]
  },
  {
   "cell_type": "markdown",
   "id": "e8882a35-29d6-4fda-9909-d4760729c62a",
   "metadata": {
    "id": "e8882a35-29d6-4fda-9909-d4760729c62a"
   },
   "source": [
    "According to **Ohm's law**, the **electric current** ($I$, or simply current) that flows through an object or type of material (called a conductor) between two points is proportional to the **voltage** ($V$, also known as the electrical potential difference) across those two points. The constant of proportionality is the **electrical resistance** ($R$, or simply resistance) of the conductor. \n",
    "\n",
    "Ohm's law is written as:\n",
    "\n",
    "$$ V = IR.$$\n",
    "\n",
    "The unit of:\n",
    "- electric current ($I$) is the **ampere**, with symbole A,\n",
    "- voltage ($V$) is the **volt**, with symbol V,\n",
    "- electrical resistance ($R$) is the **ohm**, wth symbol $\\Omega$.\n",
    "\n",
    "As with Hooke's law, Ohm's law is not technically a physical law. Rather, it is an empirical relation that provides a satisfactory description of numerous objects and materials under specific circumstances."
   ]
  },
  {
   "cell_type": "markdown",
   "id": "a554e484",
   "metadata": {},
   "source": [
    "### 1.2 Example: a simple electric circuit"
   ]
  },
  {
   "cell_type": "markdown",
   "id": "5cde2b53",
   "metadata": {},
   "source": [
    "*Note: The terms \"conductor\" and \"resistor\" are two sides of the same coin. The term \"resistor\" is typically employed to refer to a conductor that is purposefully used to implement electrical resistance within an electric circuit.*\n",
    "\n",
    "An example related to this lab is as follows. Consider the **electric circuit** below, where we have a voltage source (a battery) with an adjustable voltage $V_\\mathrm{s}$. The battery is connected to two resistors of unknown but fixed resistance $R_1$ and $R_2$. The resistors are connected in **series** with the battery so that the electric current through each of the resistors is the same, i.e. $I$.\n",
    "\n",
    "<center><img src=\"LoopCircuit.png\" width=\"180\" height=\"240\"/></center>"
   ]
  },
  {
   "cell_type": "markdown",
   "id": "c32fcd6f",
   "metadata": {},
   "source": [
    "Knowing that we can vary the voltage $V_\\mathrm{s}$ to vary the measured values $V_\\mathrm{R_1}$ and $I$, how do we determine the resistance $R_1$?"
   ]
  },
  {
   "cell_type": "markdown",
   "id": "cadf25d0-c00b-4ed9-891d-91324ca43a69",
   "metadata": {
    "id": "cadf25d0-c00b-4ed9-891d-91324ca43a69"
   },
   "source": [
    "In sciences, the measurement of multiple values of two different physical variables to determine the mathematical relationship between them is a very common type of experiment.\n",
    "\n",
    "We will conduct our investigation by taking measurements on the resistor with resistance $R_1$. We measure the voltage $V_\\mathrm{R_1}$ across the resistor with a **voltmeter** and the current $I$ through the circuit loop with an **ammeter**. \n",
    "\n",
    "If we were to measure $N$ data points of voltage and current,\n",
    "\n",
    "* $(V_\\mathrm{R_1,1} \\pm \\delta V_\\mathrm{R_1,1}; I_1 \\pm \\delta I_1)$,\n",
    "* $(V_\\mathrm{R_1,2} \\pm \\delta V_\\mathrm{R_1,2}; I_2 \\pm \\delta I_2)$,\n",
    "* $\\ldots$,\n",
    "* $(V_{\\mathrm{R_1},N} \\pm \\delta V_{\\mathrm{R_1},N}; I_N \\pm \\delta I_N)$,\n",
    "\n",
    "a useful way to visualize and extract information from the relationship between the two variables $V_\\mathrm{R_1}$ and $I$ is to plot them against each other.\n",
    "\n",
    "We have done so below for a mock dataset of voltages and currents. We may have two variables which are related—in this case the current $I$ through the resistor with resistance $R_1$ as a result of the voltage $V_\\mathrm{R_1}$ of the electrical potential difference across that same resistor—and a model that describes how they may be related—here, Ohm's law.\n",
    "\n",
    "What we can do as experimental scientists is to collect data on the two variables and try to **fit a model** to them, from which we can extract parameters of interest (here, the resistance $R_1$) and evaluate how well the model describes the phenomena we are observing.\n",
    "\n",
    "<center><img src=\"VoltageVsCurrent.png\" width=\"500\" height=\"325\"/></center>"
   ]
  },
  {
   "cell_type": "markdown",
   "id": "f3ee8033",
   "metadata": {},
   "source": [
    "#### **Your turn #1**"
   ]
  },
  {
   "cell_type": "markdown",
   "id": "ed2e527b-f2af-40cd-a884-95938f6bff32",
   "metadata": {
    "id": "ed2e527b-f2af-40cd-a884-95938f6bff32"
   },
   "source": [
    "1. What is the relationship between voltage and current as shown in the experimental data above? For example, does it appear to be a linear relationship? Exponential? A power law? Some other relationship?"
   ]
  },
  {
   "cell_type": "markdown",
   "id": "b73b5355-cb7b-4229-8e8a-c6629a2c52c0",
   "metadata": {},
   "source": []
  },
  {
   "cell_type": "markdown",
   "id": "4ad16914-180e-4b3e-b9bb-8003266a05d7",
   "metadata": {},
   "source": [
    "2. What is the relationship given by applying Ohm's law to the resistor with resistance $R_1$?"
   ]
  },
  {
   "cell_type": "markdown",
   "id": "93d7de4a-06b9-4038-b8cd-5bc61206b98c",
   "metadata": {},
   "source": []
  },
  {
   "cell_type": "markdown",
   "id": "20e944b3-81ea-4f8f-9636-2fef3fba5df8",
   "metadata": {},
   "source": [
    "3. How is the slope $m$ of the data on the graph related to the resistance $R_1$?"
   ]
  },
  {
   "cell_type": "markdown",
   "id": "d7587abd-3fb3-48df-a646-fd45795f070c",
   "metadata": {},
   "source": []
  },
  {
   "cell_type": "markdown",
   "id": "fd75dd82-56ab-42b4-9660-1069214e8e44",
   "metadata": {},
   "source": [
    "4. Using your answer above, estimate the value of the resistance $R_1$.\n",
    "\n",
    "    *Hint: to calculate the slope of a line from a graph $y$ versus $x$, one can choose any two points $(x_1, y_1)$ and $(x_2, y_2)$ on the line and use the formula $\\frac{y_2 - y_1}{x_2 - x_1}$*"
   ]
  },
  {
   "cell_type": "markdown",
   "id": "02ba46b2-ec00-422a-95e7-8fc517e501f7",
   "metadata": {},
   "source": []
  },
  {
   "cell_type": "markdown",
   "id": "520e0466-245e-4220-9fa1-446804c2b65a",
   "metadata": {},
   "source": [
    "#### Answers *(uncollapse to display)*"
   ]
  },
  {
   "cell_type": "markdown",
   "id": "ae60aa38-6df6-4d71-b96f-6e92e690518f",
   "metadata": {
    "id": "ae60aa38-6df6-4d71-b96f-6e92e690518f"
   },
   "source": [
    "1. The relationship between voltage and current appears to be linear.\n",
    "\n",
    "2. The relationship predicted by Ohm's law is $V_\\mathrm{R_1} = IR_1$, i.e. the two are linearly related via the resistance.\n",
    "\n",
    "3. According to Ohm's law, $R_1$ is the constant of proportionality between voltage and current. Consequently, the slope $m$ of the data on the graph is related to the resistance $R_1$ such that $m = R_1$.\n",
    "\n",
    "4. For example, we can calculate the slope from the graph by choosing the following two points $(0~\\mathrm{A}, 0~\\mathrm{V})$ and $(0.08~\\mathrm{A}, 0.8~\\mathrm{V})$, which gives $m \\approx \\frac{0.8 - 0}{0.08 - 0} = 10~\\mathrm{V/A}$. Consequently, the resistance is $R_1 = m \\approx 10~\\Omega$."
   ]
  },
  {
   "cell_type": "markdown",
   "id": "4cd844cb-940e-4221-82dd-ab63dd9098cf",
   "metadata": {
    "id": "4cd844cb-940e-4221-82dd-ab63dd9098cf"
   },
   "source": [
    "## 5.2 Scatter plots with Python"
   ]
  },
  {
   "cell_type": "markdown",
   "id": "54e187fc-d7de-435e-a599-8d56fa45054c",
   "metadata": {
    "id": "54e187fc-d7de-435e-a599-8d56fa45054c"
   },
   "source": [
    "An important first step to finding relationships between variables is **data visualization**; such as through producing plots of data. Fortunately, Python is an excellent medium for this task. The rest of this prelab will guide you through how to produce a **scatter plot of experimental data**, and to then extract useful information. This is something we will be doing many times in our future labs in this course.\n",
    "\n",
    "Much like with the case of recording data in tables, plotting is not a built-in functionality of Python. Instead, we import a library which carries this functionality, `matplotlib`. You can import it (along with the `data_entry2` and `numpy` libraries we have been using) by running the cell below."
   ]
  },
  {
   "cell_type": "code",
   "execution_count": 29,
   "id": "42b044bd-b81d-41fa-bbb7-0844e410cc87",
   "metadata": {
    "id": "42b044bd-b81d-41fa-bbb7-0844e410cc87"
   },
   "outputs": [],
   "source": [
    "%reset -f\n",
    "# Run me to import the relevant libraries\n",
    "import data_entry2\n",
    "import numpy as np\n",
    "import matplotlib.pyplot as plt"
   ]
  },
  {
   "cell_type": "markdown",
   "id": "eb4a120b-3707-4391-befe-4c756c6d971c",
   "metadata": {
    "id": "eb4a120b-3707-4391-befe-4c756c6d971c"
   },
   "source": [
    "We will go through an example together of creating a scatter plot, and then at the end we will ask you to take what you've learned to recreate the scatter plot we showed in the beginning of the notebook. \n",
    "\n",
    "For our example together, we consider an example similar to our Lab 01 experiment in this course. Suppose we have a spring, and we have measured the force $F_\\mathrm{s}$ (`f_s`) that the spring exerts for a variety of compressions $\\Delta x$ (`delta_x`). We have also recorded the uncertainty in the force measurements $\\delta F_\\mathrm{s}$ (`del_f_s`) and the uncertainty in the compression measurements $\\delta(\\Delta x)$ (`del_delta_x`).\n",
    "\n",
    "The data are given in the spreadsheet below:"
   ]
  },
  {
   "cell_type": "code",
   "execution_count": null,
   "id": "b9605911-aeae-4c75-bc35-f22211ef3733",
   "metadata": {
    "colab": {
     "referenced_widgets": [
      "bf03e00bffc94ba6a62158c354a404d2"
     ]
    },
    "id": "b9605911-aeae-4c75-bc35-f22211ef3733",
    "outputId": "cbbddd51-108a-4dfa-f82c-f3dc3543a812"
   },
   "outputs": [
    {
     "name": "stdout",
     "output_type": "stream",
     "text": [
      "Sheet name: prelab05_hookes_law.csv\n"
     ]
    },
    {
     "data": {
      "application/vnd.jupyter.widget-view+json": {
       "model_id": "eaf241c59f264172934e82298b893054",
       "version_major": 2,
       "version_minor": 0
      },
      "text/plain": [
       "VBox(children=(HBox(children=(Button(description='Undo', style=ButtonStyle()), Button(description='Redo', styl…"
      ]
     },
     "metadata": {},
     "output_type": "display_data"
    }
   ],
   "source": [
    "# Import spring data.\n",
    "de_hl = data_entry2.sheet(\"prelab05_hookes_law\")"
   ]
  },
  {
   "cell_type": "markdown",
   "id": "6037a75c-7a65-4881-97ae-348cf0adce7f",
   "metadata": {
    "id": "6037a75c-7a65-4881-97ae-348cf0adce7f"
   },
   "source": [
    "**Your turn #2:** We will want to work with vectors of this data, so click the `Generate Vectors` button in the spreadsheet. \n",
    "\n",
    "Next, let's create a simple scatter plot of $F_\\mathrm{s}$ versus $\\Delta x$, including the uncertainties $\\delta F_\\mathrm{s}$ as errorbars."
   ]
  },
  {
   "cell_type": "code",
   "execution_count": 31,
   "id": "b3124ee2-1163-46e0-ae0d-26540771bf0d",
   "metadata": {
    "id": "b3124ee2-1163-46e0-ae0d-26540771bf0d",
    "outputId": "5edcc8a5-73a6-4533-d844-a34da0448569"
   },
   "outputs": [
    {
     "data": {
      "image/png": "[encoded data removed]",
      "text/plain": [
       "<Figure size 640x480 with 1 Axes>"
      ]
     },
     "metadata": {},
     "output_type": "display_data"
    }
   ],
   "source": [
    "# Create a new figure.\n",
    "plt.figure()\n",
    "\n",
    "# Plot f_sVec versus delta_xVec as markers with attached errorbars del_f_sVec.\n",
    "plt.errorbar(x=delta_xVec, y=f_sVec, yerr=del_f_sVec, fmt='bo')\n",
    "\n",
    "# Display all open figures.\n",
    "plt.show()"
   ]
  },
  {
   "cell_type": "markdown",
   "id": "161a66c3-1079-4c08-b125-16b6793cd255",
   "metadata": {
    "id": "161a66c3-1079-4c08-b125-16b6793cd255"
   },
   "source": [
    "Let's have a look at the different Python commands used:\n",
    "- `plt`: specifies that we want to use the `matplotlib` plotting library,\n",
    "- `plt.figure()`: creates a new figure (or activate an existing figure in some cases),\n",
    "- `plt.errorbar`: function that plots $y$ versus $x$ as markers with attached errorbars,\n",
    "- `plt.show()`: displays all open figures.\n",
    "\n",
    "\n",
    "We used the following built-in **parameters** of the function `plt.errorbar`:\n",
    "- `x`: the data for the $x$ axis,\n",
    "- `y`: the data for the $y$ axis,\n",
    "- `yerr`:  the errorbar sizes for the $y$-axis data,\n",
    "- `fmt`: the format for the data points / data lines.\n",
    "\n",
    "*Note that `xerr` (the errorbar sizes for the $x$-axis data) also exists as a built-in parameter; however we will often find that the uncertainties in the $y$ values are more significant than those in the $x$ values, so the uncertainty in $x$ can often be neglected.*\n",
    "\n",
    "In our case, we passed the following **arguments** to the `plt.errorbar` function when we called it:\n",
    "- `delta_xVec` for the paramater `x`, i.e. the vector of $\\Delta x$ values;\n",
    "- `f_sVec` for the paramater `y`, i.e. the vector of $F_\\mathrm{s}$ values;\n",
    "- `del_f_sVec` for the paramater `yerr`, i.e. the vector of $\\delta F_\\mathrm{s}$ values;\n",
    "- `'bo'` for the paramater `fmt`, to specify that we want blue (`b`) circles (`o`) for the data points."
   ]
  },
  {
   "cell_type": "markdown",
   "id": "3e5849e7-d7ec-44ba-a23b-c45d5d9df1df",
   "metadata": {},
   "source": [
    "**Your turn #3:** Try replacing the blue dot symbol with a red x symbol using `fmt='rx'` above. "
   ]
  },
  {
   "cell_type": "markdown",
   "id": "679fe6c1-960d-4028-8bea-4ebf6fa63052",
   "metadata": {},
   "source": [
    "Next, let's add further important information to our plot, such as axis labels and a title. We will also show how to adjust the size of the markers in the plot and then add a legend (although this plot doesn't really need one)."
   ]
  },
  {
   "cell_type": "code",
   "execution_count": 32,
   "id": "49b800a9-f253-4699-a652-c79d163ce468",
   "metadata": {
    "id": "49b800a9-f253-4699-a652-c79d163ce468",
    "outputId": "c6a829b6-adb0-4d7a-db9b-f47a26682f3b"
   },
   "outputs": [
    {
     "data": {
      "image/png": "[encoded data removed]",
      "text/plain": [
       "<Figure size 640x480 with 1 Axes>"
      ]
     },
     "metadata": {},
     "output_type": "display_data"
    }
   ],
   "source": [
    "# Add detail to the scatter plot.\n",
    "plt.figure()\n",
    "plt.errorbar(\n",
    "    x=delta_xVec, y=f_sVec, yerr=del_f_sVec,\n",
    "    fmt='bo', markersize=3, label=\"Round 1 data\"\n",
    "    )\n",
    "plt.title(\"Hooke's law investigation using spring compression\")\n",
    "plt.xlabel(\"Displacement of spring from equilibrium (m)\")\n",
    "plt.ylabel(\"Force (N)\")\n",
    "plt.legend()\n",
    "plt.show()"
   ]
  },
  {
   "cell_type": "markdown",
   "id": "80d2c14b-e1f4-4e63-acf6-e9f94ff13b4c",
   "metadata": {
    "id": "80d2c14b-e1f4-4e63-acf6-e9f94ff13b4c"
   },
   "source": [
    "We now have a complete plot! Notice that the plot title is descriptive of the purpose of the plot, and the axis labels describe the quantities (with the units). Experiment with the title and axis labels by changing the text inside `plt.title(\"...\"), plt.xlabel(\"...\"),` and `plt.ylabel(\"...\")`functions in the cell above.\n",
    "\n",
    "The argument passed to the `markersize` parameter in `plt.errorbar` specifies how large the markers in the plot are. In the first version of the plot above, the error bars of the first data point were hidden behind the marker so here we shrink the size of the markers to make the small error bars more visible.\n",
    "\n",
    "Finally, by passing an argument to the `label` parameter in `plt.errorbar`, we can specify the label for the plot when we include a legend with `plt.legend()`. We don't really need a legend here as we are only plotting a single dataset, but later on when we have multiple things on the same plot, a legend will become very useful.\n",
    "\n",
    "Note that the plot will automatically give axis tick marks (the specific numbers displayed along each axis), which are typically reasonable. It will also set appropriate limits for the plot so all data points are displayed. If you find the defaults aren't suitable, there are ways to control these (eg `plt.xlim([min, max])` and `plt.xticks([.1, .2, .3])`), though you probably won't need these in this course."
   ]
  },
  {
   "cell_type": "markdown",
   "id": "8dde9172-721c-4e55-b621-1a3415b52ec0",
   "metadata": {},
   "source": [
    "Before moving on, let's redo the previous plot, but make the code more general by using variables to define all of the text we want to add to the graph. In the future it will be much easier to update this code."
   ]
  },
  {
   "cell_type": "code",
   "execution_count": 38,
   "id": "e4d848be-cf15-491b-bdbd-cbac8c0b24f2",
   "metadata": {},
   "outputs": [
    {
     "data": {
      "image/png": "[encoded data removed]",
      "text/plain": [
       "<Figure size 640x480 with 1 Axes>"
      ]
     },
     "metadata": {},
     "output_type": "display_data"
    }
   ],
   "source": [
    "# Define variables for the labels and title of the graph.\n",
    "data_label = \"Round 1 data\"\n",
    "graph_title = \"Hooke's law investigation using spring compression\"\n",
    "x_label = \"Displacement of spring from equilibrium (m)\"\n",
    "y_label = \"Force (N)\"\n",
    "\n",
    "# Make the graph.\n",
    "plt.figure()\n",
    "plt.errorbar(\n",
    "    x=delta_xVec, y=f_sVec, yerr=del_f_sVec,\n",
    "    fmt='bo', markersize=3, label=data_label\n",
    "    )\n",
    "plt.title(graph_title)\n",
    "plt.xlabel(x_label)\n",
    "plt.ylabel(y_label)\n",
    "plt.legend()\n",
    "plt.show()"
   ]
  },
  {
   "cell_type": "markdown",
   "id": "0b861a5f-04a4-47f0-9d74-3e94b9c4a43c",
   "metadata": {
    "id": "0b861a5f-04a4-47f0-9d74-3e94b9c4a43c"
   },
   "source": [
    "**Your turn #4:** Recall that Hooke's law tells us that $F_\\mathrm{s} = k \\Delta x$. Is the slope of this graph equal to $k$, $1/k$ or some other quantity?"
   ]
  },
  {
   "cell_type": "markdown",
   "id": "3f177284-419e-4225-a281-3f8b9c0de6f6",
   "metadata": {
    "id": "3f177284-419e-4225-a281-3f8b9c0de6f6"
   },
   "source": []
  },
  {
   "cell_type": "markdown",
   "id": "f2f5d3a8-9004-4936-ac27-1b3683f3984a",
   "metadata": {
    "jp-MarkdownHeadingCollapsed": true,
    "tags": []
   },
   "source": [
    "##### Answer:"
   ]
  },
  {
   "cell_type": "markdown",
   "id": "2507103f-f8d0-4517-b2f0-fbc0ab387b0b",
   "metadata": {},
   "source": [
    "The slope of the above plot can be identified as the spring constant $k$ of the spring via Hooke's law."
   ]
  },
  {
   "cell_type": "markdown",
   "id": "d14c6250-b163-4154-ae98-c7e2b579eeb7",
   "metadata": {
    "id": "d3931412-cc62-4538-86f0-7d56d807a61a",
    "outputId": "19324d4a-2237-4a7d-b6a5-5e16c0d43724",
    "tags": []
   },
   "source": [
    "## 5.3 Adding a model to a graph of experimental data"
   ]
  },
  {
   "cell_type": "markdown",
   "id": "f8aca172-f710-4fdf-b434-3fd22f7191bb",
   "metadata": {},
   "source": [
    "When two physical variables $x$ and $y$ are measured in a series of $N$ measurements ($x_1, x_2, \\ldots, x_N$) and  ($x_1, x_2, \\ldots, x_N$), we will often want to compare the experimental data to a model and judge how well the **model describes the experimental data**. Often, the model is a mathematical function $f$ such that $y = f(x)$. \n",
    "\n",
    "A first comparison can be made **visually** by **adding the model to the graph of the experimental data**. To do this, we break the process into four steps:\n",
    "\n",
    "1. Find the range of $x$ values that the experimental data span.\n",
    "\n",
    "2. Generate many $x$ values over the range of values for which we want to determine the model predictions.\n",
    "   * You might ask why do we need many points? For a straight line the number of points used doesn't matter much, but if the model predicts a more complicated function, using many points will give a curve that looks smooth to the eye.\n",
    "\n",
    "4. Calculate the model predictions ($y = f(x)$ values) at each of the $x$ values.\n",
    "\n",
    "5. Plot the model prediction on the graph."
   ]
  },
  {
   "cell_type": "markdown",
   "id": "3b779c1c",
   "metadata": {},
   "source": [
    "Here, our data is ruled by Hooke's Law, $F_s = k \\Delta x$, and so is best described by a linear model (i.e. a straight line). **Linear models** are often represented as:\n",
    "\n",
    "$$y=mx+b,$$ \n",
    "\n",
    "where $m$ is the **slope** of the line and $b$ is the **$y$-intercept** (i.e. the line intercepts the $y$ axis at $y=b$). In our case, by identification:\n",
    "- $m$ is the spring constant $k$,\n",
    "- $b$ is $0$.\n",
    "\n",
    "In order to create our model prediction, we will need a value for the model parameter $m$ (the slope of the line, and in our case the spring constant).\n",
    "\n",
    "To start with, we can estimate this value by inspection; we have points at approximately $(0~\\text{m}, 0~\\text{N})$ and $(0.6~\\text{m}, 1.2~\\text{N})$, so a reasonable estimate of the slope (which corresponds to $k$) would be $m = \\frac{1.2 - 0}{0.6 - 0} = 2\\,\\text{N/m}$. \n",
    "\n",
    "Let's use this value to add an initial estimate of our model to our graph:"
   ]
  },
  {
   "cell_type": "code",
   "execution_count": 44,
   "id": "c425f695-a24f-4bc3-9106-af45b87305c0",
   "metadata": {},
   "outputs": [
    {
     "name": "stdout",
     "output_type": "stream",
     "text": [
      "Limit values:\n",
      "0.0 0.6\n",
      "x array:\n",
      "[0.         0.00301508 0.00603015 0.00904523 0.0120603  0.01507538\n",
      " 0.01809045 0.02110553 0.0241206  0.02713568 0.03015075 0.03316583\n",
      " 0.0361809  0.03919598 0.04221106 0.04522613 0.04824121 0.05125628\n",
      " 0.05427136 0.05728643 0.06030151 0.06331658 0.06633166 0.06934673\n",
      " 0.07236181 0.07537688 0.07839196 0.08140704 0.08442211 0.08743719\n",
      " 0.09045226 0.09346734 0.09648241 0.09949749 0.10251256 0.10552764\n",
      " 0.10854271 0.11155779 0.11457286 0.11758794 0.12060302 0.12361809\n",
      " 0.12663317 0.12964824 0.13266332 0.13567839 0.13869347 0.14170854\n",
      " 0.14472362 0.14773869 0.15075377 0.15376884 0.15678392 0.15979899\n",
      " 0.16281407 0.16582915 0.16884422 0.1718593  0.17487437 0.17788945\n",
      " 0.18090452 0.1839196  0.18693467 0.18994975 0.19296482 0.1959799\n",
      " 0.19899497 0.20201005 0.20502513 0.2080402  0.21105528 0.21407035\n",
      " 0.21708543 0.2201005  0.22311558 0.22613065 0.22914573 0.2321608\n",
      " 0.23517588 0.23819095 0.24120603 0.24422111 0.24723618 0.25025126\n",
      " 0.25326633 0.25628141 0.25929648 0.26231156 0.26532663 0.26834171\n",
      " 0.27135678 0.27437186 0.27738693 0.28040201 0.28341709 0.28643216\n",
      " 0.28944724 0.29246231 0.29547739 0.29849246 0.30150754 0.30452261\n",
      " 0.30753769 0.31055276 0.31356784 0.31658291 0.31959799 0.32261307\n",
      " 0.32562814 0.32864322 0.33165829 0.33467337 0.33768844 0.34070352\n",
      " 0.34371859 0.34673367 0.34974874 0.35276382 0.35577889 0.35879397\n",
      " 0.36180905 0.36482412 0.3678392  0.37085427 0.37386935 0.37688442\n",
      " 0.3798995  0.38291457 0.38592965 0.38894472 0.3919598  0.39497487\n",
      " 0.39798995 0.40100503 0.4040201  0.40703518 0.41005025 0.41306533\n",
      " 0.4160804  0.41909548 0.42211055 0.42512563 0.4281407  0.43115578\n",
      " 0.43417085 0.43718593 0.44020101 0.44321608 0.44623116 0.44924623\n",
      " 0.45226131 0.45527638 0.45829146 0.46130653 0.46432161 0.46733668\n",
      " 0.47035176 0.47336683 0.47638191 0.47939698 0.48241206 0.48542714\n",
      " 0.48844221 0.49145729 0.49447236 0.49748744 0.50050251 0.50351759\n",
      " 0.50653266 0.50954774 0.51256281 0.51557789 0.51859296 0.52160804\n",
      " 0.52462312 0.52763819 0.53065327 0.53366834 0.53668342 0.53969849\n",
      " 0.54271357 0.54572864 0.54874372 0.55175879 0.55477387 0.55778894\n",
      " 0.56080402 0.5638191  0.56683417 0.56984925 0.57286432 0.5758794\n",
      " 0.57889447 0.58190955 0.58492462 0.5879397  0.59095477 0.59396985\n",
      " 0.59698492 0.6       ]\n"
     ]
    },
    {
     "data": {
      "image/png": "[encoded data removed]",
      "text/plain": [
       "<Figure size 640x480 with 1 Axes>"
      ]
     },
     "metadata": {},
     "output_type": "display_data"
    }
   ],
   "source": [
    "# Plot model and experimental data points both on the same graph.\n",
    "\n",
    "# Step 1: find the range of x values from the experimental data.\n",
    "x_min = np.min(delta_xVec)  # find the smallest x-value\n",
    "x_max = np.max(delta_xVec)  # find the largest x-value\n",
    "print(\"Limit values:\")\n",
    "print(x_min, x_max)\n",
    "\n",
    "# Step 2: generate an array of x values between x_min and x_max for which we \n",
    "# want to determine the model predictions.\n",
    "# Returns 200 evenly spaced values, calculated over the interval [start, stop].\n",
    "x = np.linspace(start=x_min, stop=x_max, num=200)\n",
    "print(\"x array:\")\n",
    "print(x)\n",
    "\n",
    "# Step 3: calculate the model predictions at each of the x values.\n",
    "m = 2  # initial estimate of the slope\n",
    "b = 0  # no y-intercept for our model\n",
    "y = m * x + b\n",
    "\n",
    "# Step 4: plot the model predictions on the graph of the experimental data.\n",
    "# Define variables for the labels and title of the graph.\n",
    "data_label = \"Round 1 data\"\n",
    "model_label = \"y = mx + b (model)\"\n",
    "graph_title = \"Hooke's law investigation using spring compression\"\n",
    "x_label = \"Displacement of spring from equilibrium (m)\"\n",
    "y_label = \"Force (N)\"\n",
    "\n",
    "plt.figure()\n",
    "\n",
    "# Plot the experimental data.\n",
    "plt.errorbar(\n",
    "    x=delta_xVec, y=f_sVec, yerr=del_f_sVec,\n",
    "    fmt='bo', markersize=3, label=data_label\n",
    "    )\n",
    "plt.title(graph_title)\n",
    "plt.xlabel(x_label)\n",
    "plt.ylabel(y_label)\n",
    "plt.legend()\n",
    "\n",
    "# Plot the model\n",
    "plt.plot(x, y, \"r-\", label=model_label)  # red line \"r-\"\n",
    "\n",
    "plt.show()"
   ]
  },
  {
   "cell_type": "markdown",
   "id": "cbe5d92a-bfa8-4b94-8f6c-741996cfd69f",
   "metadata": {},
   "source": [
    "A few things to note:\n",
    "1. `plt.show()` helps ensure that `plt.plot()`, `plt.errorbar()` and the other `plt.` functions will appear on the same plotting canvas\n",
    "2. The syntax for `plt.plot()` is a little different from `plt.errorbar()`. For `plt.errorbar()` you need `fmt='bo'`, but for `plt.plot()` the format for plotting can't include the `fmt=` piece (annoying, but this is just how it is)."
   ]
  },
  {
   "cell_type": "markdown",
   "id": "dcfbe785-cb24-40bc-855c-9ec4a1910056",
   "metadata": {},
   "source": [
    "## 5.4 Residuals: definition and Python application"
   ]
  },
  {
   "cell_type": "markdown",
   "id": "a9bec124-6f7d-4d80-a99e-493a962fefbb",
   "metadata": {},
   "source": [
    "This fit of the model to our data looks pretty good to the eye, but we are going to introduce a new tool, a residuals plot, which we will use throughout the remainder of the course as a tool to help improve the quality of our fits and to estimate uncertainty in the fitting parameters, which in this case is the slope, which is often given the symbol $m$). For now, we will introduce what it is and how to create the plot.\n",
    "\n",
    "A residual is a measure of how far a data point lies from the best fit line (the model) along the y-direction. So for a given data point on the graph $(x_i, y_i)$, the residual $(r_i)$ is given by:\n",
    "\n",
    "$$r_i = y_i - \\text{model}(x_i)$$\n",
    "\n",
    "where $\\text{model}(x_i)$ represents the $y$-value that our model, $y = mx$ (for $b=0$), predicts at the point $x_i$. Let’s build a graph of the residuals that correspond to each $x$-value and then we will spend a bit more time learning about how they are useful. We will break this process down into a few steps:\n",
    "\n",
    "1. Calculate the model prediction $\\text{model}(x_i)$ points at all of the $x$-data values\n",
    "2. Calculate the residual vector $[r_1, r_2, \\ldots r_n]$ as the difference of the $y$-data vector $[y_1, y_2, \\ldots, y_n]$ and the model vector $[\\text{model}(x_1), \\text{model}(x_2), \\ldots, \\text{model}(x_n)]$. \n",
    "3. Plot the residual vector against the $x$-data vector.\n",
    "4. Add a \"$r = 0$\" x-axis to the plot.\n",
    "\n",
    "Let's create the residuals plot for our current model of the Hooke's law dataset. Note that we use use `plt.errorbar()` to plot the residuals, and we use the **same** uncertainties as our $y$-data uncertainties, `del_y = del_f_sVec`. This is because there are no uncertainties associated with the model predictions, thus the uncertainties in the residuals (the difference between data and model) are just the uncertainties in the data y-values. We also modify the labelling of the plot (axis labels, title) to make sure what is being plotted as clear as possible."
   ]
  },
  {
   "cell_type": "code",
   "execution_count": null,
   "id": "7d376812-1abf-4f67-a3ae-c67480096337",
   "metadata": {},
   "outputs": [],
   "source": [
    "# Run me to calculate residuals and create a well-labelled residuals plot\n",
    "\n",
    "# Residuals step 1: Define axis labels and titles\n",
    "residuals_title = \"Residuals for Hooke's law investigation using spring compression\"\n",
    "residuals_y_label = \"Residual = data - model (N)\"\n",
    "\n",
    "# Residuals step 2: Calculate the model prediction for each our data points from delta_xVec\n",
    "ymodel = slope * x + intercept # y = mx at each data point, x_i\n",
    "\n",
    "# Residuals step 3: Calcualte the residuals vector\n",
    "residualsVec = y - ymodel\n",
    "\n",
    "# Residuals step 4: Plot the residuals vector against the x-data vector\n",
    "plt.figure()\n",
    "plt.errorbar(x, residualsVec, del_y, fmt=\"bo\", markersize = 3)\n",
    "\n",
    "# Residuals step 5: Add a horizontal line at R=0 to the plot\n",
    "plt.hlines(y=0, x_min=x_min, x_max=x_max, color='k') # draw a black line at y = 0.\n",
    "\n",
    "# Residuals step 6: Add axis labels and title, and show the graph\n",
    "plt.title(residuals_title)\n",
    "plt.xlabel(x_label) # re-use the x_label from the scatter plot with model\n",
    "plt.ylabel(residuals_y_label)\n",
    "plt.show()"
   ]
  },
  {
   "cell_type": "markdown",
   "id": "80308ec9-2ef2-4fd4-adf8-f7ed7a6091bf",
   "metadata": {},
   "source": [
    "The residuals---the difference between model and data---gives us more resolving power than looking our original scatter plot that included the data and model. In this case, we can see from the residuals plot that the residuals trend upward as we go to the right. This suggests that we could improve out model to better fit to the data. In this case, we will want to increase the slope of the model to account for the current upward trend in the residuals. \n",
    "\n",
    "Usually, it is standard to plot the data/model and residual plot in the same cell, for ease of viewing. We do this below."
   ]
  },
  {
   "cell_type": "markdown",
   "id": "279d7e41-08af-4402-b2be-19c0310bc336",
   "metadata": {},
   "source": [
    "## 5.5 Complete example for making a scatter and residuals plot"
   ]
  },
  {
   "cell_type": "code",
   "execution_count": null,
   "id": "9e03dee0-65f1-4285-ae96-2ba1942b2868",
   "metadata": {},
   "outputs": [],
   "source": [
    "# Run me to make our two plots together (this is all the same code from before)\n",
    "\n",
    "# Scatter step 1: Define the variables we will be plotting, as well as labels and titles\n",
    "# Plotting variables\n",
    "x = delta_xVec\n",
    "y = f_sVec\n",
    "del_y = del_f_sVec\n",
    "\n",
    "# Labels and titles\n",
    "data_label = \"Round 1 data\"\n",
    "model_label = \"F = kx (model)\"\n",
    "graph_title = \"Hooke's law investigation using spring compression\"\n",
    "x_label = \"Displacement of spring from equilibrium (m)\"\n",
    "y_label = \"Force (N)\"\n",
    "\n",
    "# Model parameters\n",
    "slope = 2 # Our initial estimate of the slope\n",
    "intercept = 0 # Our initial estimate of the y-intercept\n",
    "\n",
    "# Scatter step 2: find the limits of the data:\n",
    "x_min = np.min(x) # use the np.min function to find the smallest x-value\n",
    "x_max = np.max(x) # same for max\n",
    "# print (x_min, x_max)  # uncomment to see what the limits are\n",
    "\n",
    "# Scatter step 3: generate a bunch of x points between x_min and x_max to help us plot the model line\n",
    "x_array = np.linspace(x_min, x_max, 200) # gives 200 evenly spaced points between x_min and x_max\n",
    "# print(x_array) # uncomment to see the x values that were generated.\n",
    "\n",
    "# Scatter step 4: calculate the y points to plot the model line\n",
    "y_array = x_array * slope + intercept # this calculates the model y-values at all 200 points.\n",
    "\n",
    "# Scatter step 5: plot the model line. We plot this as a red line \"r-\" :\n",
    "plt.figure()\n",
    "plt.plot(x_array, y_array, \"r-\", label = model_label)\n",
    "\n",
    "# Scatter step 6: Plot the data, with the previous details from before\n",
    "plt.errorbar(x, y, del_y, fmt=\"bo\", markersize = 3, label=data_label)\n",
    "plt.title(graph_title)\n",
    "plt.xlabel(x_label)\n",
    "plt.ylabel(y_label)\n",
    "plt.legend()\n",
    "plt.show()\n",
    "\n",
    "# Residuals step 1: Define axis labels and titles\n",
    "residuals_title = \"Residuals for Hooke's law investigation using spring compression\"\n",
    "residuals_y_label = \"Residual = data - model (N)\"\n",
    "\n",
    "# Residuals step 2: Calculate the model prediction for each our data points from delta_xVec\n",
    "ymodel = slope * x + intercept # y = mx at each data point, x_i\n",
    "\n",
    "# Residuals step 3: Calcualte the residuals vector\n",
    "residualsVec = y - ymodel\n",
    "\n",
    "# Residuals step 4: Plot the residuals vector against the x-data vector\n",
    "plt.figure()\n",
    "plt.errorbar(x, residualsVec, del_y, fmt=\"bo\", markersize = 3)\n",
    "\n",
    "# Residuals step 5: Add a horizontal line at R=0 to the plot\n",
    "plt.hlines(y=0, x_min=x_min, x_max=x_max, color='k') # draw a black line at y = 0.\n",
    "\n",
    "# Residuals step 6: Add axis labels and title, and show the graph\n",
    "plt.title(residuals_title)\n",
    "plt.xlabel(x_label) # re-use the x_label from the scatter plot with model\n",
    "plt.ylabel(residuals_y_label)\n",
    "plt.show()"
   ]
  },
  {
   "cell_type": "markdown",
   "id": "e2a788e3-1f7e-4da1-81f4-9f59cd9ab254",
   "metadata": {},
   "source": [
    "Let’s take a moment to see how these two graphs each present the same overall information, but with different emphases. \n",
    "\n",
    "* The main scatter-plot, on top, shows our data points and the model. We can see that, within their uncertainties, all of our data points lie along the model line or above it.\n",
    "* The residuals plot, on the bottom, shows how far each data point is away from the model, thus we can see a bit more clearly that the left-most data point lies exactly at r = 0 (the model predicts this data point exactly) and all of the other data points have positive residuals (data - model), meaning that model is predicting lower values of force than what was found by the data. The residuals graph can be thought of as a zoomed-in representation of the data points as seen from the perspective of the model line.\n",
    "\n",
    "The zoomed-in nature of the residuals plot (in comparison to the top scatterplot with model) allows us to better analyze the agreement between the two. This makes residual plots an extremely useful tool for evaluating the quality of fits and for modifying models, which you are now going to do below. "
   ]
  },
  {
   "cell_type": "markdown",
   "id": "ff3b258a-894f-415c-854a-2180846d6e49",
   "metadata": {},
   "source": [
    "## 5.6 Interactive fitting with `fit_plot`\n",
    "\n",
    "We introduce `fit_plot`, a custom Python package that allows us to change our `slope` and `intercept` model parameters interactively instead of re-running the same code cell each time we chance a model parameter"
   ]
  },
  {
   "cell_type": "markdown",
   "id": "3d41110f-9a7f-453f-b8b1-09ad1c541130",
   "metadata": {},
   "source": [
    "When using this package to fit a linear model to data, we use `fit_plot.line` with the following arguments\n",
    "\n",
    "```Python\n",
    "fit_plot.line(\n",
    "    unique_graph_title, # a unique name that will be used for the graph title\n",
    "    x, # scatter-plot x-data \n",
    "    y, # scatter-plot y-data \n",
    "    del_y # uncertainties in our y-data\n",
    ")\n",
    "```\n",
    "Each instance of `fit_plot.line` saves its fitting parameters to a Python object that has the name associated with the `unique_graph_title` argument, meaning that if you use `fit_plot.line` multiple times in the same notebook, you will want to make sure that each of these graphs has its own `unique_graph_title`.\n",
    "\n",
    "The following image shows the initial state when calling `fit_plot.line` with the x- and y-data we have been using. It includes a scatter plot and residuals plot by default. Its initial guesses are `slope = 0` and `intercept` equals the average y-data value.\n",
    "\n",
    "![example initial state for the fit_plot widget](https://i.ibb.co/V3PQV77/initial-fit.png)"
   ]
  },
  {
   "cell_type": "markdown",
   "id": "6b50682e-af2d-4de1-8148-e4b10c07581e",
   "metadata": {},
   "source": [
    "**Your turn #5:** Let's use `fit_plot.line` for our first interactive fitting session.\n",
    "\n",
    "Run the code block below and try the following:\n",
    "1. Manually change the values in the boxes below the graphs to `slope = 2` and `intercept = 0` (hit Enter after you change a number). Notice that these values reproduce our earlier scatter plot and residuals graphs, with the exception of the residuals graph being less tall here\n",
    "2. Try clicking in various locations within the scatter plot and residuals graphs and see how the interactive fitting session responds. See if you can find a set of parameters that corresponds to an even better fit than `slope = 2` and `intercept = 0`. It is up to your judgement what constitutes a \"better fit\", but it may be helpful to pay close attention to the residuals plot.\n",
    "\n",
    "**Please note:** Sometimes you will see multiple data sets and a legend in the `fit_plot.line` scatter plot. This is typically fixed by running the same block of code a second time. "
   ]
  },
  {
   "cell_type": "code",
   "execution_count": null,
   "id": "aa2beb34-68b4-4b35-9f7c-b26ceab46450",
   "metadata": {},
   "outputs": [],
   "source": [
    "# Run me to launch an interactive fit_plot widget\n",
    "\n",
    "import fit_plot\n",
    "%matplotlib widget\n",
    "\n",
    "x = delta_xVec\n",
    "y = f_sVec\n",
    "del_y = del_f_sVec\n",
    "unique_graph_title = \"Our first interactive fit of Hooke's Law data\"\n",
    "\n",
    "fit_plot.line(unique_graph_title, x, y, del_y)"
   ]
  },
  {
   "cell_type": "markdown",
   "id": "3ae2b490-a046-4407-86fb-855914e86bf0",
   "metadata": {},
   "source": [
    "**Your turn #6:** After playing around with the interactive fitting above, reset the values back to `slope = 2` and `intercept = 0` using the text boxes. \n",
    "\n",
    "Let's gain a better sense the range of fitting parameters that give us reasonably good fits. Return to the inteactive fitting widget above and try out slopes of `1.7`, `1.8`, `1.9`, `2.0`, `2.1`, `2.2` and `2.3 (N/m)`, while keeping `intercept = 0`. Place each of these slopes into one of the following categories: \n",
    "\n",
    "1. **Best fits** (fits where it seems like there is little room for improvement),\n",
    "2. **Decent fits** (reasonable fits where there is still room for small obvious improvements), or\n",
    "3. **Poor fits**.\n",
    "\n",
    "_Hints:_\n",
    "\n",
    "* For a good fit we are looking to have approximately equal scatter of the residuals above and below the `Residuals = 0` horizontal line, which would also correspond to an approximately equal scatter of the data points above and below the model on the scatter plot.\n",
    "* For a good fit, there should be no obvious trends in the residuals. An example of an obvious trend is the small but noticeable upward trend we saw for slope = 2.0.\n",
    "* Finally, if the uncertainties are well-characterized (neither overestimated or underestimated) and we are using an appropriate model, we will expect that approximately 68% of the residuals will have their error bars touch the horizontal `Residuals = 0` line."
   ]
  },
  {
   "cell_type": "markdown",
   "id": "c57f0b7c-4d88-4760-afd2-24b63e5d1867",
   "metadata": {},
   "source": [
    "Categorize the slopes 1.7, 1.8, 1.9, 2.0, 2.1, 2.2 and 2.3 (N/m) here:\n",
    "\n",
    "* Best fits:\n",
    "* Decent fits:\n",
    "* Poor fits:"
   ]
  },
  {
   "cell_type": "markdown",
   "id": "7696d494-183e-4615-b955-dbac96d49272",
   "metadata": {
    "jp-MarkdownHeadingCollapsed": true,
    "tags": []
   },
   "source": [
    "##### **Answer:**"
   ]
  },
  {
   "cell_type": "markdown",
   "id": "0f388a9a-ea10-430c-8bad-7e22eff6640e",
   "metadata": {},
   "source": [
    "* Best fits: 2.1\n",
    "* Decent fits: 2.0, 2.2\n",
    "* Poor fits: 1.7, 1.8, 1.9, 2.3 "
   ]
  },
  {
   "cell_type": "markdown",
   "id": "93eff06a-d152-4b75-9d45-0049e07cb48c",
   "metadata": {},
   "source": [
    "## 5.7 Estimating uncertainty of the slope"
   ]
  },
  {
   "cell_type": "markdown",
   "id": "a5d14f54-9b0c-481a-b847-fe981635218c",
   "metadata": {},
   "source": [
    "For \"Your turn #6\", we found that the graph has decent fits for slopes in the range 2.0 - 2.2, which we will consider to be the 68% Confidence Interval for the slope. The code block below shows how to finish the calculation to get `dslope` ($\\delta \\text{slope}$)."
   ]
  },
  {
   "cell_type": "markdown",
   "id": "851bc830-d07c-4333-bfae-75d97c4c8055",
   "metadata": {},
   "source": [
    "Now that we have a linear model, we can also estimate the uncertainty of the slope. \n",
    "\n",
    "To estimate uncertainties in fitting parameters, we will use the method of looking at the range of reasonable best-fit lines and treating that as a 68% confidence interval. We will make the steepest possible best-fit line \"Max\" (as in maximum slope) that still does a reasonable job of fitting the data and a least steep \"Min\" (as in minimum slope) that also does a reasonable job of fitting the data. We will call our original model line \"Best\". Use the \"Best\" parameters for the starting guesses for the \"Max\" and \"Min\" fit parameters.\n",
    "\n",
    "To calculate the uncertainty of the slope:\n",
    "1. The range between the maximum and minimum reasonable slope is our 68% confidence interval for the slope, and so we need to divide this difference by 2 to get a standard deviation equivalent.\n",
    "2. To reward us with increased confidence in our result for more data collected, we determine the final uncertainty in our slope by dividing the value from the previous step by $\\sqrt{N}$, where $N$ is our number of data points being fit."
   ]
  },
  {
   "cell_type": "code",
   "execution_count": null,
   "id": "143022fc-d4b2-4ce7-b758-d85c06f37826",
   "metadata": {
    "tags": []
   },
   "outputs": [],
   "source": [
    "# Run this code to see how to calculate the slope uncertainty as per the \n",
    "# steps above\n",
    "\n",
    "slope_max = 2.2\n",
    "slope_min = 2.0\n",
    "slope_best = 2.1\n",
    "\n",
    "N = len(f_sVec) # The number of data points we plotted\n",
    "\n",
    "dslope = (slope_max-slope_min)/(2 * np.sqrt(N) )\n",
    "print(f\"The model slope is: {slope_best:.3f} ± {dslope:.3f} N/m\")"
   ]
  },
  {
   "cell_type": "markdown",
   "id": "86778ff3-0082-4e09-8858-167549cc1a1d",
   "metadata": {},
   "source": [
    "## 5.8 Fitting the Ohm's Law data"
   ]
  },
  {
   "cell_type": "markdown",
   "id": "61dfadb6-0bc0-4edb-aa54-67eee5d7cd4b",
   "metadata": {},
   "source": [
    "**Your turn #7:** Now that we've gone through a fitting example together, it is your turn to repeat these steps with the interactive `fit_plot` widget using the Ohm's Law data used to create the very first graph we saw at the start of this Prelab. Consult the introduction to this prelab to remind yourself what the variables `Vr1`, `Vs` and `I` all represent. \n",
    "\n",
    "\n",
    "_Hints_\n",
    "\n",
    "* Since we have a data point that corresponds to `I = 0` and `Vr1 = 0`, it is reasonable to assume that we can keep our y-intercept as `intercept = 0`. If you find that changing your `intercept` to something other than `0` makes a noticeably better fit, you can use an `intercept` with a value other than `0`.\n",
    "* To find the minimum (or maximum) slope, decrease (or increase) the slope from your best slope until the model no longer does an at-all-reasonable job of fitting the data."
   ]
  },
  {
   "cell_type": "code",
   "execution_count": null,
   "id": "871dc0c5-a7c8-4740-b808-c54587ffbb6d",
   "metadata": {},
   "outputs": [],
   "source": [
    "# Run me to load the Ohm's Law data\n",
    "# Make sure to press \"Generate Vectors\" afterward\n",
    "\n",
    "de_ol = data_entry2.sheet(\"prelab05_ohms_law\")"
   ]
  },
  {
   "cell_type": "code",
   "execution_count": null,
   "id": "cb9c6d0d-ce2a-4800-9f94-9df286e03640",
   "metadata": {},
   "outputs": [],
   "source": [
    "# Run me to launch an interactive fit_plot widget for the Ohm's Law data\n",
    "\n",
    "import fit_plot\n",
    "%matplotlib widget\n",
    "\n",
    "x = IVec\n",
    "y = Vr1Vec\n",
    "del_y = dVr1Vec\n",
    "\n",
    "# Important reminder! We needed to change the unique_graph_title name\n",
    "unique_graph_title = \"Our first interactive fit of Ohm's Law data\"\n",
    "\n",
    "fit_plot.line(unique_graph_title, x, y, del_y)"
   ]
  },
  {
   "cell_type": "code",
   "execution_count": null,
   "id": "350df0e7-700b-4520-bc62-60ea880eba46",
   "metadata": {},
   "outputs": [],
   "source": [
    "# For the Ohm's law data: fill in your your best, min and \n",
    "# max reasonable slopes, and then calculate dslope\n",
    "\n",
    "slope_max = \n",
    "slope_min = \n",
    "slope_best = \n",
    "\n",
    "N = len(Vr1Vec)\n",
    "\n",
    "dslope = (slope_max-slope_min)/(2 * np.sqrt(N) )\n",
    "\n",
    "print(f\"The model slope is: {slope_best:.3f} ± {dslope:.3f} Ohms\")"
   ]
  },
  {
   "cell_type": "markdown",
   "id": "c6bba0ef-a1ac-499e-b6f0-b0c2abbf6726",
   "metadata": {
    "jp-MarkdownHeadingCollapsed": true,
    "tags": []
   },
   "source": [
    "##### **Answer:**"
   ]
  },
  {
   "cell_type": "code",
   "execution_count": null,
   "id": "30cef8d3-638a-4e5d-b4ca-ac77d2de54f8",
   "metadata": {
    "tags": []
   },
   "outputs": [],
   "source": [
    "# Since we are approximating the slope uncertainty, your answer might be slightly \n",
    "# different. Your uncertainty should be within a factor of two of this answer.\n",
    "\n",
    "slope_best = 9.9\n",
    "slope_max = 10.2\n",
    "slope_min = 9.65\n",
    "N = len(VrVec)\n",
    "\n",
    "dslope = (slope_max-slope_min)/2\n",
    "print(f\"The model slope is: {slope_best:.2f} ± {dslope:.2f} Ohms\")"
   ]
  },
  {
   "cell_type": "markdown",
   "id": "41a9826c-109e-4cee-98c9-da580c27d156",
   "metadata": {
    "id": "41a9826c-109e-4cee-98c9-da580c27d156"
   },
   "source": [
    "## 5.9 Plotting with Python - Your turn! "
   ]
  },
  {
   "cell_type": "markdown",
   "id": "b1111d7b-fe64-4fc6-9700-33f41022cf76",
   "metadata": {},
   "source": [
    "Although `fit_plot.line` does a great job of most of the pieces of building scatter plots with models and residuals plots, one of the learning goals in this course is for you to be able to make effective plots of these types on your own. Thus we will practice making these plots using `plt.errorbar`, `plt.plot` and the other matplotlib commands that you learned today even though it might feel like these graphs are not significantly different than what gets produced automatically with `fit_plot.line`.\n",
    "\n",
    "**Your turn #8:** Now that you have completed the interactive fitting of the Ohm's Law data, it is your turn to follow our previous steps to create your own good versions of the scatter plot with model line, and the residuals plot/ These graphs should have titles, axis labels and a legend, as appropriate, similar to the graphs produced by the code under Section \"5.5 Complete example for making a scatter and residuals plot\". \n",
    "\n",
    "**Hints:** \n",
    "* Instead of starting from scratch, copy the code cell under the \"5.5 Complete example for making a scatter and residuals plot\" section header and modify the plotting variable assignment for the vectors being plotted (e.g., `x = delta_xVec` should instead point to your Ohm's Law x-axis data), as well as the axis labels/title appropriate for a Voltage (y) vs Current (x) plot.\n",
    "* Recall that you already found your best `slope` with your interactive fitting session above so you can use this for your `slope` in these graphs. If you found that your best fit had a non-zero `intercept` too, make sure to update your `intercept` value in the code."
   ]
  },
  {
   "cell_type": "code",
   "execution_count": null,
   "id": "0a4dcd41-dd1f-43ae-967f-0b4915463e54",
   "metadata": {},
   "outputs": [],
   "source": [
    "# Use this cell to create your scatter plot with model, and your residuals plot\n",
    "\n",
    "\n"
   ]
  },
  {
   "cell_type": "markdown",
   "id": "920f8235-f990-453a-8aff-d514c4b868cc",
   "metadata": {},
   "source": [
    "## Preparing your Lab 05 notebook\n",
    "In this final set of tasks you will prepare your Lab 05 notebook for data collection and analysis\n",
    "\n",
    "**Your turn #9:**\n",
    "1. Open the Lab 05 Instructions on Canvas and take a couple of minutes to read through them so that you have a sense of how you will be spending your time during the lab.\n",
    "2. We provided a spreadsheet template (column names only) in Part D of your lab notebook because the data you collect in the lab will be of the same format as the example Ohm's law data from this prelab. Copy in and modify your code as needed from this prelab so that, once you have collected some data you will be ready:\n",
    "   * To perform an interactive fitting session using `fit_plot.line` like you did in Section 5.6,\n",
    "   * To calculate `slope` and `dslope` and,\n",
    "   * To make a good set of plots consisting of a scatter plot and residuals plot with a legend and all of the approrpriate titles (like you did for Your turn #8).\n",
    "\n",
    "You can optionally use the \"lab05_prelab_ohms_law\" data in your Lab 05 notebook to ensure your copied over code is functioning correctly. \n",
    "\n",
    "You should now be ready for data collection and data analysis in the lab."
   ]
  },
  {
   "cell_type": "markdown",
   "id": "65020937-116c-456b-98b1-6bbfae74c937",
   "metadata": {},
   "source": [
    "# Submit\n",
    "\n",
    "Steps for submission:\n",
    "\n",
    "1. Click: Run => Run_All_Cells\n",
    "2. Read through the notebook to ensure all the cells executed correctly and without error.\n",
    "3. File => Save_and_Export_Notebook_As->HTML\n",
    "4. Upload the HTML document to the lab submission assignment on Canvas."
   ]
  }
 ],
 "metadata": {
  "colab": {
   "collapsed_sections": [],
   "name": "lab05_prelab.ipynb",
   "provenance": []
  },
  "kernelspec": {
   "display_name": "phys119",
   "language": "python",
   "name": "python3"
  },
  "language_info": {
   "codemirror_mode": {
    "name": "ipython",
    "version": 3
   },
   "file_extension": ".py",
   "mimetype": "text/x-python",
   "name": "python",
   "nbconvert_exporter": "python",
   "pygments_lexer": "ipython3",
   "version": "3.10.16"
  },
  "widgets": {
   "application/vnd.jupyter.widget-state+json": {
    "state": {
     "0225ce9b24c34efe823b049bf448d0ad": {
      "model_module": "@jupyter-widgets/controls",
      "model_module_version": "2.0.0",
      "model_name": "ButtonStyleModel",
      "state": {
       "font_family": null,
       "font_size": null,
       "font_style": null,
       "font_variant": null,
       "font_weight": null,
       "text_color": null,
       "text_decoration": null
      }
     },
     "04648c02e10d4c35a764e5ff4cfc4052": {
      "model_module": "ipydatagrid",
      "model_module_version": "^1.1.16",
      "model_name": "VegaExprModel",
      "state": {
       "_model_module_version": "^1.1.16",
       "_view_module": "ipydatagrid",
       "_view_module_version": "^1.1.16",
       "_view_name": "VegaExprView"
      }
     },
     "05b72223df2e4f9ba1f2b23c7542ca03": {
      "model_module": "ipydatagrid",
      "model_module_version": "^1.1.16",
      "model_name": "VegaExprModel",
      "state": {
       "_model_module_version": "^1.1.16",
       "_view_module": "ipydatagrid",
       "_view_module_version": "^1.1.16",
       "_view_name": "VegaExprView"
      }
     },
     "07f5f60b43dd4748838e28e678849595": {
      "model_module": "ipydatagrid",
      "model_module_version": "^1.1.16",
      "model_name": "VegaExprModel",
      "state": {
       "_model_module_version": "^1.1.16",
       "_view_module": "ipydatagrid",
       "_view_module_version": "^1.1.16",
       "_view_name": "VegaExprView"
      }
     },
     "10c805074dc24606a644d3494790e9f4": {
      "model_module": "@jupyter-widgets/controls",
      "model_module_version": "2.0.0",
      "model_name": "ButtonStyleModel",
      "state": {
       "font_family": null,
       "font_size": null,
       "font_style": null,
       "font_variant": null,
       "font_weight": null,
       "text_color": null,
       "text_decoration": null
      }
     },
     "10e38fc613fa45c68aa386e28c206d85": {
      "model_module": "@jupyter-widgets/controls",
      "model_module_version": "2.0.0",
      "model_name": "ButtonModel",
      "state": {
       "description": "Add Column",
       "layout": "IPY_MODEL_690d76de931f47eabd76e0006b78ce8a",
       "style": "IPY_MODEL_9b70b3e879fa49559d7a174c8f358f37",
       "tooltip": null
      }
     },
     "15361f6b7d944a0393c9c471beab45ce": {
      "model_module": "@jupyter-widgets/base",
      "model_module_version": "2.0.0",
      "model_name": "LayoutModel",
      "state": {}
     },
     "17fb57ed97c24998a53cd3d86920ab14": {
      "model_module": "@jupyter-widgets/base",
      "model_module_version": "2.0.0",
      "model_name": "LayoutModel",
      "state": {}
     },
     "1d1ebbcd36e34e17b86dd40a8fe3b04b": {
      "model_module": "@jupyter-widgets/base",
      "model_module_version": "2.0.0",
      "model_name": "LayoutModel",
      "state": {}
     },
     "1f814e326ae240a2970409aed178eb1a": {
      "model_module": "@jupyter-widgets/controls",
      "model_module_version": "2.0.0",
      "model_name": "VBoxModel",
      "state": {
       "children": [
        "IPY_MODEL_722cc770a01b4a4d8545fa9c702208d0",
        "IPY_MODEL_b9849c74285d41329de745084f9d691d",
        "IPY_MODEL_e0c2af9ccc7843dd829eec37b7831fb0"
       ],
       "layout": "IPY_MODEL_b19ec162f5ff492091b248bc5b2a62f3"
      }
     },
     "1fa1e07d601d48889fb1095c77e602b4": {
      "model_module": "@jupyter-widgets/base",
      "model_module_version": "2.0.0",
      "model_name": "LayoutModel",
      "state": {}
     },
     "2149fbea0f8b4926bc2e9bc03069e789": {
      "model_module": "@jupyter-widgets/controls",
      "model_module_version": "2.0.0",
      "model_name": "VBoxModel",
      "state": {
       "children": [
        "IPY_MODEL_eca316377de549bb9aea1d338303363b",
        "IPY_MODEL_cdd02f7fd16e47a5ac1a31f936a29f60",
        "IPY_MODEL_6fd36f2b495046399a0e536955d487b6"
       ],
       "layout": "IPY_MODEL_f4f0316a79a84083b6c9ea9abf5bf25a"
      }
     },
     "324229cde0914dbdb1cb2b647061b71b": {
      "model_module": "@jupyter-widgets/controls",
      "model_module_version": "2.0.0",
      "model_name": "ButtonStyleModel",
      "state": {
       "font_family": null,
       "font_size": null,
       "font_style": null,
       "font_variant": null,
       "font_weight": null,
       "text_color": null,
       "text_decoration": null
      }
     },
     "336a8da76fac4a8ab83cab7009385e2c": {
      "model_module": "@jupyter-widgets/base",
      "model_module_version": "2.0.0",
      "model_name": "LayoutModel",
      "state": {}
     },
     "3a8c046e56ec46aab8e5f9782d031bf1": {
      "model_module": "@jupyter-widgets/controls",
      "model_module_version": "2.0.0",
      "model_name": "ButtonStyleModel",
      "state": {
       "font_family": null,
       "font_size": null,
       "font_style": null,
       "font_variant": null,
       "font_weight": null,
       "text_color": null,
       "text_decoration": null
      }
     },
     "3bf2a4165dc4448dad170774de0cd885": {
      "model_module": "@jupyter-widgets/base",
      "model_module_version": "2.0.0",
      "model_name": "LayoutModel",
      "state": {}
     },
     "3f2b6dd394e340dda73504de2349b3a8": {
      "model_module": "@jupyter-widgets/controls",
      "model_module_version": "2.0.0",
      "model_name": "ButtonStyleModel",
      "state": {
       "font_family": null,
       "font_size": null,
       "font_style": null,
       "font_variant": null,
       "font_weight": null,
       "text_color": null,
       "text_decoration": null
      }
     },
     "3f37ed9f365949efbfdf5dd3352c9b84": {
      "model_module": "@jupyter-widgets/base",
      "model_module_version": "2.0.0",
      "model_name": "LayoutModel",
      "state": {}
     },
     "3fa7655e1836404dbcdceb5da5dbd93c": {
      "model_module": "@jupyter-widgets/base",
      "model_module_version": "2.0.0",
      "model_name": "LayoutModel",
      "state": {}
     },
     "3faff197ddf54b4dbd45cc74ea1f359d": {
      "model_module": "@jupyter-widgets/base",
      "model_module_version": "2.0.0",
      "model_name": "LayoutModel",
      "state": {}
     },
     "433be9ee9228462688a91bb42bcb8593": {
      "model_module": "@jupyter-widgets/controls",
      "model_module_version": "2.0.0",
      "model_name": "ButtonStyleModel",
      "state": {
       "font_family": null,
       "font_size": null,
       "font_style": null,
       "font_variant": null,
       "font_weight": null,
       "text_color": null,
       "text_decoration": null
      }
     },
     "44c1cfcb9ded4fc19eb2bd282e46b97e": {
      "model_module": "@jupyter-widgets/base",
      "model_module_version": "2.0.0",
      "model_name": "LayoutModel",
      "state": {}
     },
     "472be913661f4c9e8efefde6b66efe86": {
      "model_module": "@jupyter-widgets/base",
      "model_module_version": "2.0.0",
      "model_name": "LayoutModel",
      "state": {}
     },
     "48a097d266a84a64aad83e09834f8047": {
      "model_module": "@jupyter-widgets/controls",
      "model_module_version": "2.0.0",
      "model_name": "ButtonModel",
      "state": {
       "description": "Undo",
       "layout": "IPY_MODEL_472be913661f4c9e8efefde6b66efe86",
       "style": "IPY_MODEL_7c0071f3941f445fb50e81764a0e624e",
       "tooltip": null
      }
     },
     "54894fbfba654f6c80915a53153f2733": {
      "model_module": "@jupyter-widgets/base",
      "model_module_version": "2.0.0",
      "model_name": "LayoutModel",
      "state": {
       "height": "250px"
      }
     },
     "574ce96fc183440b92d42a51778ffd84": {
      "model_module": "@jupyter-widgets/base",
      "model_module_version": "2.0.0",
      "model_name": "LayoutModel",
      "state": {}
     },
     "57cc7a29104f4e2b8810046de5509846": {
      "model_module": "@jupyter-widgets/controls",
      "model_module_version": "2.0.0",
      "model_name": "ButtonModel",
      "state": {
       "description": "Redo",
       "layout": "IPY_MODEL_beaaac6dddc94388a4a21a8df8752461",
       "style": "IPY_MODEL_433be9ee9228462688a91bb42bcb8593",
       "tooltip": null
      }
     },
     "59c509a84c6f4628a26af40f8799739f": {
      "model_module": "@jupyter-widgets/base",
      "model_module_version": "2.0.0",
      "model_name": "LayoutModel",
      "state": {}
     },
     "5c1b9fefe0954a939411c5574f936595": {
      "model_module": "@jupyter-widgets/controls",
      "model_module_version": "2.0.0",
      "model_name": "ButtonStyleModel",
      "state": {
       "font_family": null,
       "font_size": null,
       "font_style": null,
       "font_variant": null,
       "font_weight": null,
       "text_color": null,
       "text_decoration": null
      }
     },
     "5ceb0af73fad4a538891f08ec2d7ae79": {
      "model_module": "@jupyter-widgets/controls",
      "model_module_version": "2.0.0",
      "model_name": "ButtonStyleModel",
      "state": {
       "font_family": null,
       "font_size": null,
       "font_style": null,
       "font_variant": null,
       "font_weight": null,
       "text_color": null,
       "text_decoration": null
      }
     },
     "5e1e6efbb2fa46afab762b0266d7cd92": {
      "model_module": "ipydatagrid",
      "model_module_version": "^1.1.16",
      "model_name": "TextRendererModel",
      "state": {
       "_model_module_version": "^1.1.16",
       "_view_module_version": "^1.1.16",
       "background_color": "IPY_MODEL_04648c02e10d4c35a764e5ff4cfc4052",
       "text_color": "IPY_MODEL_ea170c12f810475e93ae43f5facf5bf5"
      }
     },
     "5e9173536c95413e93f158a0b23e259e": {
      "model_module": "@jupyter-widgets/base",
      "model_module_version": "2.0.0",
      "model_name": "LayoutModel",
      "state": {}
     },
     "5ea8054d1df844808c536686d616ac7f": {
      "model_module": "@jupyter-widgets/base",
      "model_module_version": "2.0.0",
      "model_name": "LayoutModel",
      "state": {}
     },
     "5fc53a2ea23b449cbd8ca982d8f50fef": {
      "model_module": "@jupyter-widgets/base",
      "model_module_version": "2.0.0",
      "model_name": "LayoutModel",
      "state": {}
     },
     "690d76de931f47eabd76e0006b78ce8a": {
      "model_module": "@jupyter-widgets/base",
      "model_module_version": "2.0.0",
      "model_name": "LayoutModel",
      "state": {}
     },
     "6a082094a13a4f5d9a3180871467cfbc": {
      "model_module": "@jupyter-widgets/controls",
      "model_module_version": "2.0.0",
      "model_name": "ButtonModel",
      "state": {
       "description": "Generate Vectors",
       "layout": "IPY_MODEL_15361f6b7d944a0393c9c471beab45ce",
       "style": "IPY_MODEL_10c805074dc24606a644d3494790e9f4",
       "tooltip": null
      }
     },
     "6afdff6735754f6889f6556053becbd6": {
      "model_module": "ipydatagrid",
      "model_module_version": "^1.1.16",
      "model_name": "DataGridModel",
      "state": {
       "_data": {
        "data": [
         {
          "0": "Dx",
          "1": "dDx",
          "2": "F",
          "3": "dF",
          "ipydguuid": 0,
          "key": "  Variable:"
         },
         {
          "0": "m",
          "1": "m",
          "2": "N",
          "3": "N",
          "ipydguuid": 1,
          "key": " Units:"
         },
         {
          "0": "0",
          "1": "0.01",
          "2": "0",
          "3": "0.02",
          "ipydguuid": 2,
          "key": 0
         },
         {
          "0": "0.12",
          "1": "0.01",
          "2": "0.26",
          "3": "0.02",
          "ipydguuid": 3,
          "key": 1
         },
         {
          "0": "0.21",
          "1": "0.01",
          "2": "0.43",
          "3": "0.03",
          "ipydguuid": 4,
          "key": 2
         },
         {
          "0": "0.29",
          "1": "0.01",
          "2": "0.63",
          "3": "0.03",
          "ipydguuid": 5,
          "key": 3
         },
         {
          "0": "0.40",
          "1": "0.01",
          "2": "0.81",
          "3": "0.03",
          "ipydguuid": 6,
          "key": 4
         },
         {
          "0": "0.48",
          "1": "0.01",
          "2": "1.05",
          "3": "0.04",
          "ipydguuid": 7,
          "key": 5
         },
         {
          "0": "0.60",
          "1": "0.01",
          "2": "1.23",
          "3": "0.04",
          "ipydguuid": 8,
          "key": 6
         }
        ],
        "fields": [
         {
          "key": null
         },
         {
          "0": null
         },
         {
          "1": null
         },
         {
          "2": null
         },
         {
          "3": null
         },
         {
          "ipydguuid": null
         }
        ],
        "schema": {
         "fields": [
          {
           "name": "key",
           "type": "string"
          },
          {
           "name": 0,
           "type": "string"
          },
          {
           "name": 1,
           "type": "string"
          },
          {
           "name": 2,
           "type": "string"
          },
          {
           "name": 3,
           "type": "string"
          },
          {
           "name": "ipydguuid",
           "type": "integer"
          }
         ],
         "pandas_version": "1.4.0",
         "primaryKey": [
          "key",
          "ipydguuid"
         ],
         "primaryKeyUuid": "ipydguuid"
        }
       },
       "_model_module_version": "^1.1.16",
       "_model_name": "DataGridModel",
       "_view_module_version": "^1.1.16",
       "auto_fit_columns": false,
       "auto_fit_params": {
        "area": "all",
        "numCols": null,
        "padding": 30
       },
       "base_column_header_size": 20,
       "base_column_size": 64,
       "base_row_header_size": 64,
       "base_row_size": 20,
       "default_renderer": "IPY_MODEL_a0a485db16bb4438a32c5297022f3f46",
       "editable": true,
       "header_visibility": "all",
       "layout": "IPY_MODEL_9b71f7909f1d44d298e1929f893299ea",
       "selection_mode": "cell"
      }
     },
     "6f264595ce474677a01ae319c17a4616": {
      "model_module": "@jupyter-widgets/controls",
      "model_module_version": "2.0.0",
      "model_name": "ButtonStyleModel",
      "state": {
       "font_family": null,
       "font_size": null,
       "font_style": null,
       "font_variant": null,
       "font_weight": null,
       "text_color": null,
       "text_decoration": null
      }
     },
     "6f424f7ffe134e3da1b60f0382dc5930": {
      "model_module": "@jupyter-widgets/controls",
      "model_module_version": "2.0.0",
      "model_name": "ButtonStyleModel",
      "state": {
       "font_family": null,
       "font_size": null,
       "font_style": null,
       "font_variant": null,
       "font_weight": null,
       "text_color": null,
       "text_decoration": null
      }
     },
     "6fd36f2b495046399a0e536955d487b6": {
      "model_module": "@jupyter-widgets/output",
      "model_module_version": "1.0.0",
      "model_name": "OutputModel",
      "state": {
       "layout": "IPY_MODEL_1d1ebbcd36e34e17b86dd40a8fe3b04b"
      }
     },
     "7193a26bbaab4926882581266f15f335": {
      "model_module": "@jupyter-widgets/controls",
      "model_module_version": "2.0.0",
      "model_name": "ButtonModel",
      "state": {
       "description": "Add Column",
       "layout": "IPY_MODEL_17fb57ed97c24998a53cd3d86920ab14",
       "style": "IPY_MODEL_6f264595ce474677a01ae319c17a4616",
       "tooltip": null
      }
     },
     "722cc770a01b4a4d8545fa9c702208d0": {
      "model_module": "@jupyter-widgets/controls",
      "model_module_version": "2.0.0",
      "model_name": "HBoxModel",
      "state": {
       "children": [
        "IPY_MODEL_a05e6ec824c74379998c46920daf3837",
        "IPY_MODEL_57cc7a29104f4e2b8810046de5509846",
        "IPY_MODEL_b43751d5eda646c191b9ee8e8ee72a1b",
        "IPY_MODEL_7193a26bbaab4926882581266f15f335",
        "IPY_MODEL_9e192c66cf114f29942ab540b6f2f425"
       ],
       "layout": "IPY_MODEL_3fa7655e1836404dbcdceb5da5dbd93c"
      }
     },
     "792de6cbba38495ca2c50ad64bb3ba97": {
      "model_module": "ipydatagrid",
      "model_module_version": "^1.1.16",
      "model_name": "VegaExprModel",
      "state": {
       "_model_module_version": "^1.1.16",
       "_view_module": "ipydatagrid",
       "_view_module_version": "^1.1.16",
       "_view_name": "VegaExprView"
      }
     },
     "7c0071f3941f445fb50e81764a0e624e": {
      "model_module": "@jupyter-widgets/controls",
      "model_module_version": "2.0.0",
      "model_name": "ButtonStyleModel",
      "state": {
       "font_family": null,
       "font_size": null,
       "font_style": null,
       "font_variant": null,
       "font_weight": null,
       "text_color": null,
       "text_decoration": null
      }
     },
     "7cd9692c5ffa499796a53673f573692d": {
      "model_module": "@jupyter-widgets/controls",
      "model_module_version": "2.0.0",
      "model_name": "VBoxModel",
      "state": {
       "children": [
        "IPY_MODEL_b43dba2f62e549bc9a83712aebf3d13d",
        "IPY_MODEL_6afdff6735754f6889f6556053becbd6",
        "IPY_MODEL_8072c22098964d068badb49979306ca8"
       ],
       "layout": "IPY_MODEL_574ce96fc183440b92d42a51778ffd84"
      }
     },
     "8072c22098964d068badb49979306ca8": {
      "model_module": "@jupyter-widgets/output",
      "model_module_version": "1.0.0",
      "model_name": "OutputModel",
      "state": {
       "layout": "IPY_MODEL_3bf2a4165dc4448dad170774de0cd885"
      }
     },
     "82fd4a997c10479eba75a2e7aa93ea69": {
      "model_module": "@jupyter-widgets/base",
      "model_module_version": "2.0.0",
      "model_name": "LayoutModel",
      "state": {}
     },
     "8ce76c76e96d435eb5b80bac29fed1b4": {
      "model_module": "@jupyter-widgets/base",
      "model_module_version": "2.0.0",
      "model_name": "LayoutModel",
      "state": {}
     },
     "95723452e5644ddf8f8ee139e4bad692": {
      "model_module": "@jupyter-widgets/controls",
      "model_module_version": "2.0.0",
      "model_name": "ButtonModel",
      "state": {
       "description": "Redo",
       "layout": "IPY_MODEL_5fc53a2ea23b449cbd8ca982d8f50fef",
       "style": "IPY_MODEL_ef3ee3c8d18d450ea541bb459473e684",
       "tooltip": null
      }
     },
     "9aad82104a12407aad11d2805ac21fc0": {
      "model_module": "@jupyter-widgets/controls",
      "model_module_version": "2.0.0",
      "model_name": "ButtonModel",
      "state": {
       "description": "Redo",
       "layout": "IPY_MODEL_9f0eaea6377e483f92a13dd95ae64572",
       "style": "IPY_MODEL_3f2b6dd394e340dda73504de2349b3a8",
       "tooltip": null
      }
     },
     "9b70b3e879fa49559d7a174c8f358f37": {
      "model_module": "@jupyter-widgets/controls",
      "model_module_version": "2.0.0",
      "model_name": "ButtonStyleModel",
      "state": {
       "font_family": null,
       "font_size": null,
       "font_style": null,
       "font_variant": null,
       "font_weight": null,
       "text_color": null,
       "text_decoration": null
      }
     },
     "9b71f7909f1d44d298e1929f893299ea": {
      "model_module": "@jupyter-widgets/base",
      "model_module_version": "2.0.0",
      "model_name": "LayoutModel",
      "state": {
       "height": "230px"
      }
     },
     "9e192c66cf114f29942ab540b6f2f425": {
      "model_module": "@jupyter-widgets/controls",
      "model_module_version": "2.0.0",
      "model_name": "ButtonModel",
      "state": {
       "description": "Generate Vectors",
       "layout": "IPY_MODEL_5e9173536c95413e93f158a0b23e259e",
       "style": "IPY_MODEL_324229cde0914dbdb1cb2b647061b71b",
       "tooltip": null
      }
     },
     "9f0eaea6377e483f92a13dd95ae64572": {
      "model_module": "@jupyter-widgets/base",
      "model_module_version": "2.0.0",
      "model_name": "LayoutModel",
      "state": {}
     },
     "a05e6ec824c74379998c46920daf3837": {
      "model_module": "@jupyter-widgets/controls",
      "model_module_version": "2.0.0",
      "model_name": "ButtonModel",
      "state": {
       "description": "Undo",
       "layout": "IPY_MODEL_59c509a84c6f4628a26af40f8799739f",
       "style": "IPY_MODEL_6f424f7ffe134e3da1b60f0382dc5930",
       "tooltip": null
      }
     },
     "a0a485db16bb4438a32c5297022f3f46": {
      "model_module": "ipydatagrid",
      "model_module_version": "^1.1.16",
      "model_name": "TextRendererModel",
      "state": {
       "_model_module_version": "^1.1.16",
       "_view_module_version": "^1.1.16",
       "background_color": "IPY_MODEL_07f5f60b43dd4748838e28e678849595",
       "text_color": "IPY_MODEL_abdaee666c3c4e4eaf991269523a2796"
      }
     },
     "a4815f1f08fc4c378df19a341a61c89c": {
      "model_module": "@jupyter-widgets/controls",
      "model_module_version": "2.0.0",
      "model_name": "ButtonModel",
      "state": {
       "description": "Add Row",
       "layout": "IPY_MODEL_3faff197ddf54b4dbd45cc74ea1f359d",
       "style": "IPY_MODEL_5c1b9fefe0954a939411c5574f936595",
       "tooltip": null
      }
     },
     "a597aae28a0d471dbc72688ef8f0533f": {
      "model_module": "@jupyter-widgets/base",
      "model_module_version": "2.0.0",
      "model_name": "LayoutModel",
      "state": {
       "height": "250px"
      }
     },
     "abd45aea9fe1406185a120d913662814": {
      "model_module": "@jupyter-widgets/controls",
      "model_module_version": "2.0.0",
      "model_name": "ButtonModel",
      "state": {
       "description": "Generate Vectors",
       "layout": "IPY_MODEL_f2a5a337c8d74a318cff3bb6a9244de2",
       "style": "IPY_MODEL_3a8c046e56ec46aab8e5f9782d031bf1",
       "tooltip": null
      }
     },
     "abdaee666c3c4e4eaf991269523a2796": {
      "model_module": "ipydatagrid",
      "model_module_version": "^1.1.16",
      "model_name": "VegaExprModel",
      "state": {
       "_model_module_version": "^1.1.16",
       "_view_module": "ipydatagrid",
       "_view_module_version": "^1.1.16",
       "_view_name": "VegaExprView"
      }
     },
     "b19ec162f5ff492091b248bc5b2a62f3": {
      "model_module": "@jupyter-widgets/base",
      "model_module_version": "2.0.0",
      "model_name": "LayoutModel",
      "state": {}
     },
     "b43751d5eda646c191b9ee8e8ee72a1b": {
      "model_module": "@jupyter-widgets/controls",
      "model_module_version": "2.0.0",
      "model_name": "ButtonModel",
      "state": {
       "description": "Add Row",
       "layout": "IPY_MODEL_82fd4a997c10479eba75a2e7aa93ea69",
       "style": "IPY_MODEL_0225ce9b24c34efe823b049bf448d0ad",
       "tooltip": null
      }
     },
     "b43dba2f62e549bc9a83712aebf3d13d": {
      "model_module": "@jupyter-widgets/controls",
      "model_module_version": "2.0.0",
      "model_name": "HBoxModel",
      "state": {
       "children": [
        "IPY_MODEL_fefbdafaffa3465abd671377e9e77429",
        "IPY_MODEL_95723452e5644ddf8f8ee139e4bad692",
        "IPY_MODEL_a4815f1f08fc4c378df19a341a61c89c",
        "IPY_MODEL_10e38fc613fa45c68aa386e28c206d85",
        "IPY_MODEL_6a082094a13a4f5d9a3180871467cfbc"
       ],
       "layout": "IPY_MODEL_c7d8b70251d1488392dc653af8737fad"
      }
     },
     "b9849c74285d41329de745084f9d691d": {
      "model_module": "ipydatagrid",
      "model_module_version": "^1.1.16",
      "model_name": "DataGridModel",
      "state": {
       "_data": {
        "data": [
         {
          "0": "Vs",
          "1": "Vr1",
          "2": "dVr1",
          "3": "I",
          "4": "dI",
          "ipydguuid": 0,
          "key": "  Variable:"
         },
         {
          "0": "V",
          "1": "V",
          "2": "V",
          "3": "A",
          "4": "A",
          "ipydguuid": 1,
          "key": " Units:"
         },
         {
          "0": "0",
          "1": "0",
          "2": "0.02",
          "3": "0",
          "4": "0.005",
          "ipydguuid": 2,
          "key": 0
         },
         {
          "0": "0.45",
          "1": "0.11",
          "2": "0.03",
          "3": "0.009",
          "4": "0.01",
          "ipydguuid": 3,
          "key": 1
         },
         {
          "0": "0.90",
          "1": "0.19",
          "2": "0.02",
          "3": "0.020",
          "4": "0.005",
          "ipydguuid": 4,
          "key": 2
         },
         {
          "0": "1.10",
          "1": "0.28",
          "2": "0.02",
          "3": "0.029",
          "4": "0.005",
          "ipydguuid": 5,
          "key": 3
         },
         {
          "0": "1.65",
          "1": "0.41",
          "2": "0.03",
          "3": "0.043",
          "4": "0.01",
          "ipydguuid": 6,
          "key": 4
         },
         {
          "0": "2.10",
          "1": "0.53",
          "2": "0.02",
          "3": "0.053",
          "4": "0.005",
          "ipydguuid": 7,
          "key": 5
         },
         {
          "0": "2.70",
          "1": "0.67",
          "2": "0.03",
          "3": "0.070",
          "4": "0.01",
          "ipydguuid": 8,
          "key": 6
         },
         {
          "0": "3.2",
          "1": "0.80",
          "2": "0.03",
          "3": "0.078",
          "4": "0.01",
          "ipydguuid": 9,
          "key": 7
         }
        ],
        "fields": [
         {
          "key": null
         },
         {
          "0": null
         },
         {
          "1": null
         },
         {
          "2": null
         },
         {
          "3": null
         },
         {
          "4": null
         },
         {
          "ipydguuid": null
         }
        ],
        "schema": {
         "fields": [
          {
           "name": "key",
           "type": "string"
          },
          {
           "name": 0,
           "type": "string"
          },
          {
           "name": 1,
           "type": "string"
          },
          {
           "name": 2,
           "type": "string"
          },
          {
           "name": 3,
           "type": "string"
          },
          {
           "name": 4,
           "type": "string"
          },
          {
           "name": "ipydguuid",
           "type": "integer"
          }
         ],
         "pandas_version": "1.4.0",
         "primaryKey": [
          "key",
          "ipydguuid"
         ],
         "primaryKeyUuid": "ipydguuid"
        }
       },
       "_model_module_version": "^1.1.16",
       "_model_name": "DataGridModel",
       "_view_module_version": "^1.1.16",
       "auto_fit_columns": false,
       "auto_fit_params": {
        "area": "all",
        "numCols": null,
        "padding": 30
       },
       "base_column_header_size": 20,
       "base_column_size": 64,
       "base_row_header_size": 64,
       "base_row_size": 20,
       "default_renderer": "IPY_MODEL_b98a76018dad4c39bf55722e6a576e28",
       "editable": true,
       "header_visibility": "all",
       "layout": "IPY_MODEL_a597aae28a0d471dbc72688ef8f0533f",
       "selection_mode": "cell"
      }
     },
     "b98a76018dad4c39bf55722e6a576e28": {
      "model_module": "ipydatagrid",
      "model_module_version": "^1.1.16",
      "model_name": "TextRendererModel",
      "state": {
       "_model_module_version": "^1.1.16",
       "_view_module_version": "^1.1.16",
       "background_color": "IPY_MODEL_05b72223df2e4f9ba1f2b23c7542ca03",
       "text_color": "IPY_MODEL_792de6cbba38495ca2c50ad64bb3ba97"
      }
     },
     "bab6628d38b342478afe82502c7538b5": {
      "model_module": "@jupyter-widgets/controls",
      "model_module_version": "2.0.0",
      "model_name": "ButtonStyleModel",
      "state": {
       "font_family": null,
       "font_size": null,
       "font_style": null,
       "font_variant": null,
       "font_weight": null,
       "text_color": null,
       "text_decoration": null
      }
     },
     "beaaac6dddc94388a4a21a8df8752461": {
      "model_module": "@jupyter-widgets/base",
      "model_module_version": "2.0.0",
      "model_name": "LayoutModel",
      "state": {}
     },
     "c7d8b70251d1488392dc653af8737fad": {
      "model_module": "@jupyter-widgets/base",
      "model_module_version": "2.0.0",
      "model_name": "LayoutModel",
      "state": {}
     },
     "c9b660c6fd7648e1ace4d665abda97f5": {
      "model_module": "@jupyter-widgets/controls",
      "model_module_version": "2.0.0",
      "model_name": "ButtonStyleModel",
      "state": {
       "font_family": null,
       "font_size": null,
       "font_style": null,
       "font_variant": null,
       "font_weight": null,
       "text_color": null,
       "text_decoration": null
      }
     },
     "cdd02f7fd16e47a5ac1a31f936a29f60": {
      "model_module": "ipydatagrid",
      "model_module_version": "^1.1.16",
      "model_name": "DataGridModel",
      "state": {
       "_data": {
        "data": [
         {
          "0": "",
          "1": "",
          "2": "",
          "ipydguuid": 0,
          "key": "  Variable:"
         },
         {
          "0": "",
          "1": "",
          "2": "",
          "ipydguuid": 1,
          "key": " Units:"
         },
         {
          "0": "",
          "1": "",
          "2": "",
          "ipydguuid": 2,
          "key": 0
         },
         {
          "0": "",
          "1": "",
          "2": "",
          "ipydguuid": 3,
          "key": 1
         },
         {
          "0": "",
          "1": "",
          "2": "",
          "ipydguuid": 4,
          "key": 2
         },
         {
          "0": "",
          "1": "",
          "2": "",
          "ipydguuid": 5,
          "key": 3
         },
         {
          "0": "",
          "1": "",
          "2": "",
          "ipydguuid": 6,
          "key": 4
         },
         {
          "0": "",
          "1": "",
          "2": "",
          "ipydguuid": 7,
          "key": 5
         },
         {
          "0": "",
          "1": "",
          "2": "",
          "ipydguuid": 8,
          "key": 6
         },
         {
          "0": "",
          "1": "",
          "2": "",
          "ipydguuid": 9,
          "key": 7
         }
        ],
        "fields": [
         {
          "key": null
         },
         {
          "0": null
         },
         {
          "1": null
         },
         {
          "2": null
         },
         {
          "ipydguuid": null
         }
        ],
        "schema": {
         "fields": [
          {
           "name": "key",
           "type": "string"
          },
          {
           "name": 0,
           "type": "string"
          },
          {
           "name": 1,
           "type": "string"
          },
          {
           "name": 2,
           "type": "string"
          },
          {
           "name": "ipydguuid",
           "type": "integer"
          }
         ],
         "pandas_version": "1.4.0",
         "primaryKey": [
          "key",
          "ipydguuid"
         ],
         "primaryKeyUuid": "ipydguuid"
        }
       },
       "_model_module_version": "^1.1.16",
       "_model_name": "DataGridModel",
       "_view_module_version": "^1.1.16",
       "auto_fit_columns": false,
       "auto_fit_params": {
        "area": "all",
        "numCols": null,
        "padding": 30
       },
       "base_column_header_size": 20,
       "base_column_size": 64,
       "base_row_header_size": 64,
       "base_row_size": 20,
       "default_renderer": "IPY_MODEL_5e1e6efbb2fa46afab762b0266d7cd92",
       "editable": true,
       "header_visibility": "all",
       "layout": "IPY_MODEL_54894fbfba654f6c80915a53153f2733",
       "selection_mode": "cell"
      }
     },
     "d1a4d12a2f2b4f7b99c9b1cf0545db96": {
      "model_module": "@jupyter-widgets/controls",
      "model_module_version": "2.0.0",
      "model_name": "ButtonModel",
      "state": {
       "description": "Add Row",
       "layout": "IPY_MODEL_44c1cfcb9ded4fc19eb2bd282e46b97e",
       "style": "IPY_MODEL_c9b660c6fd7648e1ace4d665abda97f5",
       "tooltip": null
      }
     },
     "e0c2af9ccc7843dd829eec37b7831fb0": {
      "model_module": "@jupyter-widgets/output",
      "model_module_version": "1.0.0",
      "model_name": "OutputModel",
      "state": {
       "layout": "IPY_MODEL_1fa1e07d601d48889fb1095c77e602b4"
      }
     },
     "ea170c12f810475e93ae43f5facf5bf5": {
      "model_module": "ipydatagrid",
      "model_module_version": "^1.1.16",
      "model_name": "VegaExprModel",
      "state": {
       "_model_module_version": "^1.1.16",
       "_view_module": "ipydatagrid",
       "_view_module_version": "^1.1.16",
       "_view_name": "VegaExprView"
      }
     },
     "eca316377de549bb9aea1d338303363b": {
      "model_module": "@jupyter-widgets/controls",
      "model_module_version": "2.0.0",
      "model_name": "HBoxModel",
      "state": {
       "children": [
        "IPY_MODEL_48a097d266a84a64aad83e09834f8047",
        "IPY_MODEL_9aad82104a12407aad11d2805ac21fc0",
        "IPY_MODEL_d1a4d12a2f2b4f7b99c9b1cf0545db96",
        "IPY_MODEL_f6c272248ec544a19708f31b44c2c2f9",
        "IPY_MODEL_abd45aea9fe1406185a120d913662814"
       ],
       "layout": "IPY_MODEL_8ce76c76e96d435eb5b80bac29fed1b4"
      }
     },
     "ef3ee3c8d18d450ea541bb459473e684": {
      "model_module": "@jupyter-widgets/controls",
      "model_module_version": "2.0.0",
      "model_name": "ButtonStyleModel",
      "state": {
       "font_family": null,
       "font_size": null,
       "font_style": null,
       "font_variant": null,
       "font_weight": null,
       "text_color": null,
       "text_decoration": null
      }
     },
     "f2a5a337c8d74a318cff3bb6a9244de2": {
      "model_module": "@jupyter-widgets/base",
      "model_module_version": "2.0.0",
      "model_name": "LayoutModel",
      "state": {}
     },
     "f4f0316a79a84083b6c9ea9abf5bf25a": {
      "model_module": "@jupyter-widgets/base",
      "model_module_version": "2.0.0",
      "model_name": "LayoutModel",
      "state": {}
     },
     "f6c272248ec544a19708f31b44c2c2f9": {
      "model_module": "@jupyter-widgets/controls",
      "model_module_version": "2.0.0",
      "model_name": "ButtonModel",
      "state": {
       "description": "Add Column",
       "layout": "IPY_MODEL_3f37ed9f365949efbfdf5dd3352c9b84",
       "style": "IPY_MODEL_bab6628d38b342478afe82502c7538b5",
       "tooltip": null
      }
     },
     "fb44c94a00d54a79a334aa843751ef91": {
      "model_module": "@jupyter-widgets/base",
      "model_module_version": "2.0.0",
      "model_name": "LayoutModel",
      "state": {}
     },
     "fefbdafaffa3465abd671377e9e77429": {
      "model_module": "@jupyter-widgets/controls",
      "model_module_version": "2.0.0",
      "model_name": "ButtonModel",
      "state": {
       "description": "Undo",
       "layout": "IPY_MODEL_fb44c94a00d54a79a334aa843751ef91",
       "style": "IPY_MODEL_5ceb0af73fad4a538891f08ec2d7ae79",
       "tooltip": null
      }
     },
     "ffe5f6cb095a462498e22bbea9e17d00": {
      "model_module": "@jupyter-widgets/base",
      "model_module_version": "2.0.0",
      "model_name": "LayoutModel",
      "state": {}
     }
    },
    "version_major": 2,
    "version_minor": 0
   }
  }
 },
 "nbformat": 4,
 "nbformat_minor": 5
}
